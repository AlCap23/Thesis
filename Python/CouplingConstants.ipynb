{
 "cells": [
  {
   "cell_type": "markdown",
   "metadata": {
    "deletable": true,
    "editable": true
   },
   "source": [
    "# Taylor Expansion of a decoupled System\n",
    "\n",
    "In the Paper 'Design of Decoupled Controllers for MIMO Systems' by Aström, Johansson and Wang the Decoupling for small frequencies is described.\n",
    "\n",
    "The following calculation is based on the First Order Time Delay (FOTD) Identification method, which results in a Two Input Two Output (TITO) System for the System in feedforward representation. \n",
    "\n",
    "To Decouple the system a Taylor Series around the steady state s=0 is used to derive Interaction from an input to another output. Since we approximate the system always with a FOTD Model, we can derive the interaction:"
   ]
  },
  {
   "cell_type": "code",
   "execution_count": 1,
   "metadata": {
    "collapsed": true,
    "deletable": true,
    "editable": true
   },
   "outputs": [],
   "source": [
    "# Import the needed packages, SymPy\n",
    "import sympy as sp\n",
    "from sympy import init_printing\n",
    "init_printing()"
   ]
  },
  {
   "cell_type": "code",
   "execution_count": 2,
   "metadata": {
    "collapsed": false,
    "deletable": true,
    "editable": true
   },
   "outputs": [],
   "source": [
    "# Define the variables\n",
    "# Complex variable\n",
    "s = sp.symbols('s')\n",
    "# FOTD Coeffficients\n",
    "T1,T2,T3,T4 = sp.symbols('T_1 T_2 T_3 T_4')\n",
    "K1,K2,K3,K4 = sp.symbols('K_1 K_2 K_3 K_4')\n",
    "# Time Delay Coefficients\n",
    "L1,L2,L3,L4 = sp.symbols('L_1 L_2 L_3 L_4')\n",
    "\n",
    "# Vectorize\n",
    "TV = [T1,T2,T3,T4]\n",
    "KV = [K1,K2,K3,K4]\n",
    "LV = [L1,L2,L3,L4]\n",
    "\n",
    "# Define a FOTD\n",
    "def FOTD(K,T,L):\n",
    "    return K/(T*s+1) * sp.exp(-L*s)"
   ]
  },
  {
   "cell_type": "code",
   "execution_count": 3,
   "metadata": {
    "collapsed": false,
    "deletable": true,
    "editable": true
   },
   "outputs": [
    {
     "data": {
      "image/png": "[encoded data removed]",
      "text/latex": [
       "$$\\left[\\begin{matrix}\\frac{\\left(K_{1} K_{4} \\left(T_{2} s + 1\\right) e^{L_{2} s} - K_{2} K_{3} \\left(T_{1} s + 1\\right) e^{L_{1} s}\\right) e^{- s \\left(L_{1} + L_{2}\\right)}}{\\left(K_{1} K_{4} - K_{2} K_{3}\\right) \\left(T_{1} s + 1\\right) \\left(T_{2} s + 1\\right)} & \\frac{K_{1} K_{2} \\left(\\left(T_{1} s + 1\\right) e^{L_{1} s} - \\left(T_{2} s + 1\\right) e^{L_{2} s}\\right) e^{- s \\left(L_{1} + L_{2}\\right)}}{\\left(K_{1} K_{4} - K_{2} K_{3}\\right) \\left(T_{1} s + 1\\right) \\left(T_{2} s + 1\\right)}\\\\\\frac{K_{3} K_{4} \\left(- \\left(T_{3} s + 1\\right) e^{L_{3} s} + \\left(T_{4} s + 1\\right) e^{L_{4} s}\\right) e^{- s \\left(L_{3} + L_{4}\\right)}}{\\left(K_{1} K_{4} - K_{2} K_{3}\\right) \\left(T_{3} s + 1\\right) \\left(T_{4} s + 1\\right)} & \\frac{\\left(K_{1} K_{4} \\left(T_{3} s + 1\\right) e^{L_{3} s} - K_{2} K_{3} \\left(T_{4} s + 1\\right) e^{L_{4} s}\\right) e^{- s \\left(L_{3} + L_{4}\\right)}}{\\left(K_{1} K_{4} - K_{2} K_{3}\\right) \\left(T_{3} s + 1\\right) \\left(T_{4} s + 1\\right)}\\end{matrix}\\right]$$"
      ],
      "text/plain": [
       "⎡⎛                  L₂⋅s                     L₁⋅s⎞  -s⋅(L₁ + L₂)           ⎛  \n",
       "⎢⎝K₁⋅K₄⋅(T₂⋅s + 1)⋅ℯ     - K₂⋅K₃⋅(T₁⋅s + 1)⋅ℯ    ⎠⋅ℯ                 K₁⋅K₂⋅⎝(T\n",
       "⎢───────────────────────────────────────────────────────────────     ─────────\n",
       "⎢             (K₁⋅K₄ - K₂⋅K₃)⋅(T₁⋅s + 1)⋅(T₂⋅s + 1)                           \n",
       "⎢                                                                             \n",
       "⎢        ⎛              L₃⋅s               L₄⋅s⎞  -s⋅(L₃ + L₄)    ⎛           \n",
       "⎢  K₃⋅K₄⋅⎝- (T₃⋅s + 1)⋅ℯ     + (T₄⋅s + 1)⋅ℯ    ⎠⋅ℯ                ⎝K₁⋅K₄⋅(T₃⋅s\n",
       "⎢  ───────────────────────────────────────────────────────────    ────────────\n",
       "⎣             (K₁⋅K₄ - K₂⋅K₃)⋅(T₃⋅s + 1)⋅(T₄⋅s + 1)                           \n",
       "\n",
       "          L₁⋅s               L₂⋅s⎞  -s⋅(L₁ + L₂)   ⎤\n",
       "₁⋅s + 1)⋅ℯ     - (T₂⋅s + 1)⋅ℯ    ⎠⋅ℯ               ⎥\n",
       "────────────────────────────────────────────────   ⎥\n",
       " (K₁⋅K₄ - K₂⋅K₃)⋅(T₁⋅s + 1)⋅(T₂⋅s + 1)             ⎥\n",
       "                                                   ⎥\n",
       "       L₃⋅s                     L₄⋅s⎞  -s⋅(L₃ + L₄)⎥\n",
       " + 1)⋅ℯ     - K₂⋅K₃⋅(T₄⋅s + 1)⋅ℯ    ⎠⋅ℯ            ⎥\n",
       "───────────────────────────────────────────────────⎥\n",
       " (K₁⋅K₄ - K₂⋅K₃)⋅(T₃⋅s + 1)⋅(T₄⋅s + 1)             ⎦"
      ]
     },
     "execution_count": 3,
     "metadata": {},
     "output_type": "execute_result"
    }
   ],
   "source": [
    "#Define a Matrix of FOTD\n",
    "G = sp.zeros(2)\n",
    "for i in range(0,4):\n",
    "    G[i]= FOTD(KV[i],TV[i],LV[i])\n",
    "\n",
    "#Get the DC Gain and invert it for Static Decoupling \n",
    "G0 = G.subs(s,0)\n",
    "D = sp.simplify(G0**-1)\n",
    "\n",
    "#Get the Q Matrix -> the static decoupled system\n",
    "Q = sp.simplify(G*D)\n",
    "Q"
   ]
  },
  {
   "cell_type": "code",
   "execution_count": 4,
   "metadata": {
    "collapsed": false,
    "deletable": true,
    "editable": true,
    "scrolled": true
   },
   "outputs": [],
   "source": [
    "# Get the Taylor series Expansion for the Interaction of Q approx I + O(s)\n",
    "k12 = sp.simplify(Q[1].series(s,0,2).removeO())\n",
    "k21 = sp.simplify(Q[2].series(s,0,2).removeO())"
   ]
  },
  {
   "cell_type": "code",
   "execution_count": 5,
   "metadata": {
    "collapsed": false,
    "deletable": true,
    "editable": true
   },
   "outputs": [
    {
     "data": {
      "image/png": "[encoded data removed]",
      "text/latex": [
       "$$\\frac{K_{1} K_{2} s \\left(L_{1} - L_{2} + T_{1} - T_{2}\\right)}{K_{1} K_{4} - K_{2} K_{3}}$$"
      ],
      "text/plain": [
       "K₁⋅K₂⋅s⋅(L₁ - L₂ + T₁ - T₂)\n",
       "───────────────────────────\n",
       "       K₁⋅K₄ - K₂⋅K₃       "
      ]
     },
     "execution_count": 5,
     "metadata": {},
     "output_type": "execute_result"
    }
   ],
   "source": [
    "# Print the Interaction of Input 2 on Output 1 in small frequencies\n",
    "k12"
   ]
  },
  {
   "cell_type": "code",
   "execution_count": 6,
   "metadata": {
    "collapsed": false,
    "deletable": true,
    "editable": true
   },
   "outputs": [
    {
     "data": {
      "image/png": "[encoded data removed]",
      "text/latex": [
       "$$- \\frac{K_{3} K_{4} s \\left(L_{3} - L_{4} + T_{3} - T_{4}\\right)}{K_{1} K_{4} - K_{2} K_{3}}$$"
      ],
      "text/plain": [
       "-K₃⋅K₄⋅s⋅(L₃ - L₄ + T₃ - T₄) \n",
       "─────────────────────────────\n",
       "        K₁⋅K₄ - K₂⋅K₃        "
      ]
     },
     "execution_count": 6,
     "metadata": {},
     "output_type": "execute_result"
    }
   ],
   "source": [
    "# Print the Interaction of Input 1 on Output 2 in small frequencies\n",
    "k21"
   ]
  },
  {
   "cell_type": "markdown",
   "metadata": {
    "deletable": true,
    "editable": true
   },
   "source": [
    "# Interpretation\n",
    "\n",
    "We can see that the inverse of the determinant of the DCGain is a scaling factor describing the influence of the main diagonal elements in relation to the off diagonal elements. Hence, if the matrix is nearly equal in its gains the interaction is large.\n",
    "\n",
    "The scaling is completed with the influence of the gains of the row affecting the output.\n",
    "\n",
    "The results of the calculation give a direct interpretation:\n",
    "Consider a TITO system described by FOTD functions. The Influence of the static decoupled system Q from an input i on an output j is neglectable iff:\n",
    "\n",
    "- $T_i = T_j$ and $L_i = L_j$\n",
    "- $T_i = L_j$ and $T_j = L_i$\n",
    "- $K_i K_j \\leq 1$ and $det(G_0) \\geq 1$\n",
    "\n",
    "# Decomposition of the Interaction\n",
    "\n",
    "Since we want to directly apply the AMIGO procedure, we can state that:\n",
    "\n",
    "$Q C^* = G \\underbrace{D C}_{C^*} = G C'$\n",
    "\n",
    "Where $C'$ is the controller we would design from the regular system. Hence, we force the regular controller to behave like the ideal, decoupling controller.\n",
    "\n",
    "$ D C = C'$\n",
    "\n",
    "Or to get the decoupling controller as a function of the regular controller:\n",
    "\n",
    "$C = D^{-1} C'$"
   ]
  },
  {
   "cell_type": "code",
   "execution_count": 7,
   "metadata": {
    "collapsed": true,
    "deletable": true,
    "editable": true
   },
   "outputs": [],
   "source": [
    "# Define the symbols for interaction\n",
    "k1,k2 = sp.symbols('k_1 k_2', real = True) \n",
    "c1,c2 = sp.symbols('c_1 c_2',real = True)\n",
    "# Define symbols for the decoupling controller --> SMALL LETTER\n",
    "ki1,ki2 = sp.symbols('k_{i1} k_{i2}',real = True)\n",
    "kp1,kp2 = sp.symbols('k_{p1} k_{p2}',real = True)\n",
    "b = sp.symbols('b',real = True)\n",
    "# Define the symbols for the regular controller\n",
    "KI1,KI2,KI3,KI4 = sp.symbols('K_{I1} K_{I2} K_{I3} K_{I4}',real = True)\n",
    "KP1,KP2,KP3,KP4 = sp.symbols('K_{P1} K_{P2} K_{P3} K_{P4}',real = True)\n",
    "B = sp.symbols('B',real = True)\n",
    "# Vectorize\n",
    "kV = [k1,k2]\n",
    "cV = [c1,c2]\n",
    "kiV = [ki1,ki2]\n",
    "kpV = [kp1,kp2]\n",
    "solvar =[ki1,ki2,kp1,kp2]\n",
    "KIV = [KI1,KI2,KI3,KI4]\n",
    "KPV = [KP1,KP2,KP3,KP4]"
   ]
  },
  {
   "cell_type": "code",
   "execution_count": 8,
   "metadata": {
    "collapsed": false
   },
   "outputs": [],
   "source": [
    "# Create a symbolic Controller\n",
    "def PI(I,P,S):\n",
    "    # Here S is setpointweight\n",
    "    return P*S+I/s\n",
    "\n",
    "# Create an decoupling controller for the \n",
    "C_D = sp.diag(PI(ki1,kp1,1),PI(ki2,kp2,1))\n",
    "# Create the regular controller\n",
    "C_R = sp.zeros(2)\n",
    "for i in range(0,4):\n",
    "    C_R[i]= PI(KIV[i],KPV[i],1)\n",
    "\n",
    "C_RD = G.subs(s,0) * C_R\n",
    "\n",
    "# Get substituion Rules -> make a list of equations\n",
    "EQ = []\n",
    "for i in range(0,4):\n",
    "    EQ.append(C_D[i]- C_RD[i])"
   ]
  },
  {
   "cell_type": "markdown",
   "metadata": {},
   "source": [
    "We now have a system of 4 Equations we can set to zero. We have to solve for four variables, the parameter of the decoupling controller, to get the desired connection from the heueristic rules for FOTD Systems to the more complex system.\n",
    "\n",
    "We can divide these four equations into two Blocks:\n",
    "- Block one, containing the decoupled controller, we can use to solve for the decoupling controller\n",
    "- Block two, containing information about the ratio between the relation of the four controller\n",
    "\n",
    "So use the following algorithm:\n",
    "- Pick two Transfer functions from the system $G(s)$\n",
    "- Use the static gains to solve for relation which is needed for the two and reduce the equations to two regular controllers in relation with each other\n",
    "- Solve for kI"
   ]
  },
  {
   "cell_type": "code",
   "execution_count": 10,
   "metadata": {
    "collapsed": false
   },
   "outputs": [],
   "source": [
    "# Solve for the Integral parts of the decoupling controllers\n",
    "kiEQ = [EQ[0],EQ[3]]\n",
    "kisol = sp.solve(kiEQ,[C_D[0],C_D[3]],dict=True)\n",
    "# Solve for the ratio of the regular controllers\n",
    "KEQ = [EQ[1],EQ[2]]\n",
    "# Choose to substitute the minor diagonals -> solve \n",
    "Ksol = sp.solve(KEQ,[C_R[1],C_R[2]], dict=True)\n",
    "# Substitute the minor diagonals in the solution for ki\n",
    "# We have a system of polynomials! Hence, we can get the right ratio of coefficient analysis\n",
    "# Regular controller -> First minor diagonal\n",
    "a = C_R[1] # Chose controller from input 2 to output 1\n",
    "expr = sp.simplify(Ksol[0][a]).expand()\n",
    "# Get the coefficients corresponding to 1/s\n",
    "I12 = expr.coeff('1/s');\n",
    "# Get the coefficients corresponding to Proportional Gain\n",
    "P12 = sp.simplify(expr-I12/s)\n",
    "\n",
    "# Next controller\n",
    "a = C_R[2]\n",
    "expr = sp.simplify(Ksol[0][a]).expand()\n",
    "# Get the coefficients corresponding to 1/s\n",
    "I21= expr.coeff('1/s')\n",
    "# Get the coefficients corresponding to Proportional Gain\n",
    "P21 = sp.simplify(expr-I21/s)"
   ]
  },
  {
   "cell_type": "code",
   "execution_count": 11,
   "metadata": {
    "collapsed": false
   },
   "outputs": [
    {
     "data": {
      "image/png": "[encoded data removed]",
      "text/latex": [
       "$$\\frac{K_{4} K_{I4}}{s} + K_{4} K_{P4} - \\frac{K_{2} K_{3} K_{I4}}{K_{1} s} - \\frac{K_{2} K_{3}}{K_{1}} K_{P4}$$"
      ],
      "text/plain": [
       "K₄⋅K_{I4}               K₂⋅K₃⋅K_{I4}   K₂⋅K₃⋅K_{P4}\n",
       "───────── + K₄⋅K_{P4} - ──────────── - ────────────\n",
       "    s                       K₁⋅s            K₁     "
      ]
     },
     "execution_count": 11,
     "metadata": {},
     "output_type": "execute_result"
    }
   ],
   "source": [
    "a = C_D[0]\n",
    "sub1 = kisol[0][a].subs(KPV[1],P12).subs(KPV[2],P21).subs(KIV[1],I12).subs(KIV[2],I21)\n",
    "sub1 = sp.simplify(sub1)\n",
    "a = C_D[3]\n",
    "sub2 = kisol[0][a].subs(KPV[1],P12).subs(KPV[2],P21).subs(KIV[1],I12).subs(KIV[2],I21)\n",
    "sub2 = sp.simplify(sub2)\n",
    "sub2"
   ]
  },
  {
   "cell_type": "code",
   "execution_count": 12,
   "metadata": {
    "collapsed": false
   },
   "outputs": [
    {
     "data": {
      "image/png": "[encoded data removed]",
      "text/latex": [
       "$$\\left ( \\frac{K_{P1}}{K_{4}} \\left(K_{1} K_{4} - K_{2} K_{3}\\right), \\quad \\frac{K_{I1}}{K_{4}} \\left(K_{1} K_{4} - K_{2} K_{3}\\right)\\right )$$"
      ],
      "text/plain": [
       "⎛K_{P1}⋅(K₁⋅K₄ - K₂⋅K₃)  K_{I1}⋅(K₁⋅K₄ - K₂⋅K₃)⎞\n",
       "⎜──────────────────────, ──────────────────────⎟\n",
       "⎝          K₄                      K₄          ⎠"
      ]
     },
     "execution_count": 12,
     "metadata": {},
     "output_type": "execute_result"
    }
   ],
   "source": [
    "# Decoupling controller 1 -> We can directly see the proportional and integral coeffcients\n",
    "sp.simplify(sub1-sub1.coeff('1/s')/s),sp.simplify(sub1.coeff('1/s'))"
   ]
  },
  {
   "cell_type": "code",
   "execution_count": 13,
   "metadata": {
    "collapsed": false
   },
   "outputs": [
    {
     "data": {
      "image/png": "[encoded data removed]",
      "text/latex": [
       "$$\\left ( \\frac{K_{P4}}{K_{1}} \\left(K_{1} K_{4} - K_{2} K_{3}\\right), \\quad \\frac{K_{I4}}{K_{1}} \\left(K_{1} K_{4} - K_{2} K_{3}\\right)\\right )$$"
      ],
      "text/plain": [
       "⎛K_{P4}⋅(K₁⋅K₄ - K₂⋅K₃)  K_{I4}⋅(K₁⋅K₄ - K₂⋅K₃)⎞\n",
       "⎜──────────────────────, ──────────────────────⎟\n",
       "⎝          K₁                      K₁          ⎠"
      ]
     },
     "execution_count": 13,
     "metadata": {},
     "output_type": "execute_result"
    }
   ],
   "source": [
    "# Decoupling controller 2 -> We can directly see the proportional and integral coeffcients\n",
    "sp.simplify(sub2-sub2.coeff('1/s')/s),sp.simplify(sub2.coeff('1/s'))"
   ]
  },
  {
   "cell_type": "markdown",
   "metadata": {},
   "source": [
    "The equations can be interpreted as follows:\n",
    "\n",
    "- The main diagonal brings the connection between the regular controller designed on behalf the system $G(s)$\n",
    "- The minor diagonal gives two equations for the regular controller designed by t"
   ]
  },
  {
   "cell_type": "code",
   "execution_count": 19,
   "metadata": {
    "collapsed": true
   },
   "outputs": [],
   "source": [
    "# Get the Substituon for Q\n",
    "q11,q12,q21,q22 = sp.symbols('q_{11} q_{12} q_{21} q_{22}')\n",
    "q = [q11,q12,q21,q22]\n",
    "S = sp.zeros(2)\n",
    "for i in range(0,4):\n",
    "    S[i] = q[i]"
   ]
  },
  {
   "cell_type": "code",
   "execution_count": 25,
   "metadata": {
    "collapsed": false
   },
   "outputs": [],
   "source": [
    "# Stability for loop 1\n",
    "h12 =(1+q[0]*C_D[0])\n"
   ]
  },
  {
   "cell_type": "code",
   "execution_count": 26,
   "metadata": {
    "collapsed": false
   },
   "outputs": [
    {
     "data": {
      "image/png": "[encoded data removed]",
      "text/latex": [
       "$$\\frac{e^{- s \\left(L_{1} + L_{2}\\right)}}{s \\left(K_{1} K_{4} - K_{2} K_{3}\\right) \\left(T_{1} s + 1\\right) \\left(T_{2} s + 1\\right)} \\left(s \\left(K_{1} K_{4} - K_{2} K_{3}\\right) \\left(T_{1} s + 1\\right) \\left(T_{2} s + 1\\right) e^{s \\left(L_{1} + L_{2}\\right)} + \\left(k_{i1} + k_{p1} s\\right) \\left(K_{1} K_{4} \\left(T_{2} s + 1\\right) e^{L_{2} s} - K_{2} K_{3} \\left(T_{1} s + 1\\right) e^{L_{1} s}\\right)\\right)$$"
      ],
      "text/plain": [
       "⎛                                         s⋅(L₁ + L₂)                       ⎛ \n",
       "⎝s⋅(K₁⋅K₄ - K₂⋅K₃)⋅(T₁⋅s + 1)⋅(T₂⋅s + 1)⋅ℯ            + (k_{i1} + k_{p1}⋅s)⋅⎝K\n",
       "──────────────────────────────────────────────────────────────────────────────\n",
       "                                                  s⋅(K₁⋅K₄ - K₂⋅K₃)⋅(T₁⋅s + 1)\n",
       "\n",
       "                 L₂⋅s                     L₁⋅s⎞⎞  -s⋅(L₁ + L₂)\n",
       "₁⋅K₄⋅(T₂⋅s + 1)⋅ℯ     - K₂⋅K₃⋅(T₁⋅s + 1)⋅ℯ    ⎠⎠⋅ℯ            \n",
       "──────────────────────────────────────────────────────────────\n",
       "⋅(T₂⋅s + 1)                                                   "
      ]
     },
     "execution_count": 26,
     "metadata": {},
     "output_type": "execute_result"
    }
   ],
   "source": [
    "sp.simplify(h12.subs(q[0],Q[0]).subs(q[1],Q[1]).subs(q[2],Q[2]).subs(q[3],Q[3]))"
   ]
  },
  {
   "cell_type": "code",
   "execution_count": null,
   "metadata": {
    "collapsed": true
   },
   "outputs": [],
   "source": []
  }
 ],
 "metadata": {
  "kernelspec": {
   "display_name": "Python 3",
   "language": "python",
   "name": "python3"
  },
  "language_info": {
   "codemirror_mode": {
    "name": "ipython",
    "version": 3
   },
   "file_extension": ".py",
   "mimetype": "text/x-python",
   "name": "python",
   "nbconvert_exporter": "python",
   "pygments_lexer": "ipython3",
   "version": "3.6.1"
  }
 },
 "nbformat": 4,
 "nbformat_minor": 2
}
