{
 "cells": [
  {
   "cell_type": "markdown",
   "metadata": {
    "deletable": true,
    "editable": true
   },
   "source": [
    "# First Order Time Delay Controller - Simpler Interpretation\n",
    "\n",
    "In the Paper 'Design of Decoupled Controllers for MIMO Systems' by Aström, Johansson and Wang the Decoupling for small frequencies is described.\n",
    "\n",
    "The following calculation is based on the First Order Time Delay (FOTD) Identification method, which results in a Two Input Two Output (TITO) System for the System in feedforward representation. \n",
    "\n",
    "To Decouple the system a Taylor Series around the steady state s=0 is used to derive Interaction from an input to another output. Since we approximate the system always with a FOTD Model, we can derive the interaction:"
   ]
  },
  {
   "cell_type": "code",
   "execution_count": 1,
   "metadata": {
    "collapsed": true,
    "deletable": true,
    "editable": true
   },
   "outputs": [],
   "source": [
    "# Import the needed packages, SymPy\n",
    "import sympy as sp\n",
    "from sympy import init_printing\n",
    "init_printing()"
   ]
  },
  {
   "cell_type": "code",
   "execution_count": 2,
   "metadata": {
    "collapsed": false,
    "deletable": true,
    "editable": true
   },
   "outputs": [],
   "source": [
    "# Define the variables\n",
    "# Complex variable\n",
    "s = sp.symbols('s')\n",
    "# FOTD Coeffficients\n",
    "T1,T2,T3,T4 = sp.symbols('T_11 T_12 T_21 T_22')\n",
    "K1,K2,K3,K4 = sp.symbols('K_11 K_12 K_21 K_22')\n",
    "# Time Delay Coefficients\n",
    "L1,L2,L3,L4 = sp.symbols('L_11 L_12 L_21 L_22')\n",
    "# Controller variables for the diagonal controller for Q\n",
    "C1D, C2D = sp.symbols('C_11^* C_22^*')\n",
    "# Controller variables for the diagonal controller for G\n",
    "C1, C2 = sp.symbols('C_11 C_22')\n",
    "# Proportional Gain\n",
    "kp1,kp2= sp.symbols('k_P1 k_P2')\n",
    "# Integral Gain\n",
    "ki1,ki2 = sp.symbols('k_I1 k_I2')\n",
    "\n",
    "# Vectorize\n",
    "TV = [T1,T2,T3,T4]\n",
    "KV = [K1,K2,K3,K4]\n",
    "LV = [L1,L2,L3,L4]\n",
    "QV = [[C1D,0],[0,C2D]]\n",
    "GV = [[C1,0],[0,C2]]\n",
    "PV = [[kp1,0],[0,kp2]]\n",
    "IV = [[ki1,0],[0,ki2]]\n",
    "\n",
    "\n",
    "# Define a FOTD\n",
    "def FOTD(K,T,L):\n",
    "    return K/(T*s+1) * sp.exp(-L*s)\n",
    "\n",
    "#Define a Matrix of FOTD with diagonal and antidiagonal part\n",
    "G = sp.zeros(2)\n",
    "for i in range(0,4):\n",
    "    G[i]= FOTD(KV[i],TV[i],LV[i])\n",
    "    \n",
    "GD = sp.Matrix([[G[0],0],[0,G[3]]])\n",
    "GA = sp.Matrix([[0,G[1]],[G[2],0]])\n",
    "    \n",
    "#Define the diagonal controller in Q\n",
    "KQ = sp.Matrix(QV)\n",
    "\n",
    "#Define the diagonal controller in G\n",
    "KG = sp.Matrix(GV)\n",
    "\n",
    "# Define the Proportional and Integral Controller for later use\n",
    "KP = sp.Matrix(PV)\n",
    "KI = sp.Matrix(IV)\n",
    "PI = KP+KI*(1/s)\n",
    "# Define the decoupler with diagonal and antidiagonal part\n",
    "D = G.subs(s,0)\n",
    "D = sp.simplify(D**-1)\n",
    "DD = sp.Matrix([[D[0],0],[0,D[3]]])\n",
    "DA = sp.Matrix([[0,D[1]],[D[2],0]])"
   ]
  },
  {
   "cell_type": "markdown",
   "metadata": {},
   "source": [
    "## Design the Splitter\n",
    "\n",
    "The splitter is an equivalent interpretation of the decoupler but holds a much more intuitive interpretation of the problem of decoupling with regards to the diagonal controller designed from the transfer function matrix.\n",
    "\n",
    "It is given as\n",
    "$S = D D_D^{-1}$"
   ]
  },
  {
   "cell_type": "code",
   "execution_count": 3,
   "metadata": {
    "collapsed": true
   },
   "outputs": [],
   "source": [
    "# Define the splitter for static decoupling\n",
    "SS = D*DD.inv()"
   ]
  },
  {
   "cell_type": "markdown",
   "metadata": {},
   "source": [
    "## Get the Interaction\n",
    "Since we want to detune with respect to the interaction of the antidiagonal parts, we can directly identify the first coefficients of the Taylor Series\n",
    "\n",
    "$\\Gamma_A = \\frac{d}{ds} \\left[G_D D_A D_D^{-1} + G_A\\right]$\n",
    "\n",
    "And Solve for the interaction\n",
    "\n",
    "$K_I \\leq \\frac{1}{\\sigma} \\Gamma_A^{-1} H_{A,Max}$"
   ]
  },
  {
   "cell_type": "code",
   "execution_count": 4,
   "metadata": {
    "collapsed": false,
    "deletable": true,
    "editable": true
   },
   "outputs": [
    {
     "data": {
      "image/png": "[encoded data removed]",
      "text/latex": [
       "$$\\left ( \\left[\\begin{matrix}\\frac{h_{21}}{K_{21} \\sigma s \\left(- L_{21} + L_{22} - T_{21} + T_{22}\\right)} & 0\\\\0 & \\frac{h_{12}}{K_{12} \\sigma s \\left(L_{11} - L_{12} + T_{11} - T_{12}\\right)}\\end{matrix}\\right], \\quad \\left[\\begin{matrix}0 & K_{12} s \\left(L_{11} - L_{12} + T_{11} - T_{12}\\right)\\\\K_{21} s \\left(- L_{21} + L_{22} - T_{21} + T_{22}\\right) & 0\\end{matrix}\\right]\\right )$$"
      ],
      "text/plain": [
       "⎛⎡                 h₂₁                                                       ⎤\n",
       "⎜⎢─────────────────────────────────────                   0                  ⎥\n",
       "⎜⎢K₂₁⋅\\sigma⋅s⋅(-L₂₁ + L₂₂ - T₂₁ + T₂₂)                                      ⎥\n",
       "⎜⎢                                                                           ⎥\n",
       "⎜⎢                                                       h₁₂                 ⎥\n",
       "⎜⎢                  0                    ────────────────────────────────────⎥\n",
       "⎝⎣                                       K₁₂⋅\\sigma⋅s⋅(L₁₁ - L₁₂ + T₁₁ - T₁₂)⎦\n",
       "\n",
       "                                                                 ⎞\n",
       ", ⎡              0                 K₁₂⋅s⋅(L₁₁ - L₁₂ + T₁₁ - T₁₂)⎤⎟\n",
       "  ⎢                                                             ⎥⎟\n",
       "  ⎣K₂₁⋅s⋅(-L₂₁ + L₂₂ - T₂₁ + T₂₂)                0              ⎦⎟\n",
       "                                                                 ⎟\n",
       "                                                                 ⎟\n",
       "                                                                 ⎠"
      ]
     },
     "execution_count": 4,
     "metadata": {},
     "output_type": "execute_result"
    }
   ],
   "source": [
    "# Get the Gamma Matrix with the assumption of \n",
    "Gamma = sp.simplify(sp.diff(GD*DA*DD.inv()+GA,s).subs(s,0))*s\n",
    "# Get the Equations for H\n",
    "h12, h21 = sp.symbols('h_12 h_21')\n",
    "# Get the safety factor ( interpreted as maximum sensitivity)\n",
    "sigma = sp.symbols('\\sigma')\n",
    "HMax = sp.Matrix([[0,h12],[h21,0]])\n",
    "1/sigma*Gamma.inv()*HMax,Gamma"
   ]
  },
  {
   "cell_type": "markdown",
   "metadata": {},
   "source": [
    "### Design a Dynamic Decoupler\n"
   ]
  },
  {
   "cell_type": "code",
   "execution_count": 12,
   "metadata": {
    "collapsed": false
   },
   "outputs": [],
   "source": [
    "# Approximate FOTD with Taylor series\n",
    "def AFOTD(K,T,L):\n",
    "    return K/(T*s+1) * (1-s*L)\n",
    "\n",
    "#Define a Matrix of FOTD with diagonal and antidiagonal part\n",
    "G = sp.zeros(2)\n",
    "for i in range(0,4):\n",
    "    G[i]= AFOTD(KV[i],TV[i],LV[i])\n",
    "    \n",
    "GD = sp.Matrix([[G[0],0],[0,G[3]]])\n",
    "GA = sp.Matrix([[0,G[1]],[G[2],0]])\n",
    "\n",
    "# Define a decoupler\n",
    "D = sp.simplify(G.inv())\n",
    "DD = sp.Matrix([[D[0],0],[0,D[3]]])\n",
    "DA = sp.Matrix([[0,D[1]],[D[2],0]])"
   ]
  },
  {
   "cell_type": "code",
   "execution_count": 14,
   "metadata": {
    "collapsed": false
   },
   "outputs": [
    {
     "data": {
      "image/png": "[encoded data removed]",
      "text/latex": [
       "$$\\left[\\begin{matrix}0 & - \\frac{K_{12} \\left(L_{12} s - 1\\right) \\left(T_{11} s + 1\\right)}{K_{11} \\left(L_{11} s - 1\\right) \\left(T_{12} s + 1\\right)}\\\\- \\frac{K_{21} \\left(L_{21} s - 1\\right) \\left(T_{22} s + 1\\right)}{K_{22} \\left(L_{22} s - 1\\right) \\left(T_{21} s + 1\\right)} & 0\\end{matrix}\\right]$$"
      ],
      "text/plain": [
       "⎡                               -K₁₂⋅(L₁₂⋅s - 1)⋅(T₁₁⋅s + 1) ⎤\n",
       "⎢              0                ─────────────────────────────⎥\n",
       "⎢                                K₁₁⋅(L₁₁⋅s - 1)⋅(T₁₂⋅s + 1) ⎥\n",
       "⎢                                                            ⎥\n",
       "⎢-K₂₁⋅(L₂₁⋅s - 1)⋅(T₂₂⋅s + 1)                                ⎥\n",
       "⎢─────────────────────────────                0              ⎥\n",
       "⎣ K₂₂⋅(L₂₂⋅s - 1)⋅(T₂₁⋅s + 1)                                ⎦"
      ]
     },
     "execution_count": 14,
     "metadata": {},
     "output_type": "execute_result"
    }
   ],
   "source": [
    "# Design the splitter\n",
    "S = D*DD.inv() - sp.eye(2)\n",
    "S"
   ]
  },
  {
   "cell_type": "code",
   "execution_count": 15,
   "metadata": {
    "collapsed": false
   },
   "outputs": [
    {
     "data": {
      "image/png": "[encoded data removed]",
      "text/latex": [
       "$$\\left[\\begin{matrix}0 & 0\\\\0 & 0\\end{matrix}\\right]$$"
      ],
      "text/plain": [
       "⎡0  0⎤\n",
       "⎢    ⎥\n",
       "⎣0  0⎦"
      ]
     },
     "execution_count": 15,
     "metadata": {},
     "output_type": "execute_result"
    }
   ],
   "source": [
    "# Get the Gamma Matrix as proof for decoupling\n",
    "Gamma = sp.simplify(sp.diff(GD*DA*DD.inv()+GA,s).subs(s,0))\n",
    "Gamma"
   ]
  },
  {
   "cell_type": "code",
   "execution_count": null,
   "metadata": {
    "collapsed": true
   },
   "outputs": [],
   "source": []
  }
 ],
 "metadata": {
  "kernelspec": {
   "display_name": "Python 3",
   "language": "python",
   "name": "python3"
  },
  "language_info": {
   "codemirror_mode": {
    "name": "ipython",
    "version": 3
   },
   "file_extension": ".py",
   "mimetype": "text/x-python",
   "name": "python",
   "nbconvert_exporter": "python",
   "pygments_lexer": "ipython3",
   "version": "3.6.1"
  }
 },
 "nbformat": 4,
 "nbformat_minor": 2
}
