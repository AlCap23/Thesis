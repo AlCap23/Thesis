{
 "cells": [
  {
   "cell_type": "code",
   "execution_count": 1,
   "metadata": {
    "collapsed": true
   },
   "outputs": [],
   "source": [
    "# Import needed modules\n",
    "import sympy as sp\n",
    "import numpy as numpy\n",
    "from sympy import init_printing\n",
    "init_printing()"
   ]
  },
  {
   "cell_type": "code",
   "execution_count": 2,
   "metadata": {
    "collapsed": true
   },
   "outputs": [],
   "source": [
    "# Define the symbols\n",
    "# Needed variables for LaPlace Transformation and the Frequency\n",
    "s = sp.symbols('s', positive = True)\n",
    "omega = sp.symbols('omega', positive = True, real = True)\n",
    "# Needed for the plant\n",
    "K, T, L = sp.symbols('K T L', positive = True, real = True)\n",
    "# Define the error\n",
    "R = sp.symbols('R', positive = True, real = True)\n",
    "\n",
    "# Define a FOTD\n",
    "def FOTD(x,y,z):\n",
    "    return x/(y*s+1)*sp.exp(-z*s)"
   ]
  },
  {
   "cell_type": "code",
   "execution_count": null,
   "metadata": {},
   "outputs": [],
   "source": [
    "# Define the plant\n",
    "G = FOTD(1,T,L)\n",
    "# Get the series expansion for first order\n",
    "GA1 = sp.series(G,s,0,2).removeO().subs(s,sp.I*omega)\n",
    "# Second order\n",
    "GA2 = sp.series(G,s,0,3).removeO().subs(s,sp.I*omega)\n",
    "dG = sp.simplify(sp.Abs(GA1)-sp.Abs(GA2))\n",
    "sp.solve(dG,omega)"
   ]
  },
  {
   "cell_type": "code",
   "execution_count": null,
   "metadata": {},
   "outputs": [],
   "source": [
    "GA1p = sp.Abs(GA1.removeO().subs(T,10).subs(L,10).subs(s,sp.I*omega))\n",
    "GA2p = sp.Abs(GA2.removeO().subs(T,10).subs(L,10).subs(s,sp.I*omega))\n",
    "GA1p, GA2p"
   ]
  },
  {
   "cell_type": "code",
   "execution_count": null,
   "metadata": {},
   "outputs": [],
   "source": [
    "sp.plot((GA1p,(omega,0,.1)),(GA2p,(omega,0,.1)))"
   ]
  },
  {
   "cell_type": "code",
   "execution_count": null,
   "metadata": {},
   "outputs": [],
   "source": [
    "2./((20)**2+10**2)**(0.5)"
   ]
  },
  {
   "cell_type": "code",
   "execution_count": null,
   "metadata": {
    "collapsed": true
   },
   "outputs": [],
   "source": []
  }
 ],
 "metadata": {
  "kernelspec": {
   "display_name": "Python 2",
   "language": "python",
   "name": "python2"
  },
  "language_info": {
   "codemirror_mode": {
    "name": "ipython",
    "version": 2
   },
   "file_extension": ".py",
   "mimetype": "text/x-python",
   "name": "python",
   "nbconvert_exporter": "python",
   "pygments_lexer": "ipython2",
   "version": "2.7.13"
  }
 },
 "nbformat": 4,
 "nbformat_minor": 2
}
