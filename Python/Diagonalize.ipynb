{
 "cells": [
  {
   "cell_type": "code",
   "execution_count": 1,
   "metadata": {
    "collapsed": false,
    "deletable": true,
    "editable": true
   },
   "outputs": [
    {
     "name": "stdout",
     "output_type": "stream",
     "text": [
      "IPython console for SymPy 1.0 (Python 3.6.1-64-bit) (ground types: python)\n"
     ]
    }
   ],
   "source": [
    "# Import the symbolic calculations\n",
    "import sympy as sp\n",
    "# Import the control package as written by Murray et. al.\n",
    "import control as cn\n",
    "from sympy import init_session\n",
    "init_session(quiet=True)"
   ]
  },
  {
   "cell_type": "code",
   "execution_count": 2,
   "metadata": {
    "collapsed": false,
    "deletable": true,
    "editable": true
   },
   "outputs": [
    {
     "data": {
      "image/png": "[encoded data removed]",
      "text/latex": [
       "$$\\left[\\begin{matrix}G_{11} & G_{21}\\\\G_{12} & G_{22}\\end{matrix}\\right]$$"
      ],
      "text/plain": [
       "⎡G_{11}  G_{21}⎤\n",
       "⎢              ⎥\n",
       "⎣G_{12}  G_{22}⎦"
      ]
     },
     "execution_count": 2,
     "metadata": {},
     "output_type": "execute_result"
    }
   ],
   "source": [
    "# Diagonal Matrices\n",
    "# Create a Matrix\n",
    "G11,G21,G12,G22 = sp.symbols('G_{11}, G_{21}, G_{12}, G_{22}')\n",
    "G = sp.Matrix(2,2,[G11,G21,G12,G22])\n",
    "G"
   ]
  },
  {
   "cell_type": "code",
   "execution_count": 31,
   "metadata": {
    "collapsed": false,
    "deletable": true,
    "editable": true
   },
   "outputs": [],
   "source": [
    "P,D = G.diagonalize()\n",
    "PINV = P.inv()"
   ]
  },
  {
   "cell_type": "code",
   "execution_count": 32,
   "metadata": {
    "collapsed": true,
    "deletable": true,
    "editable": true
   },
   "outputs": [],
   "source": [
    "P = sp.simplify(P)\n",
    "PINV = sp.simplify(P.inverse())"
   ]
  },
  {
   "cell_type": "code",
   "execution_count": 34,
   "metadata": {
    "collapsed": false,
    "deletable": true,
    "editable": true
   },
   "outputs": [
    {
     "data": {
      "image/png": "[encoded data removed]",
      "text/latex": [
       "$$\\left[\\begin{matrix}- \\frac{G_{12}}{\\sqrt{G_{11}^{2} - 2 G_{11} G_{22} + 4 G_{12} G_{21} + G_{22}^{2}}} & \\frac{G_{11} - G_{22} + \\sqrt{G_{11}^{2} - 2 G_{11} G_{22} + 4 G_{12} G_{21} + G_{22}^{2}}}{2 \\sqrt{G_{11}^{2} - 2 G_{11} G_{22} + 4 G_{12} G_{21} + G_{22}^{2}}}\\\\\\frac{G_{12}}{\\sqrt{G_{11}^{2} - 2 G_{11} G_{22} + 4 G_{12} G_{21} + G_{22}^{2}}} & \\frac{- G_{11} + G_{22} + \\sqrt{G_{11}^{2} - 2 G_{11} G_{22} + 4 G_{12} G_{21} + G_{22}^{2}}}{2 \\sqrt{G_{11}^{2} - 2 G_{11} G_{22} + 4 G_{12} G_{21} + G_{22}^{2}}}\\end{matrix}\\right]$$"
      ],
      "text/plain": [
       "⎡                                                                             \n",
       "⎢                                                                             \n",
       "⎢                         -G_{12}                            G_{11} - G_{22} +\n",
       "⎢──────────────────────────────────────────────────────────  ─────────────────\n",
       "⎢   _______________________________________________________               ____\n",
       "⎢  ╱       2                                             2               ╱    \n",
       "⎢╲╱  G_{11}  - 2⋅G_{11}⋅G_{22} + 4⋅G_{12}⋅G_{21} + G_{22}            2⋅╲╱  G_{\n",
       "⎢                                                                             \n",
       "⎢                                                                             \n",
       "⎢                                                                             \n",
       "⎢                          G_{12}                            -G_{11} + G_{22} \n",
       "⎢──────────────────────────────────────────────────────────  ─────────────────\n",
       "⎢   _______________________________________________________                ___\n",
       "⎢  ╱       2                                             2                ╱   \n",
       "⎣╲╱  G_{11}  - 2⋅G_{11}⋅G_{22} + 4⋅G_{12}⋅G_{21} + G_{22}             2⋅╲╱  G_\n",
       "\n",
       "    _______________________________________________________ ⎤\n",
       "   ╱       2                                             2  ⎥\n",
       " ╲╱  G_{11}  - 2⋅G_{11}⋅G_{22} + 4⋅G_{12}⋅G_{21} + G_{22}   ⎥\n",
       "─────────────────────────────────────────────────────────── ⎥\n",
       "___________________________________________________         ⎥\n",
       "   2                                             2          ⎥\n",
       "11}  - 2⋅G_{11}⋅G_{22} + 4⋅G_{12}⋅G_{21} + G_{22}           ⎥\n",
       "                                                            ⎥\n",
       "     _______________________________________________________⎥\n",
       "    ╱       2                                             2 ⎥\n",
       "+ ╲╱  G_{11}  - 2⋅G_{11}⋅G_{22} + 4⋅G_{12}⋅G_{21} + G_{22}  ⎥\n",
       "────────────────────────────────────────────────────────────⎥\n",
       "____________________________________________________        ⎥\n",
       "    2                                             2         ⎥\n",
       "{11}  - 2⋅G_{11}⋅G_{22} + 4⋅G_{12}⋅G_{21} + G_{22}          ⎦"
      ]
     },
     "execution_count": 34,
     "metadata": {},
     "output_type": "execute_result"
    }
   ],
   "source": []
  },
  {
   "cell_type": "code",
   "execution_count": 11,
   "metadata": {
    "collapsed": true,
    "deletable": true,
    "editable": true
   },
   "outputs": [],
   "source": []
  },
  {
   "cell_type": "code",
   "execution_count": 12,
   "metadata": {
    "collapsed": false
   },
   "outputs": [
    {
     "data": {
      "image/png": "[encoded data removed]",
      "text/latex": [
       "$$\\left[\\begin{matrix}\\frac{G_{12} \\left(- G_{11} + G_{21}\\right)}{\\sqrt{G_{11}^{2} - 2 G_{11} G_{22} + 4 G_{12} G_{21} + G_{22}^{2}}} & \\frac{1}{2 \\sqrt{G_{11}^{2} - 2 G_{11} G_{22} + 4 G_{12} G_{21} + G_{22}^{2}}} \\left(G_{11} \\left(G_{11} - G_{22} + \\sqrt{G_{11}^{2} - 2 G_{11} G_{22} + 4 G_{12} G_{21} + G_{22}^{2}}\\right) + G_{21} \\left(- G_{11} + G_{22} + \\sqrt{G_{11}^{2} - 2 G_{11} G_{22} + 4 G_{12} G_{21} + G_{22}^{2}}\\right)\\right)\\\\\\frac{G_{12} \\left(- G_{12} + G_{22}\\right)}{\\sqrt{G_{11}^{2} - 2 G_{11} G_{22} + 4 G_{12} G_{21} + G_{22}^{2}}} & \\frac{1}{2 \\sqrt{G_{11}^{2} - 2 G_{11} G_{22} + 4 G_{12} G_{21} + G_{22}^{2}}} \\left(G_{12} \\left(G_{11} - G_{22} + \\sqrt{G_{11}^{2} - 2 G_{11} G_{22} + 4 G_{12} G_{21} + G_{22}^{2}}\\right) + G_{22} \\left(- G_{11} + G_{22} + \\sqrt{G_{11}^{2} - 2 G_{11} G_{22} + 4 G_{12} G_{21} + G_{22}^{2}}\\right)\\right)\\end{matrix}\\right]$$"
      ],
      "text/plain": [
       "⎡                                                                   ⎛         \n",
       "⎢                                                                   ⎜         \n",
       "⎢                G_{12}⋅(-G_{11} + G_{21})                   G_{11}⋅⎝G_{11} - \n",
       "⎢──────────────────────────────────────────────────────────  ─────────────────\n",
       "⎢   _______________________________________________________                   \n",
       "⎢  ╱       2                                             2                    \n",
       "⎢╲╱  G_{11}  - 2⋅G_{11}⋅G_{22} + 4⋅G_{12}⋅G_{21} + G_{22}                     \n",
       "⎢                                                                             \n",
       "⎢                                                                   ⎛         \n",
       "⎢                                                                   ⎜         \n",
       "⎢                G_{12}⋅(-G_{12} + G_{22})                   G_{12}⋅⎝G_{11} - \n",
       "⎢──────────────────────────────────────────────────────────  ─────────────────\n",
       "⎢   _______________________________________________________                   \n",
       "⎢  ╱       2                                             2                    \n",
       "⎣╲╱  G_{11}  - 2⋅G_{11}⋅G_{22} + 4⋅G_{12}⋅G_{21} + G_{22}                     \n",
       "\n",
       "            _______________________________________________________⎞          \n",
       "           ╱       2                                             2 ⎟          \n",
       "G_{22} + ╲╱  G_{11}  - 2⋅G_{11}⋅G_{22} + 4⋅G_{12}⋅G_{21} + G_{22}  ⎠ + G_{21}⋅\n",
       "──────────────────────────────────────────────────────────────────────────────\n",
       "                                             _________________________________\n",
       "                                            ╱       2                         \n",
       "                                        2⋅╲╱  G_{11}  - 2⋅G_{11}⋅G_{22} + 4⋅G_\n",
       "                                                                              \n",
       "            _______________________________________________________⎞          \n",
       "           ╱       2                                             2 ⎟          \n",
       "G_{22} + ╲╱  G_{11}  - 2⋅G_{11}⋅G_{22} + 4⋅G_{12}⋅G_{21} + G_{22}  ⎠ + G_{22}⋅\n",
       "──────────────────────────────────────────────────────────────────────────────\n",
       "                                             _________________________________\n",
       "                                            ╱       2                         \n",
       "                                        2⋅╲╱  G_{11}  - 2⋅G_{11}⋅G_{22} + 4⋅G_\n",
       "\n",
       "⎛                      _______________________________________________________\n",
       "⎜                     ╱       2                                             2 \n",
       "⎝-G_{11} + G_{22} + ╲╱  G_{11}  - 2⋅G_{11}⋅G_{22} + 4⋅G_{12}⋅G_{21} + G_{22}  \n",
       "──────────────────────────────────────────────────────────────────────────────\n",
       "______________________                                                        \n",
       "                    2                                                         \n",
       "{12}⋅G_{21} + G_{22}                                                          \n",
       "                                                                              \n",
       "⎛                      _______________________________________________________\n",
       "⎜                     ╱       2                                             2 \n",
       "⎝-G_{11} + G_{22} + ╲╱  G_{11}  - 2⋅G_{11}⋅G_{22} + 4⋅G_{12}⋅G_{21} + G_{22}  \n",
       "──────────────────────────────────────────────────────────────────────────────\n",
       "______________________                                                        \n",
       "                    2                                                         \n",
       "{12}⋅G_{21} + G_{22}                                                          \n",
       "\n",
       "⎞⎤\n",
       "⎟⎥\n",
       "⎠⎥\n",
       "─⎥\n",
       " ⎥\n",
       " ⎥\n",
       " ⎥\n",
       " ⎥\n",
       "⎞⎥\n",
       "⎟⎥\n",
       "⎠⎥\n",
       "─⎥\n",
       " ⎥\n",
       " ⎥\n",
       " ⎦"
      ]
     },
     "execution_count": 12,
     "metadata": {},
     "output_type": "execute_result"
    }
   ],
   "source": []
  },
  {
   "cell_type": "code",
   "execution_count": null,
   "metadata": {
    "collapsed": true
   },
   "outputs": [],
   "source": []
  }
 ],
 "metadata": {
  "kernelspec": {
   "display_name": "Python 3",
   "language": "python",
   "name": "python3"
  },
  "language_info": {
   "codemirror_mode": {
    "name": "ipython",
    "version": 3
   },
   "file_extension": ".py",
   "mimetype": "text/x-python",
   "name": "python",
   "nbconvert_exporter": "python",
   "pygments_lexer": "ipython3",
   "version": "3.6.1"
  }
 },
 "nbformat": 4,
 "nbformat_minor": 2
}
