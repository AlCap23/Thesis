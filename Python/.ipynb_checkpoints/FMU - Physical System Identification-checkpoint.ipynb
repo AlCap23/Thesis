{
 "cells": [
  {
   "cell_type": "code",
   "execution_count": 1,
   "metadata": {
    "collapsed": true
   },
   "outputs": [],
   "source": [
    "# Import the needed Packages\n",
    "# FMU Simulation\n",
    "import MoBASimulator as mb\n",
    "# Numpy\n",
    "import numpy as np\n",
    "# Pandas for storage\n",
    "import pandas as pd\n",
    "# Algorithms\n",
    "import Algorithms as alg\n",
    "from Algorithms import TUBScolorscale"
   ]
  },
  {
   "cell_type": "code",
   "execution_count": 2,
   "metadata": {},
   "outputs": [
    {
     "data": {
      "text/plain": [
       "295"
      ]
     },
     "execution_count": 2,
     "metadata": {},
     "output_type": "execute_result"
    }
   ],
   "source": [
    "result = pd.DataFrame(columns=('T_A', 'Q_C', 'K11', 'K12', 'K21', 'K22', 'T11', 'T12', 'T21', 'T22', 'L11', 'L12', 'L21', 'L22'))\n",
    "\n",
    "# Load a Model\n",
    "sim = mb.Simulator()\n",
    "sim.clear()\n",
    "sim.loadModel(\"C:/Users/juliu/Documents/Thesis/Modelica/FMU/2_2_Physical/Physical_Full_Input.fmu\")\n",
    "# Show log window\n",
    "sim.showLogWindow()\n",
    "sim.showParameterDialog()\n",
    "# Set the simulation Parameter\n",
    "sim_time = 6e4\n",
    "T_amb = 295 # Ambient Temperatures in K\n",
    "#times = [0,5e3,8e3]\n",
    "Q_C = -60e3 #[-60e3,-75e3,-90e3] # Heats in kJ/s as Timeinput\n",
    "stepTime = 5e4 # Time for the step\n",
    "step_N = -.5 # height of the step for fan\n",
    "step_A = 0.3 # Height of the step for valve\n",
    "T_amb"
   ]
  },
  {
   "cell_type": "code",
   "execution_count": 3,
   "metadata": {},
   "outputs": [
    {
     "name": "stdout",
     "output_type": "stream",
     "text": [
      "Error - Small delay - Using 0 instead\n"
     ]
    }
   ],
   "source": [
    "for number in range(1):\n",
    "    # First experiment Fan -> Temp / Pressure\n",
    "    sim.reloadModel()\n",
    "    # Set the Parameter\n",
    "    sim.set({\"fmu.T_A\":T_amb,\"fmu.Q_C\":Q_C,\n",
    "         \"fmu.booleanStep.startTime\":stepTime-1.0,\n",
    "        \"fmu.step_T.startTime\": stepTime, \"fmu.step_T.height\": step_N,\n",
    "        \"fmu.step_P.startTime\": sim_time, \"fmu.step_P.height\": 0.})\n",
    "    # Slowly increase the heat\n",
    "    #sim.setInputTable({\"time\": times, \"fmu.Q_C\": Q_C})\n",
    "    #sim.showParameterDialog()\n",
    "    # Simulate\n",
    "    res_Fan = sim.simulate(3,sim_time)\n",
    "\n",
    "    # Repeat for Valve -> Temp/Pressure\n",
    "    # Physical : Valve -> Pressure is negat\n",
    "    sim.reloadModel()\n",
    "    # Set the Parameter\n",
    "    sim.set({\"fmu.T_A\":T_amb,\"fmu.Q_C\":Q_C,\n",
    "         \"fmu.booleanStep.startTime\":stepTime-1.0,\n",
    "        \"fmu.step_T.startTime\": sim_time, \"fmu.step_T.height\": 0.,\n",
    "        \"fmu.step_P.startTime\": stepTime, \"fmu.step_P.height\": step_A})\n",
    "    # Slowly increase the Heat\n",
    "    #sim.setInputTable({\"time\": times, \"fmu.Q_C\": Q_C})\n",
    "    # Simulate\n",
    "    res_Valve = sim.simulate(3,sim_time)\n",
    "\n",
    "    # Get the signals\n",
    "    y_P = res_Fan[\"fmu.p_H\"]\n",
    "    u_P =  step_A*np.ones_like(y_P)\n",
    "    y_T = res_Fan[\"fmu.T_H\"]\n",
    "    u_T =  step_N*np.ones_like(y_T)\n",
    "    time = res_Fan[\"time\"]\n",
    "\n",
    "    # Rescale the signals for identification\n",
    "    # Get Data after Step -> For the Fan \\delta T approx 400 s.\n",
    "    # Get Temperature data\n",
    "    y_T_I = y_T[np.where((time>=stepTime) & (time < (stepTime+400.)))]\n",
    "    y_T_I = y_T_I-y_T_I[0]\n",
    "    u_T_I = u_T[np.where((time>=stepTime) & (time <(stepTime+400.)))]\n",
    "    t_T_I = time[np.where((time>=stepTime) & (time < (stepTime+400.)))]-stepTime\n",
    "\n",
    "    # Same for pressure\n",
    "    y_P_I = y_P[np.where((time>=stepTime) & (time < stepTime+400.))]\n",
    "    y_P_I = y_P_I-y_P_I[0] \n",
    "    u_P_I = u_P[np.where((time>=stepTime) & (time < stepTime+400.))]\n",
    "    t_P_I = time[np.where((time>=stepTime) & (time < stepTime+400.))]-stepTime\n",
    "\n",
    "    # The needed Parameter\n",
    "    K = np.zeros((2,2))\n",
    "    T = np.zeros((2,2))\n",
    "    L = np.zeros((2,2))\n",
    "\n",
    "    # Identify from Fan to Temp [0][0] and from Fan to Pressure[1][0]\n",
    "    K[0][0],T[0][0],L[0][0]=alg.Integral_Identification(y_T_I,u_T_I,t_T_I)\n",
    "    K[1][0],T[1][0],L[1][0]=alg.Integral_Identification(y_P_I,u_T_I,t_P_I)\n",
    "\n",
    "    # Get the signals\n",
    "    steptime = sim.get(\"fmu.booleanStep.startTime\")\n",
    "    y_P = res_Valve[\"fmu.p_H\"]\n",
    "    u_P =  step_A*np.ones_like(y_P)\n",
    "    y_T = res_Valve[\"fmu.T_H\"]\n",
    "    u_T =  step_N*np.ones_like(y_T)\n",
    "    time = res_Valve[\"time\"]\n",
    "\n",
    "    # Rescale the signals for identification\n",
    "    # Get Data after Step\n",
    "    y_T_I = y_T[np.where((time>=steptime) & (time < (steptime+600.)))]\n",
    "    y_T_I = y_T_I-y_T_I[0]\n",
    "    u_T_I = u_T[np.where((time>=steptime) & (time <(steptime+600.)))]\n",
    "    t_T_I = time[np.where((time>=steptime) & (time < (steptime+600.)))]-steptime\n",
    "\n",
    "    # Same for P\n",
    "    y_P_I = y_P[np.where((time>=steptime) & (time < steptime+600.))]\n",
    "    y_P_I = y_P_I-y_P_I[0]\n",
    "    u_P_I = u_P[np.where((time>=steptime) & (time < steptime+600.))]\n",
    "    t_P_I = time[np.where((time>=steptime) & (time < steptime+600.))]-steptime\n",
    "\n",
    "    #Identify from Valve to Temp [0][1] and from Valve to Pressure[1][1]\n",
    "    K[0][1],T[0][1],L[0][1]=alg.Integral_Identification(y_T_I,u_P_I,t_T_I)\n",
    "    K[1][1],T[1][1],L[1][1]=alg.Integral_Identification(y_P_I,u_P_I,t_P_I)\n",
    "\n",
    "    #result.loc[number,:2] = [T_amb[number], Q_C[-1]]\n",
    "    #result.loc[number,2:] = np.hstack((K.flatten(),np.hstack((T.flatten(),L.flatten())))).tolist()\n",
    "    #result.to_csv('PhysicalIdentification_Test.csv', sep=';')\n",
    "    #print(result)"
   ]
  },
  {
   "cell_type": "code",
   "execution_count": 5,
   "metadata": {},
   "outputs": [
    {
     "data": {
      "text/plain": [
       "0"
      ]
     },
     "execution_count": 5,
     "metadata": {},
     "output_type": "execute_result"
    }
   ],
   "source": [
    "sim.showParameterDialog()"
   ]
  },
  {
   "cell_type": "code",
   "execution_count": 83,
   "metadata": {
    "collapsed": true
   },
   "outputs": [],
   "source": [
    "# Make a controller\n",
    "#KY, B, D = alg.Control_Decoupled(K,T,L,0.5*np.ones_like(K))\n",
    "KY, B, D = alg.Control_Decentral(K,T,L, pairing = [0,1])\n",
    "#Reload Model\n",
    "sim.reloadModel()\n",
    "# Set the parameter for a controller simulation\n",
    "params = {\"fmu.step_P.startTime\":6e3,\"fmu.step_P.height\":-.2, # Input disturbance from Valve\n",
    "          \"fmu.step_T.startTime\":10e3, \"fmu.step_T.height\":-.5, # Input disturbance from Fan\n",
    "          \"fmu.step_PR.startTime\":6e3,\"fmu.step_PR.height\":-.2, # Set Point change Pressure\n",
    "          \"fmu.step_TR.startTime\":10e3, \"fmu.step_TR.height\":-.5, # Set Point change Temperature\n",
    "          \"fmu.booleanStep.startTime\":10e5} # Never turn off the controller\n",
    "for outputs in range(1,3):\n",
    "    for inputs in range(1,3):\n",
    "        params.update({\"fmu.multivariable_Controller.KP[\"+str(outputs)+\",\"+str(inputs)+\"]\": KY[outputs-1][inputs-1][0]})\n",
    "        params.update({\"fmu.multivariable_Controller.KI[\"+str(outputs)+\",\"+str(inputs)+\"]\": KY[outputs-1][inputs-1][1]})\n",
    "        params.update({\"fmu.multivariable_Controller.D[\"+str(outputs)+\",\"+str(inputs)+\"]\": D[outputs-1][inputs-1]})\n",
    "        params.update({\"fmu.multivariable_Controller.B[\"+str(outputs)+\",\"+str(inputs)+\"]\": B[outputs-1][inputs-1]})\n",
    "sim.set(params)\n",
    "sim.showParameterDialog()\n",
    "sim.set({\"fmu.T_A\": T_amb, \"fmu.Q_C\": Q_C})\n",
    "# Simulate the closed loop\n",
    "res_Control_Decentral = sim.simulate(1,15e3)"
   ]
  },
  {
   "cell_type": "code",
   "execution_count": 84,
   "metadata": {},
   "outputs": [
    {
     "name": "stdout",
     "output_type": "stream",
     "text": [
      "Modified Detuning Iterationts 0\n",
      "Modified Detuning Iterationts 0\n"
     ]
    }
   ],
   "source": [
    "# Make a controller\n",
    "KY, B, D = alg.Control_Decoupled(K,T,L,10*np.ones_like(K), pairing = [0,1])\n",
    "#KY, B, D = alg.Control_Decentral(K,T,L)\n",
    "#Reload Model\n",
    "sim.reloadModel()\n",
    "# Set the parameter for a controller simulation\n",
    "params = {\"fmu.step_P.startTime\":6e3,\"fmu.step_P.height\":-0.2, # Input disturbance from Valve\n",
    "          \"fmu.step_T.startTime\":10e3, \"fmu.step_T.height\":-0.5, # Input disturbance from Fan\n",
    "          \"fmu.booleanStep.startTime\":10e5} # Never turn off the controller\n",
    "for outputs in range(1,3):\n",
    "    for inputs in range(1,3):\n",
    "        params.update({\"fmu.multivariable_Controller.KP[\"+str(outputs)+\",\"+str(inputs)+\"]\": KY[outputs-1][inputs-1][0]})\n",
    "        params.update({\"fmu.multivariable_Controller.KI[\"+str(outputs)+\",\"+str(inputs)+\"]\": KY[outputs-1][inputs-1][1]})\n",
    "        params.update({\"fmu.multivariable_Controller.D[\"+str(outputs)+\",\"+str(inputs)+\"]\": D[outputs-1][inputs-1]})\n",
    "        params.update({\"fmu.multivariable_Controller.B[\"+str(outputs)+\",\"+str(inputs)+\"]\": B[outputs-1][inputs-1]})\n",
    "sim.set(params)\n",
    "sim.showParameterDialog()\n",
    "sim.set({\"fmu.T_A\": T_amb, \"fmu.Q_C\": Q_C})\n",
    "# Simulate the closed loop\n",
    "res_Control_Decoupled = sim.simulate(1,15e3)"
   ]
  },
  {
   "cell_type": "code",
   "execution_count": 53,
   "metadata": {},
   "outputs": [
    {
     "data": {
      "text/plain": [
       "0"
      ]
     },
     "execution_count": 53,
     "metadata": {},
     "output_type": "execute_result"
    }
   ],
   "source": [
    "sim.showParameterDialog()"
   ]
  },
  {
   "cell_type": "code",
   "execution_count": 96,
   "metadata": {},
   "outputs": [
    {
     "data": {
      "image/png": "[encoded data removed]",
      "text/plain": [
       "<matplotlib.figure.Figure at 0x67a5668>"
      ]
     },
     "metadata": {},
     "output_type": "display_data"
    }
   ],
   "source": [
    "import matplotlib.pyplot as plt\n",
    "from Algorithms import TUBScolorscale\n",
    "\n",
    "# Make a plot\n",
    "plt.rcParams['svg.fonttype'] = 'none'\n",
    "plt.style.use('seaborn-whitegrid')\n",
    "\n",
    "plt.clf\n",
    "\n",
    "# Get the signals\n",
    "y_T1 = res_Control_Decentral[\"fmu.T_H\"]\n",
    "y_P1 = res_Control_Decentral[\"fmu.p_H\"]\n",
    "y_T2 = res_Control_Decoupled[\"fmu.T_H\"]\n",
    "y_P2 = res_Control_Decoupled[\"fmu.p_H\"]\n",
    "time = res_Control_Decentral[\"time\"]\n",
    "# Inputs\n",
    "#y_N = res_Control_Decentral[\"fmu.add_T.y\"]\n",
    "#y_A = res_Control_Decentral[\"fmu.add_P.y\"]\n",
    "# SetPoint\n",
    "#y_TR = res_Control_Decentral[\"fmu.T_R.y\"]\n",
    "#y_PR = res_Control_Decentral[\"fmu.P_R.y\"]\n",
    "\n",
    "plt.clf\n",
    "fig, ax = plt.subplots(2, sharex=True, figsize = (10,6))\n",
    "ax[0].set_title(\"T_{amb}=290 K, Q_C = -60 kW\", loc = \"left\")\n",
    "ax[0].plot(time[np.where(time>5000)],y_T1[np.where(time>5000)], color =TUBScolorscale[1], label = \"Decentralized Control\")\n",
    "ax[0].plot(time[np.where(time>5000)],y_T2[np.where(time>5000)], color =TUBScolorscale[9], label = \"R2D2\")\n",
    "#ax[0].plot(time[np.where(time>5000)],y_TR[np.where(time>5000)], color =TUBScolorscale[0])\n",
    "ax[0].set_ylabel(\"Temperature [K]\")\n",
    "#plt.legend(loc=\"upper right\")\n",
    "ax[0].legend(loc=\"lower right\")\n",
    "# Make Annotations\n",
    "ax[1].annotate('Disturbance of \\Delta A_{eff} = -0.2  ',\n",
    "            xy=(6000, 68.49), xycoords='data',\n",
    "            xytext=(6500, 68.8), textcoords='data',\n",
    "            arrowprops=dict(arrowstyle=\"->\"))\n",
    "ax[1].plot(time[np.where(time>5000)],y_P1[np.where(time>5000)], color =TUBScolorscale[1])\n",
    "ax[1].plot(time[np.where(time>5000)],y_P2[np.where(time>5000)], color =TUBScolorscale[9])\n",
    "#ax[1].plot(time[np.where(time>5000)],y_PR[np.where(time>5000)], color =TUBScolorscale[0])\n",
    "ax[1].set_ylabel(\"Pressure [bar]\")\n",
    "ax[0].annotate('Disturbance of \\Delta n = -0.5  ',\n",
    "            xy=(10000, 293), xycoords='data',\n",
    "            xytext=(10500, 293.1), textcoords='data',\n",
    "            arrowprops=dict(arrowstyle=\"->\"))\n",
    "ax[1].set_xlabel(\"Time [s]\")\n",
    "\n",
    "\n",
    "plt.savefig(\"DisturbanceRejectionExample.svg\")\n",
    "plt.show()"
   ]
  },
  {
   "cell_type": "code",
   "execution_count": 66,
   "metadata": {
    "collapsed": true
   },
   "outputs": [],
   "source": [
    "#Simulate Further\n",
    "sim2 = mb.Simulator()\n",
    "sim2.clear()\n",
    "sim2.loadModel(\"C:/Users/juliu/Documents/Thesis/Modelica/FMU/2_2_Physical/System_External.fmu\")\n",
    "sim2.showLogWindow()"
   ]
  },
  {
   "cell_type": "code",
   "execution_count": 67,
   "metadata": {},
   "outputs": [
    {
     "data": {
      "text/plain": [
       "0"
      ]
     },
     "execution_count": 67,
     "metadata": {},
     "output_type": "execute_result"
    }
   ],
   "source": [
    "sim2.set(params)\n",
    "#Make a disturbance plot\n",
    "sim2.set({\"fmu.T_A\":293.15, \"fmu.Q_C\":-60e3})\n",
    "sim2.set({\"fmu.step_T.height\": -1, \"fmu.step_T.startTime\": 1000,\"fmu.step_P.height\": .5, \"fmu.step_P.startTime\": 1500})\n",
    "sim2.set({\"fmu.booleanStep.startTime\":1e5})\n",
    "sim2.showParameterDialog()"
   ]
  },
  {
   "cell_type": "code",
   "execution_count": 68,
   "metadata": {
    "collapsed": true
   },
   "outputs": [],
   "source": [
    "res2 = sim2.simulate(1,4e3)"
   ]
  },
  {
   "cell_type": "code",
   "execution_count": 69,
   "metadata": {
    "collapsed": true
   },
   "outputs": [],
   "source": [
    "y_T_D = res2[\"fmu.T_H\"]\n",
    "y_P_D = res2[\"fmu.p_H\"]\n",
    "t_D = res2[\"time\"]\n",
    "\n",
    "p = bk.figure()\n",
    "p.line(t_D,y_T_D, color=\"red\")\n",
    "p.line(t_D,y_P_D)\n",
    "bk.show(p)"
   ]
  },
  {
   "cell_type": "code",
   "execution_count": 71,
   "metadata": {},
   "outputs": [
    {
     "name": "stdout",
     "output_type": "stream",
     "text": [
      "Modified Detuning Iterationts 0\n",
      "Modified Detuning Iterationts 0\n",
      "(array([[[-0.62224787, -0.01546867, -0.        ],\n",
      "        [ 0.        ,  0.        ,  0.        ]],\n",
      "\n",
      "       [[ 0.        ,  0.        ,  0.        ],\n",
      "        [-0.14967252, -0.00308461, -0.        ]]]), array([[ 0.34385894,  0.        ],\n",
      "       [ 0.        ,  0.        ]]), array([[ 1.        ,  4.5341174 ],\n",
      "       [-0.35912127,  1.        ]]))\n"
     ]
    },
    {
     "data": {
      "text/plain": [
       "0"
      ]
     },
     "execution_count": 71,
     "metadata": {},
     "output_type": "execute_result"
    }
   ],
   "source": [
    "\n",
    "# Make a controller\n",
    "KY, B, D = alg.Control_Decoupled(K,T,L,10*np.eye(2), pairing=[0,1])\n",
    "\n",
    "#Reload Model\n",
    "sim2.reloadModel()\n",
    "# Set the parameter\n",
    "params = {}\n",
    "for outputs in range(1,3):\n",
    "    for inputs in range(1,3):\n",
    "        params.update({\"fmu.multivariable_Controller.KP[\"+str(outputs)+\",\"+str(inputs)+\"]\": KY[outputs-1][inputs-1][0]})\n",
    "        params.update({\"fmu.multivariable_Controller.KI[\"+str(outputs)+\",\"+str(inputs)+\"]\": KY[outputs-1][inputs-1][1]})\n",
    "        params.update({\"fmu.multivariable_Controller.D[\"+str(outputs)+\",\"+str(inputs)+\"]\": D[outputs-1][inputs-1]})\n",
    "        params.update({\"fmu.multivariable_Controller.B[\"+str(outputs)+\",\"+str(inputs)+\"]\": B[outputs-1][inputs-1]})\n",
    "sim2.set(params)\n",
    "print(KY,B,D)\n",
    "#Make a disturbance plot\n",
    "sim2.set({\"fmu.T_A\":293.15, \"fmu.Q_C\":-60e3})\n",
    "sim2.set({\"fmu.step_T.height\": -1, \"fmu.step_T.startTime\": 1000,\"fmu.step_P.height\": .5, \"fmu.step_P.startTime\": 1500})\n",
    "sim2.set({\"fmu.booleanStep.startTime\":1e5})\n",
    "sim2.showParameterDialog()"
   ]
  },
  {
   "cell_type": "code",
   "execution_count": 72,
   "metadata": {
    "collapsed": true
   },
   "outputs": [],
   "source": [
    "res3 = sim2.simulate(1,4e3)"
   ]
  },
  {
   "cell_type": "code",
   "execution_count": 73,
   "metadata": {
    "collapsed": true
   },
   "outputs": [],
   "source": [
    "y_T_D2 = res3[\"fmu.T_H\"]\n",
    "y_P_D2 = res3[\"fmu.p_H\"]\n",
    "t_D2 = res3[\"time\"]\n",
    "\n",
    "p = bk.figure()\n",
    "p.line(t_D,y_T_D, color=\"red\")\n",
    "p.line(t_D,y_P_D, color = \"red\")\n",
    "p.line(t_D2,y_T_D2, color=\"blue\")\n",
    "p.line(t_D2,y_P_D2, color = \"blue\")\n",
    "bk.show(p)"
   ]
  },
  {
   "cell_type": "code",
   "execution_count": 22,
   "metadata": {},
   "outputs": [
    {
     "name": "stdout",
     "output_type": "stream",
     "text": [
      "Modified Detuning Iterationts 0\n",
      "Modified Detuning Iterationts 6\n"
     ]
    },
    {
     "ename": "NameError",
     "evalue": "name 'sim2' is not defined",
     "output_type": "error",
     "traceback": [
      "\u001b[1;31m---------------------------------------------------------------------------\u001b[0m",
      "\u001b[1;31mNameError\u001b[0m                                 Traceback (most recent call last)",
      "\u001b[1;32m<ipython-input-22-94156ab8ab67>\u001b[0m in \u001b[0;36m<module>\u001b[1;34m()\u001b[0m\n\u001b[0;32m      3\u001b[0m \u001b[0mD\u001b[0m\u001b[1;33m[\u001b[0m\u001b[1;36m0\u001b[0m\u001b[1;33m]\u001b[0m\u001b[1;33m[\u001b[0m\u001b[1;36m0\u001b[0m\u001b[1;33m]\u001b[0m \u001b[1;33m=\u001b[0m \u001b[1;36m0.5\u001b[0m\u001b[1;33m*\u001b[0m\u001b[0mD\u001b[0m\u001b[1;33m[\u001b[0m\u001b[1;36m0\u001b[0m\u001b[1;33m]\u001b[0m\u001b[1;33m[\u001b[0m\u001b[1;36m0\u001b[0m\u001b[1;33m]\u001b[0m\u001b[1;33m\u001b[0m\u001b[0m\n\u001b[0;32m      4\u001b[0m \u001b[1;31m#Reload Model\u001b[0m\u001b[1;33m\u001b[0m\u001b[1;33m\u001b[0m\u001b[0m\n\u001b[1;32m----> 5\u001b[1;33m \u001b[0msim2\u001b[0m\u001b[1;33m.\u001b[0m\u001b[0mreloadModel\u001b[0m\u001b[1;33m(\u001b[0m\u001b[1;33m)\u001b[0m\u001b[1;33m\u001b[0m\u001b[0m\n\u001b[0m\u001b[0;32m      6\u001b[0m \u001b[1;31m# Set the parameter\u001b[0m\u001b[1;33m\u001b[0m\u001b[1;33m\u001b[0m\u001b[0m\n\u001b[0;32m      7\u001b[0m \u001b[0mparams\u001b[0m \u001b[1;33m=\u001b[0m \u001b[1;33m{\u001b[0m\u001b[1;33m}\u001b[0m\u001b[1;33m\u001b[0m\u001b[0m\n",
      "\u001b[1;31mNameError\u001b[0m: name 'sim2' is not defined"
     ]
    }
   ],
   "source": [
    "# Make a controller\n",
    "KY, B, D = alg.Control_Decoupled(K,T,L,1*np.eye(2), pairing=[0,1])\n",
    "D[0][0] = 0.5*D[0][0]\n",
    "#Reload Model\n",
    "sim2.reloadModel()\n",
    "# Set the parameter\n",
    "params = {}\n",
    "for outputs in range(1,3):\n",
    "    for inputs in range(1,3):\n",
    "        params.update({\"fmu.multivariable_Controller.KP[\"+str(outputs)+\",\"+str(inputs)+\"]\": KY[outputs-1][inputs-1][0]})\n",
    "        params.update({\"fmu.multivariable_Controller.KI[\"+str(outputs)+\",\"+str(inputs)+\"]\": KY[outputs-1][inputs-1][1]})\n",
    "        params.update({\"fmu.multivariable_Controller.D[\"+str(outputs)+\",\"+str(inputs)+\"]\": D[outputs-1][inputs-1]})\n",
    "        params.update({\"fmu.multivariable_Controller.B[\"+str(outputs)+\",\"+str(inputs)+\"]\": B[outputs-1][inputs-1]})\n",
    "sim2.set(params)\n",
    "print(KY,B,D)\n",
    "#Make a disturbance plot\n",
    "sim2.set({\"fmu.T_A\":293.15, \"fmu.Q_C\":-60e3})\n",
    "sim2.set({\"fmu.step_T.height\": -1, \"fmu.step_T.startTime\": 1000,\"fmu.step_P.height\": .5, \"fmu.step_P.startTime\": 1500})\n",
    "sim2.set({\"fmu.booleanStep.startTime\":1e5})\n",
    "sim2.showParameterDialog()\n",
    "sim2.showLogWindow()\n",
    "res4 = sim2.simulate(1,4e3)"
   ]
  },
  {
   "cell_type": "code",
   "execution_count": 21,
   "metadata": {},
   "outputs": [
    {
     "ename": "NameError",
     "evalue": "name 'res4' is not defined",
     "output_type": "error",
     "traceback": [
      "\u001b[1;31m---------------------------------------------------------------------------\u001b[0m",
      "\u001b[1;31mNameError\u001b[0m                                 Traceback (most recent call last)",
      "\u001b[1;32m<ipython-input-21-d8b70b74d7b1>\u001b[0m in \u001b[0;36m<module>\u001b[1;34m()\u001b[0m\n\u001b[0;32m      1\u001b[0m \u001b[0msim\u001b[0m\u001b[1;33m.\u001b[0m\u001b[0mshowParameterDialog\u001b[0m\u001b[1;33m(\u001b[0m\u001b[1;33m)\u001b[0m\u001b[1;33m\u001b[0m\u001b[0m\n\u001b[1;32m----> 2\u001b[1;33m \u001b[0my_T_D3\u001b[0m \u001b[1;33m=\u001b[0m \u001b[0mres4\u001b[0m\u001b[1;33m[\u001b[0m\u001b[1;34m\"fmu.T_H\"\u001b[0m\u001b[1;33m]\u001b[0m\u001b[1;33m\u001b[0m\u001b[0m\n\u001b[0m\u001b[0;32m      3\u001b[0m \u001b[0my_P_D3\u001b[0m \u001b[1;33m=\u001b[0m \u001b[0mres4\u001b[0m\u001b[1;33m[\u001b[0m\u001b[1;34m\"fmu.p_H\"\u001b[0m\u001b[1;33m]\u001b[0m\u001b[1;33m\u001b[0m\u001b[0m\n\u001b[0;32m      4\u001b[0m \u001b[0mt_D3\u001b[0m \u001b[1;33m=\u001b[0m \u001b[0mres4\u001b[0m\u001b[1;33m[\u001b[0m\u001b[1;34m\"time\"\u001b[0m\u001b[1;33m]\u001b[0m\u001b[1;33m\u001b[0m\u001b[0m\n\u001b[0;32m      5\u001b[0m \u001b[1;33m\u001b[0m\u001b[0m\n",
      "\u001b[1;31mNameError\u001b[0m: name 'res4' is not defined"
     ]
    }
   ],
   "source": [
    "\n",
    "y_T_D3 = res4[\"fmu.T_H\"]\n",
    "y_P_D3 = res4[\"fmu.p_H\"]\n",
    "t_D3 = res4[\"time\"]\n",
    "\n",
    "p = bk.figure()\n",
    "p.line(t_D,y_T_D, color=\"red\")\n",
    "p.line(t_D,y_P_D, color = \"red\")\n",
    "p.line(t_D2,y_T_D2, color=\"blue\")\n",
    "p.line(t_D2,y_P_D2, color = \"blue\")\n",
    "p.line(t_D3,y_T_D3, color=\"green\")\n",
    "p.line(t_D3,y_P_D3, color = \"green\")\n",
    "bk.show(p)"
   ]
  },
  {
   "cell_type": "code",
   "execution_count": 87,
   "metadata": {
    "collapsed": true
   },
   "outputs": [],
   "source": [
    "sim2.reloadModel()\n",
    "#Make a disturbance plot\n",
    "sim2.set({\"fmu.T_A\":300.00, \"fmu.Q_C\":-60e3})\n",
    "sim2.set({\"fmu.step_T.height\": -1, \"fmu.step_T.startTime\": 5000,\"fmu.step_P.height\": .5, \"fmu.step_P.startTime\": 15000})\n",
    "sim2.set({\"fmu.booleanStep.startTime\":5e5})\n",
    "sim2.showLogWindow()\n",
    "res4 = sim2.simulate(1,10e3)"
   ]
  },
  {
   "cell_type": "code",
   "execution_count": 88,
   "metadata": {
    "collapsed": true
   },
   "outputs": [],
   "source": [
    "y_T_D3 = res4[\"fmu.T_H\"]\n",
    "y_P_D3 = res4[\"fmu.p_H\"]\n",
    "t_D3 = res4[\"time\"]\n",
    "\n",
    "p = bk.figure()\n",
    "p.line(t_D3,y_T_D3, color=\"green\")\n",
    "p.line(t_D3,y_P_D3, color = \"green\")\n",
    "bk.show(p)"
   ]
  },
  {
   "cell_type": "code",
   "execution_count": null,
   "metadata": {
    "collapsed": true
   },
   "outputs": [],
   "source": []
  }
 ],
 "metadata": {
  "anaconda-cloud": {},
  "kernelspec": {
   "display_name": "Python 2",
   "language": "python",
   "name": "python2"
  },
  "language_info": {
   "codemirror_mode": {
    "name": "ipython",
    "version": 2
   },
   "file_extension": ".py",
   "mimetype": "text/x-python",
   "name": "python",
   "nbconvert_exporter": "python",
   "pygments_lexer": "ipython2",
   "version": "2.7.13"
  }
 },
 "nbformat": 4,
 "nbformat_minor": 2
}
