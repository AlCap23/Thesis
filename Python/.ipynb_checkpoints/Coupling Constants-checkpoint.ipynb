{
 "cells": [
  {
   "cell_type": "markdown",
   "metadata": {},
   "source": [
    "# Taylor Expansion of a decoupled System\n",
    "\n",
    "In the Paper 'Design of Decoupled Controllers for MIMO Systems' by Aström, Johansson and Wang the Decoupling for small frequencies is described.\n",
    "\n",
    "The following calculation is based on the First Order Time Delay (FOTD) Identification method, which results in a Two Input Two Output (TITO) System for the System in feedforward representation. \n",
    "\n",
    "To Decouple the system a Taylor Series around the steady state s=0 is used to derive Interaction from an input to another output. Since we approximate the system always with a FOTD Model, we can derive the interaction:"
   ]
  },
  {
   "cell_type": "code",
   "execution_count": 1,
   "metadata": {
    "collapsed": true
   },
   "outputs": [],
   "source": [
    "# Import the needed packages, SymPy\n",
    "import sympy as sp\n",
    "from sympy import init_printing\n",
    "init_printing()"
   ]
  },
  {
   "cell_type": "code",
   "execution_count": 2,
   "metadata": {
    "collapsed": false
   },
   "outputs": [],
   "source": [
    "# Define the variables\n",
    "# Complex variable\n",
    "s = sp.symbols('s')\n",
    "# FOTD Coeffficients\n",
    "T1,T2,T3,T4 = sp.symbols('T_1 T_2 T_3 T_4')\n",
    "K1,K2,K3,K4 = sp.symbols('K_1 K_2 K_3 K_4')\n",
    "# Time Delay Coefficients\n",
    "L1,L2,L3,L4 = sp.symbols('L_1 L_2 L_3 L_4')\n",
    "\n",
    "# Vectorize\n",
    "TV = [T1,T2,T3,T4]\n",
    "KV = [K1,K2,K3,K4]\n",
    "LV = [L1,L2,L3,L4]\n",
    "\n",
    "# Define a FOTD\n",
    "def FOTD(K,T,L):\n",
    "    return K/(T*s+1) * sp.exp(-L*s)"
   ]
  },
  {
   "cell_type": "code",
   "execution_count": 3,
   "metadata": {
    "collapsed": false
   },
   "outputs": [
    {
     "data": {
      "image/png": "[encoded data removed]",
      "text/latex": [
       "$$\\left[\\begin{matrix}\\frac{\\left(K_{1} K_{4} \\left(T_{2} s + 1\\right) e^{L_{2} s} - K_{2} K_{3} \\left(T_{1} s + 1\\right) e^{L_{1} s}\\right) e^{- s \\left(L_{1} + L_{2}\\right)}}{\\left(K_{1} K_{4} - K_{2} K_{3}\\right) \\left(T_{1} s + 1\\right) \\left(T_{2} s + 1\\right)} & \\frac{K_{1} K_{2} \\left(\\left(T_{1} s + 1\\right) e^{L_{1} s} - \\left(T_{2} s + 1\\right) e^{L_{2} s}\\right) e^{- s \\left(L_{1} + L_{2}\\right)}}{\\left(K_{1} K_{4} - K_{2} K_{3}\\right) \\left(T_{1} s + 1\\right) \\left(T_{2} s + 1\\right)}\\\\\\frac{K_{3} K_{4} \\left(- \\left(T_{3} s + 1\\right) e^{L_{3} s} + \\left(T_{4} s + 1\\right) e^{L_{4} s}\\right) e^{- s \\left(L_{3} + L_{4}\\right)}}{\\left(K_{1} K_{4} - K_{2} K_{3}\\right) \\left(T_{3} s + 1\\right) \\left(T_{4} s + 1\\right)} & \\frac{\\left(K_{1} K_{4} \\left(T_{3} s + 1\\right) e^{L_{3} s} - K_{2} K_{3} \\left(T_{4} s + 1\\right) e^{L_{4} s}\\right) e^{- s \\left(L_{3} + L_{4}\\right)}}{\\left(K_{1} K_{4} - K_{2} K_{3}\\right) \\left(T_{3} s + 1\\right) \\left(T_{4} s + 1\\right)}\\end{matrix}\\right]$$"
      ],
      "text/plain": [
       "⎡⎛                  L₂⋅s                     L₁⋅s⎞  -s⋅(L₁ + L₂)           ⎛  \n",
       "⎢⎝K₁⋅K₄⋅(T₂⋅s + 1)⋅ℯ     - K₂⋅K₃⋅(T₁⋅s + 1)⋅ℯ    ⎠⋅ℯ                 K₁⋅K₂⋅⎝(T\n",
       "⎢───────────────────────────────────────────────────────────────     ─────────\n",
       "⎢             (K₁⋅K₄ - K₂⋅K₃)⋅(T₁⋅s + 1)⋅(T₂⋅s + 1)                           \n",
       "⎢                                                                             \n",
       "⎢        ⎛              L₃⋅s               L₄⋅s⎞  -s⋅(L₃ + L₄)    ⎛           \n",
       "⎢  K₃⋅K₄⋅⎝- (T₃⋅s + 1)⋅ℯ     + (T₄⋅s + 1)⋅ℯ    ⎠⋅ℯ                ⎝K₁⋅K₄⋅(T₃⋅s\n",
       "⎢  ───────────────────────────────────────────────────────────    ────────────\n",
       "⎣             (K₁⋅K₄ - K₂⋅K₃)⋅(T₃⋅s + 1)⋅(T₄⋅s + 1)                           \n",
       "\n",
       "          L₁⋅s               L₂⋅s⎞  -s⋅(L₁ + L₂)   ⎤\n",
       "₁⋅s + 1)⋅ℯ     - (T₂⋅s + 1)⋅ℯ    ⎠⋅ℯ               ⎥\n",
       "────────────────────────────────────────────────   ⎥\n",
       " (K₁⋅K₄ - K₂⋅K₃)⋅(T₁⋅s + 1)⋅(T₂⋅s + 1)             ⎥\n",
       "                                                   ⎥\n",
       "       L₃⋅s                     L₄⋅s⎞  -s⋅(L₃ + L₄)⎥\n",
       " + 1)⋅ℯ     - K₂⋅K₃⋅(T₄⋅s + 1)⋅ℯ    ⎠⋅ℯ            ⎥\n",
       "───────────────────────────────────────────────────⎥\n",
       " (K₁⋅K₄ - K₂⋅K₃)⋅(T₃⋅s + 1)⋅(T₄⋅s + 1)             ⎦"
      ]
     },
     "execution_count": 3,
     "metadata": {},
     "output_type": "execute_result"
    }
   ],
   "source": [
    "#Define a Matrix of FOTD\n",
    "G = sp.zeros(2)\n",
    "for i in range(0,4):\n",
    "    G[i]= FOTD(KV[i],TV[i],LV[i])\n",
    "\n",
    "#Get the DC Gain and invert it for Static Decoupling \n",
    "G0 = G.subs(s,0)\n",
    "D = sp.simplify(G0**-1)\n",
    "\n",
    "#Get the Q Matrix -> the static decoupled system\n",
    "Q = sp.simplify(G*D)\n",
    "Q"
   ]
  },
  {
   "cell_type": "code",
   "execution_count": 4,
   "metadata": {
    "collapsed": false,
    "scrolled": true
   },
   "outputs": [],
   "source": [
    "# Get the Taylor series Expansion for the Interaction of Q approx I + O(s)\n",
    "k12 = sp.simplify(Q[1].series(s,0,2))\n",
    "k21 = sp.simplify(Q[2].series(s,0,2))"
   ]
  },
  {
   "cell_type": "code",
   "execution_count": 5,
   "metadata": {
    "collapsed": false
   },
   "outputs": [
    {
     "data": {
      "image/png": "[encoded data removed]",
      "text/latex": [
       "$$\\frac{1}{K_{1} K_{4} - K_{2} K_{3}} \\left(K_{1} K_{2} s \\left(L_{1} - L_{2} + T_{1} - T_{2}\\right) + \\mathcal{O}\\left(s^{2}\\right)\\right)$$"
      ],
      "text/plain": [
       "                               ⎛ 2⎞\n",
       "K₁⋅K₂⋅s⋅(L₁ - L₂ + T₁ - T₂) + O⎝s ⎠\n",
       "───────────────────────────────────\n",
       "           K₁⋅K₄ - K₂⋅K₃           "
      ]
     },
     "execution_count": 5,
     "metadata": {},
     "output_type": "execute_result"
    }
   ],
   "source": [
    "# Print the Interaction of Input 2 on Output 1 in small frequencies\n",
    "k12"
   ]
  },
  {
   "cell_type": "code",
   "execution_count": 8,
   "metadata": {
    "collapsed": false
   },
   "outputs": [
    {
     "data": {
      "image/png": "[encoded data removed]",
      "text/latex": [
       "$$\\frac{1}{K_{1} K_{4} - K_{2} K_{3}} \\left(- K_{3} K_{4} s \\left(L_{3} - L_{4} + T_{3} - T_{4}\\right) + \\mathcal{O}\\left(s^{2}\\right)\\right)$$"
      ],
      "text/plain": [
       "                                ⎛ 2⎞\n",
       "-K₃⋅K₄⋅s⋅(L₃ - L₄ + T₃ - T₄) + O⎝s ⎠\n",
       "────────────────────────────────────\n",
       "           K₁⋅K₄ - K₂⋅K₃            "
      ]
     },
     "execution_count": 8,
     "metadata": {},
     "output_type": "execute_result"
    }
   ],
   "source": [
    "# Print the Interaction of Input 1 on Output 2 in small frequencies\n",
    "k21"
   ]
  },
  {
   "cell_type": "markdown",
   "metadata": {},
   "source": [
    "# Interpretation\n",
    "\n",
    "We can see that the inverse of the determinant of the DCGain is a scaling factor describing the influence of the main diagonal elements in relation to the off diagonal elements. Hence, if the matrix is nearly equal in its gains the interaction is large.\n",
    "\n",
    "The scaling is completed with the influence of the gains of the row affecting the output.\n",
    "\n",
    "The results of the calculation give a direct interpretation:\n",
    "Consider a TITO system described by FOTD functions. The Influence of the static decoupled system Q from an input i on an output j is neglectable iff:\n",
    "\n",
    "- $T_i = T_j$ and $L_i = L_j$\n",
    "- $T_i = L_j$ and $T_j = L_i$\n",
    "- $K_i K_j \\leq 1$ and $det(G_0) \\geq 1$"
   ]
  },
  {
   "cell_type": "code",
   "execution_count": null,
   "metadata": {
    "collapsed": true
   },
   "outputs": [],
   "source": []
  }
 ],
 "metadata": {
  "kernelspec": {
   "display_name": "Python 3",
   "language": "python",
   "name": "python3"
  },
  "language_info": {
   "codemirror_mode": {
    "name": "ipython",
    "version": 3
   },
   "file_extension": ".py",
   "mimetype": "text/x-python",
   "name": "python",
   "nbconvert_exporter": "python",
   "pygments_lexer": "ipython3",
   "version": "3.6.1"
  }
 },
 "nbformat": 4,
 "nbformat_minor": 2
}
