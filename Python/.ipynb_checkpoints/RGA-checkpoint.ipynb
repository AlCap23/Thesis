{
 "cells": [
  {
   "cell_type": "markdown",
   "metadata": {
    "deletable": true,
    "editable": true
   },
   "source": [
    "# Relative Gain Array of a System"
   ]
  },
  {
   "cell_type": "code",
   "execution_count": 1,
   "metadata": {
    "collapsed": true,
    "deletable": true,
    "editable": true
   },
   "outputs": [],
   "source": [
    "# Import the needed packages, SymPy\n",
    "import sympy as sp\n",
    "from sympy import init_printing\n",
    "init_printing()"
   ]
  },
  {
   "cell_type": "code",
   "execution_count": 2,
   "metadata": {
    "collapsed": false,
    "deletable": true,
    "editable": true
   },
   "outputs": [],
   "source": [
    "# Define the variables\n",
    "# Complex variable\n",
    "s = sp.symbols('s')\n",
    "# FOTD Coeffficients\n",
    "T1,T2,T3,T4 = sp.symbols('T_1 T_2 T_3 T_4')\n",
    "K1,K2,K3,K4 = sp.symbols('K_1 K_2 K_3 K_4')\n",
    "# Time Delay Coefficients\n",
    "L1,L2,L3,L4 = sp.symbols('L_1 L_2 L_3 L_4')\n",
    "\n",
    "# Vectorize\n",
    "TV = [T1,T2,T3,T4]\n",
    "KV = [K1,K2,K3,K4]\n",
    "LV = [L1,L2,L3,L4]\n",
    "\n",
    "# Define a FOTD\n",
    "def FOTD(K,T,L):\n",
    "    return K/(T*s+1) * sp.exp(-L*s)"
   ]
  },
  {
   "cell_type": "code",
   "execution_count": 3,
   "metadata": {
    "collapsed": false,
    "deletable": true,
    "editable": true
   },
   "outputs": [
    {
     "data": {
      "image/png": "[encoded data removed]",
      "text/latex": [
       "$$\\left[\\begin{matrix}\\frac{K_{1} K_{4} - K_{2}^{2}}{K_{1} K_{4} - K_{2} K_{3}} & \\frac{K_{1} \\left(K_{2} - K_{3}\\right)}{K_{1} K_{4} - K_{2} K_{3}}\\\\\\frac{K_{4} \\left(- K_{2} + K_{3}\\right)}{K_{1} K_{4} - K_{2} K_{3}} & \\frac{K_{1} K_{4} - K_{3}^{2}}{K_{1} K_{4} - K_{2} K_{3}}\\end{matrix}\\right]$$"
      ],
      "text/plain": [
       "⎡           2                ⎤\n",
       "⎢ K₁⋅K₄ - K₂     K₁⋅(K₂ - K₃)⎥\n",
       "⎢─────────────  ─────────────⎥\n",
       "⎢K₁⋅K₄ - K₂⋅K₃  K₁⋅K₄ - K₂⋅K₃⎥\n",
       "⎢                            ⎥\n",
       "⎢                          2 ⎥\n",
       "⎢K₄⋅(-K₂ + K₃)   K₁⋅K₄ - K₃  ⎥\n",
       "⎢─────────────  ─────────────⎥\n",
       "⎣K₁⋅K₄ - K₂⋅K₃  K₁⋅K₄ - K₂⋅K₃⎦"
      ]
     },
     "execution_count": 3,
     "metadata": {},
     "output_type": "execute_result"
    }
   ],
   "source": [
    "#Define a Matrix of FOTD\n",
    "G = sp.zeros(2)\n",
    "for i in range(0,4):\n",
    "    G[i]= FOTD(KV[i],TV[i],LV[i])\n",
    "\n",
    "#Get the RGA\n",
    "G0 = G.subs(s,0)\n",
    "RGA = sp.simplify(G0*G0.transpose()**-1)\n",
    "\n",
    "RGA"
   ]
  },
  {
   "cell_type": "code",
   "execution_count": 5,
   "metadata": {
    "collapsed": false
   },
   "outputs": [],
   "source": [
    "#Get the dynamic RGA\n",
    "RGD = sp.simplify(G*G.transpose()**-1)\n",
    "DGA = sp.zeros(2)\n",
    "# Loop simplify\n",
    "for i in range(0,4):\n",
    "    DGA[i] = sp.simplify(RGD[i])"
   ]
  },
  {
   "cell_type": "code",
   "execution_count": 11,
   "metadata": {
    "collapsed": false
   },
   "outputs": [
    {
     "data": {
      "image/png": "[encoded data removed]",
      "text/latex": [
       "$$\\left[\\begin{matrix}\\frac{e^{- s \\left(L_{1} + 3 L_{2} + L_{3}\\right)}}{\\left(T_{2} s + 1\\right) \\left(K_{1} K_{4} \\left(T_{2} s + 1\\right) \\left(T_{3} s + 1\\right) e^{s \\left(L_{2} + L_{3}\\right)} - K_{2} K_{3} \\left(T_{1} s + 1\\right) \\left(T_{4} s + 1\\right) e^{s \\left(L_{1} + L_{4}\\right)}\\right)} \\left(- K_{2}^{2} \\left(T_{1} s + 1\\right) \\left(T_{3} s + 1\\right) \\left(T_{4} s + 1\\right) e^{s \\left(2 L_{1} + 2 L_{2} + 2 L_{3} + L_{4}\\right)} + \\left(T_{2} s + 1\\right) \\left(K_{2} K_{3} \\left(T_{1} s + 1\\right) \\left(T_{4} s + 1\\right) e^{s \\left(2 L_{1} + L_{2} + L_{3} + L_{4}\\right)} + \\left(K_{1} K_{4} \\left(T_{2} s + 1\\right) \\left(T_{3} s + 1\\right) e^{s \\left(L_{2} + L_{3}\\right)} - K_{2} K_{3} \\left(T_{1} s + 1\\right) \\left(T_{4} s + 1\\right) e^{s \\left(L_{1} + L_{4}\\right)}\\right) e^{s \\left(L_{1} + L_{2} + L_{3}\\right)}\\right) e^{2 L_{2} s}\\right) & \\frac{K_{1} \\left(T_{4} s + 1\\right) \\left(K_{2} \\left(T_{3} s + 1\\right) e^{s \\left(L_{2} + 2 L_{3} + L_{4}\\right)} - K_{3} \\left(T_{2} s + 1\\right) e^{s \\left(2 L_{2} + L_{3} + L_{4}\\right)}\\right) e^{- s \\left(L_{2} + L_{3}\\right)}}{K_{1} K_{4} \\left(T_{2} s + 1\\right) \\left(T_{3} s + 1\\right) e^{s \\left(L_{2} + L_{3}\\right)} - K_{2} K_{3} \\left(T_{1} s + 1\\right) \\left(T_{4} s + 1\\right) e^{s \\left(L_{1} + L_{4}\\right)}}\\\\- \\frac{e^{- s \\left(2 L_{2} + 2 L_{3} + L_{4}\\right)}}{K_{1} \\left(T_{3} s + 1\\right) \\left(K_{1} K_{4} \\left(T_{2} s + 1\\right) \\left(T_{3} s + 1\\right) e^{s \\left(L_{2} + L_{3}\\right)} - K_{2} K_{3} \\left(T_{1} s + 1\\right) \\left(T_{4} s + 1\\right) e^{s \\left(L_{1} + L_{4}\\right)}\\right)} \\left(T_{1} s + 1\\right) \\left(K_{1} K_{2} K_{4} \\left(T_{3} s + 1\\right)^{2} e^{s \\left(L_{1} + 2 L_{2} + 3 L_{3} + L_{4}\\right)} - K_{3} \\left(K_{2} K_{3} \\left(T_{1} s + 1\\right) \\left(T_{4} s + 1\\right) e^{s \\left(2 L_{1} + L_{2} + L_{3} + L_{4}\\right)} + \\left(K_{1} K_{4} \\left(T_{2} s + 1\\right) \\left(T_{3} s + 1\\right) e^{s \\left(L_{2} + L_{3}\\right)} - K_{2} K_{3} \\left(T_{1} s + 1\\right) \\left(T_{4} s + 1\\right) e^{s \\left(L_{1} + L_{4}\\right)}\\right) e^{s \\left(L_{1} + L_{2} + L_{3}\\right)}\\right) e^{s \\left(L_{2} + L_{4}\\right)}\\right) & \\frac{\\left(T_{2} s + 1\\right) \\left(K_{1} K_{4} \\left(T_{3} s + 1\\right)^{2} e^{s \\left(L_{2} + 3 L_{3} + L_{4}\\right)} - K_{3}^{2} \\left(T_{1} s + 1\\right) \\left(T_{4} s + 1\\right) e^{s \\left(L_{1} + L_{2} + L_{3} + 2 L_{4}\\right)}\\right) e^{- s \\left(2 L_{3} + L_{4}\\right)}}{\\left(T_{3} s + 1\\right) \\left(K_{1} K_{4} \\left(T_{2} s + 1\\right) \\left(T_{3} s + 1\\right) e^{s \\left(L_{2} + L_{3}\\right)} - K_{2} K_{3} \\left(T_{1} s + 1\\right) \\left(T_{4} s + 1\\right) e^{s \\left(L_{1} + L_{4}\\right)}\\right)}\\end{matrix}\\right]$$"
      ],
      "text/plain": [
       "⎡⎛    2                                   s⋅(2⋅L₁ + 2⋅L₂ + 2⋅L₃ + L₄)         \n",
       "⎢⎝- K₂ ⋅(T₁⋅s + 1)⋅(T₃⋅s + 1)⋅(T₄⋅s + 1)⋅ℯ                            + (T₂⋅s \n",
       "⎢─────────────────────────────────────────────────────────────────────────────\n",
       "⎢                                                                             \n",
       "⎢                                                                             \n",
       "⎢                                                                             \n",
       "⎢                ⎛                   2  s⋅(L₁ + 2⋅L₂ + 3⋅L₃ + L₄)      ⎛      \n",
       "⎢    -(T₁⋅s + 1)⋅⎝K₁⋅K₂⋅K₄⋅(T₃⋅s + 1) ⋅ℯ                          - K₃⋅⎝K₂⋅K₃⋅\n",
       "⎢    ─────────────────────────────────────────────────────────────────────────\n",
       "⎢                                                                             \n",
       "⎣                                                                             \n",
       "\n",
       "     ⎛                             s⋅(2⋅L₁ + L₂ + L₃ + L₄)   ⎛                \n",
       "+ 1)⋅⎝K₂⋅K₃⋅(T₁⋅s + 1)⋅(T₄⋅s + 1)⋅ℯ                        + ⎝K₁⋅K₄⋅(T₂⋅s + 1)\n",
       "──────────────────────────────────────────────────────────────────────────────\n",
       "                      ⎛                             s⋅(L₂ + L₃)               \n",
       "           (T₂⋅s + 1)⋅⎝K₁⋅K₄⋅(T₂⋅s + 1)⋅(T₃⋅s + 1)⋅ℯ            - K₂⋅K₃⋅(T₁⋅s \n",
       "                                                                              \n",
       "                       s⋅(2⋅L₁ + L₂ + L₃ + L₄)   ⎛                            \n",
       "(T₁⋅s + 1)⋅(T₄⋅s + 1)⋅ℯ                        + ⎝K₁⋅K₄⋅(T₂⋅s + 1)⋅(T₃⋅s + 1)⋅\n",
       "──────────────────────────────────────────────────────────────────────────────\n",
       "                       ⎛                             s⋅(L₂ + L₃)              \n",
       "         K₁⋅(T₃⋅s + 1)⋅⎝K₁⋅K₄⋅(T₂⋅s + 1)⋅(T₃⋅s + 1)⋅ℯ            - K₂⋅K₃⋅(T₁⋅s\n",
       "\n",
       "             s⋅(L₂ + L₃)                                s⋅(L₁ + L₄)⎞  s⋅(L₁ + \n",
       "⋅(T₃⋅s + 1)⋅ℯ            - K₂⋅K₃⋅(T₁⋅s + 1)⋅(T₄⋅s + 1)⋅ℯ           ⎠⋅ℯ        \n",
       "──────────────────────────────────────────────────────────────────────────────\n",
       "                 s⋅(L₁ + L₄)⎞                                                 \n",
       "+ 1)⋅(T₄⋅s + 1)⋅ℯ           ⎠                                                 \n",
       "                                                                              \n",
       " s⋅(L₂ + L₃)                                s⋅(L₁ + L₄)⎞  s⋅(L₁ + L₂ + L₃)⎞  s\n",
       "ℯ            - K₂⋅K₃⋅(T₁⋅s + 1)⋅(T₄⋅s + 1)⋅ℯ           ⎠⋅ℯ                ⎠⋅ℯ \n",
       "──────────────────────────────────────────────────────────────────────────────\n",
       "                  s⋅(L₁ + L₄)⎞                                                \n",
       " + 1)⋅(T₄⋅s + 1)⋅ℯ           ⎠                                                \n",
       "\n",
       "L₂ + L₃)⎞  2⋅L₂⋅s⎞  -s⋅(L₁ + 3⋅L₂ + L₃)                          ⎛            \n",
       "        ⎠⋅ℯ      ⎠⋅ℯ                               K₁⋅(T₄⋅s + 1)⋅⎝K₂⋅(T₃⋅s + 1\n",
       "───────────────────────────────────────            ───────────────────────────\n",
       "                                                                              \n",
       "                                                           K₁⋅K₄⋅(T₂⋅s + 1)⋅(T\n",
       "                                                                              \n",
       "⋅(L₂ + L₄)⎞  -s⋅(2⋅L₂ + 2⋅L₃ + L₄)                  ⎛                2  s⋅(L₂ \n",
       "          ⎠⋅ℯ                            (T₂⋅s + 1)⋅⎝K₁⋅K₄⋅(T₃⋅s + 1) ⋅ℯ      \n",
       "───────────────────────────────────      ─────────────────────────────────────\n",
       "                                                                ⎛             \n",
       "                                                     (T₃⋅s + 1)⋅⎝K₁⋅K₄⋅(T₂⋅s +\n",
       "\n",
       "   s⋅(L₂ + 2⋅L₃ + L₄)                  s⋅(2⋅L₂ + L₃ + L₄)⎞  -s⋅(L₂ + L₃)      \n",
       ")⋅ℯ                   - K₃⋅(T₂⋅s + 1)⋅ℯ                  ⎠⋅ℯ                  \n",
       "────────────────────────────────────────────────────────────────────────      \n",
       "          s⋅(L₂ + L₃)                                s⋅(L₁ + L₄)              \n",
       "₃⋅s + 1)⋅ℯ            - K₂⋅K₃⋅(T₁⋅s + 1)⋅(T₄⋅s + 1)⋅ℯ                         \n",
       "                                                                              \n",
       "+ 3⋅L₃ + L₄)     2                        s⋅(L₁ + L₂ + L₃ + 2⋅L₄)⎞  -s⋅(2⋅L₃ +\n",
       "             - K₃ ⋅(T₁⋅s + 1)⋅(T₄⋅s + 1)⋅ℯ                       ⎠⋅ℯ          \n",
       "──────────────────────────────────────────────────────────────────────────────\n",
       "                s⋅(L₂ + L₃)                                s⋅(L₁ + L₄)⎞       \n",
       " 1)⋅(T₃⋅s + 1)⋅ℯ            - K₂⋅K₃⋅(T₁⋅s + 1)⋅(T₄⋅s + 1)⋅ℯ           ⎠       \n",
       "\n",
       "    ⎤\n",
       "    ⎥\n",
       "    ⎥\n",
       "    ⎥\n",
       "    ⎥\n",
       "    ⎥\n",
       " L₄)⎥\n",
       "    ⎥\n",
       "────⎥\n",
       "    ⎥\n",
       "    ⎦"
      ]
     },
     "execution_count": 11,
     "metadata": {},
     "output_type": "execute_result"
    }
   ],
   "source": [
    "DGA"
   ]
  }
 ],
 "metadata": {
  "kernelspec": {
   "display_name": "Python 3",
   "language": "python",
   "name": "python3"
  },
  "language_info": {
   "codemirror_mode": {
    "name": "ipython",
    "version": 3
   },
   "file_extension": ".py",
   "mimetype": "text/x-python",
   "name": "python",
   "nbconvert_exporter": "python",
   "pygments_lexer": "ipython3",
   "version": "3.6.1"
  }
 },
 "nbformat": 4,
 "nbformat_minor": 2
}
