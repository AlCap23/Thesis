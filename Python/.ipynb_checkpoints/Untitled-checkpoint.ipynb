{
 "cells": [
  {
   "cell_type": "code",
   "execution_count": 1,
   "metadata": {
    "collapsed": true
   },
   "outputs": [],
   "source": [
    "import Algorithms as alg\n",
    "import numpy as np\n",
    "import pandas as pd"
   ]
  },
  {
   "cell_type": "code",
   "execution_count": 3,
   "metadata": {},
   "outputs": [
    {
     "data": {
      "text/html": [
       "<div>\n",
       "<style>\n",
       "    .dataframe thead tr:only-child th {\n",
       "        text-align: right;\n",
       "    }\n",
       "\n",
       "    .dataframe thead th {\n",
       "        text-align: left;\n",
       "    }\n",
       "\n",
       "    .dataframe tbody tr th {\n",
       "        vertical-align: top;\n",
       "    }\n",
       "</style>\n",
       "<table border=\"1\" class=\"dataframe\">\n",
       "  <thead>\n",
       "    <tr style=\"text-align: right;\">\n",
       "      <th></th>\n",
       "      <th>T_A</th>\n",
       "      <th>Q_C</th>\n",
       "      <th>K11</th>\n",
       "      <th>K12</th>\n",
       "      <th>K21</th>\n",
       "      <th>K22</th>\n",
       "      <th>T11</th>\n",
       "      <th>T12</th>\n",
       "      <th>T21</th>\n",
       "      <th>T22</th>\n",
       "      <th>L11</th>\n",
       "      <th>L12</th>\n",
       "      <th>L21</th>\n",
       "      <th>L22</th>\n",
       "    </tr>\n",
       "  </thead>\n",
       "  <tbody>\n",
       "    <tr>\n",
       "      <th>0</th>\n",
       "      <td>273.1500</td>\n",
       "      <td>-60000.0</td>\n",
       "      <td>-4.491502</td>\n",
       "      <td>5.816952</td>\n",
       "      <td>-2.140460</td>\n",
       "      <td>-3.229646</td>\n",
       "      <td>51.832431</td>\n",
       "      <td>48.533966</td>\n",
       "      <td>21.967071</td>\n",
       "      <td>39.462594</td>\n",
       "      <td>30.261859</td>\n",
       "      <td>23.336695</td>\n",
       "      <td>10.367038</td>\n",
       "      <td>15.652302</td>\n",
       "    </tr>\n",
       "    <tr>\n",
       "      <th>1</th>\n",
       "      <td>280.6125</td>\n",
       "      <td>-60000.0</td>\n",
       "      <td>-1.522817</td>\n",
       "      <td>7.858642</td>\n",
       "      <td>-0.969863</td>\n",
       "      <td>-2.683115</td>\n",
       "      <td>53.898693</td>\n",
       "      <td>50.927922</td>\n",
       "      <td>23.577458</td>\n",
       "      <td>82.328148</td>\n",
       "      <td>17.331714</td>\n",
       "      <td>18.621772</td>\n",
       "      <td>8.527217</td>\n",
       "      <td>8.359746</td>\n",
       "    </tr>\n",
       "    <tr>\n",
       "      <th>2</th>\n",
       "      <td>288.0750</td>\n",
       "      <td>-60000.0</td>\n",
       "      <td>-1.327727</td>\n",
       "      <td>6.510752</td>\n",
       "      <td>-1.493744</td>\n",
       "      <td>-3.830155</td>\n",
       "      <td>49.206628</td>\n",
       "      <td>50.295621</td>\n",
       "      <td>24.299670</td>\n",
       "      <td>53.742705</td>\n",
       "      <td>15.136626</td>\n",
       "      <td>14.873302</td>\n",
       "      <td>10.314468</td>\n",
       "      <td>9.061144</td>\n",
       "    </tr>\n",
       "    <tr>\n",
       "      <th>3</th>\n",
       "      <td>295.5375</td>\n",
       "      <td>-60000.0</td>\n",
       "      <td>-1.044284</td>\n",
       "      <td>4.541910</td>\n",
       "      <td>-1.769004</td>\n",
       "      <td>-5.478722</td>\n",
       "      <td>43.367588</td>\n",
       "      <td>51.063995</td>\n",
       "      <td>21.930000</td>\n",
       "      <td>83.879157</td>\n",
       "      <td>15.232742</td>\n",
       "      <td>8.627320</td>\n",
       "      <td>9.266288</td>\n",
       "      <td>0.000000</td>\n",
       "    </tr>\n",
       "    <tr>\n",
       "      <th>4</th>\n",
       "      <td>303.0000</td>\n",
       "      <td>-60000.0</td>\n",
       "      <td>-0.785930</td>\n",
       "      <td>2.524391</td>\n",
       "      <td>-1.662013</td>\n",
       "      <td>-5.922627</td>\n",
       "      <td>39.799795</td>\n",
       "      <td>34.574564</td>\n",
       "      <td>23.200880</td>\n",
       "      <td>75.478641</td>\n",
       "      <td>12.952436</td>\n",
       "      <td>10.030147</td>\n",
       "      <td>8.056373</td>\n",
       "      <td>0.000000</td>\n",
       "    </tr>\n",
       "  </tbody>\n",
       "</table>\n",
       "</div>"
      ],
      "text/plain": [
       "        T_A      Q_C       K11       K12       K21       K22        T11  \\\n",
       "0  273.1500 -60000.0 -4.491502  5.816952 -2.140460 -3.229646  51.832431   \n",
       "1  280.6125 -60000.0 -1.522817  7.858642 -0.969863 -2.683115  53.898693   \n",
       "2  288.0750 -60000.0 -1.327727  6.510752 -1.493744 -3.830155  49.206628   \n",
       "3  295.5375 -60000.0 -1.044284  4.541910 -1.769004 -5.478722  43.367588   \n",
       "4  303.0000 -60000.0 -0.785930  2.524391 -1.662013 -5.922627  39.799795   \n",
       "\n",
       "         T12        T21        T22        L11        L12        L21        L22  \n",
       "0  48.533966  21.967071  39.462594  30.261859  23.336695  10.367038  15.652302  \n",
       "1  50.927922  23.577458  82.328148  17.331714  18.621772   8.527217   8.359746  \n",
       "2  50.295621  24.299670  53.742705  15.136626  14.873302  10.314468   9.061144  \n",
       "3  51.063995  21.930000  83.879157  15.232742   8.627320   9.266288   0.000000  \n",
       "4  34.574564  23.200880  75.478641  12.952436  10.030147   8.056373   0.000000  "
      ]
     },
     "execution_count": 3,
     "metadata": {},
     "output_type": "execute_result"
    }
   ],
   "source": [
    "File = open('PhysicalIdentification.csv')\n",
    "Data = pd.DataFrame.from_csv(File, sep =';')\n",
    "Data"
   ]
  },
  {
   "cell_type": "code",
   "execution_count": 7,
   "metadata": {},
   "outputs": [
    {
     "data": {
      "text/plain": [
       "(array([[[-0.52943523, -0.01258981, -0.        ],\n",
       "         [ 0.        ,  0.        ,  0.        ]],\n",
       " \n",
       "        [[ 0.        ,  0.        ,  0.        ],\n",
       "         [-0.18927451, -0.00413997, -0.        ]]]),\n",
       " array([[ 0.35248061,  0.        ],\n",
       "        [ 0.        ,  0.        ]]),\n",
       " array([[ 1.,  0.],\n",
       "        [ 0.,  1.]]))"
      ]
     },
     "execution_count": 7,
     "metadata": {},
     "output_type": "execute_result"
    }
   ],
   "source": [
    "K = Data.loc[2][2:6]\n",
    "K = np.reshape(K.values,(2,2))\n",
    "T = Data.loc[2][6:10]\n",
    "T = np.reshape(T.values,(2,2))\n",
    "L = Data.loc[2][10:14]\n",
    "L = np.reshape(L.values,(2,2))\n",
    "alg.Control_Decentral(K,T,L, pairing=[0,1])"
   ]
  },
  {
   "cell_type": "code",
   "execution_count": 62,
   "metadata": {},
   "outputs": [
    {
     "name": "stdout",
     "output_type": "stream",
     "text": [
      "Pairing\n",
      "[ 0.8583335  0.8583335]\n",
      "Sensitivity Gain\n",
      "[ 0.53811654  0.53811654]\n",
      "RGA\n",
      "[0 1]\n",
      "[ 0.8583335  0.8583335]\n",
      "Pairing\n",
      "[ 1.86539548  1.86539548]\n",
      "Sensitivity Gain\n",
      "[ 0.8001488   0.30341505]\n",
      "RGA\n",
      "[1 0]\n",
      "[ 6.49503373  1.48799628]\n",
      "Pairing\n",
      "[ 1.91241458  1.91241458]\n",
      "Sensitivity Gain\n",
      "[ 0.75022652  0.39016498]\n",
      "RGA\n",
      "[1 0]\n",
      "[ 4.00539379  2.07527036]\n",
      "Pairing\n",
      "[ 1.40433109  1.40433109]\n",
      "Sensitivity Gain\n",
      "[ 0.78608332  0.21559794]\n",
      "RGA\n",
      "[1 0]\n",
      "[ 5.99625224  2.13647878]\n",
      "Pairing\n",
      "[ 0.90134797  0.90134797]\n",
      "Sensitivity Gain\n",
      "[ 0.52594266  0.52594266]\n",
      "RGA\n",
      "[0 1]\n",
      "[ 0.90134797  0.90134797]\n"
     ]
    }
   ],
   "source": [
    "for i in range(5):\n",
    "    K = Data.loc[i][2:6]\n",
    "    K = np.reshape(K.values,(2,2))\n",
    "    T = Data.loc[i][6:10]\n",
    "    T = np.reshape(T.values,(2,2))\n",
    "    L = Data.loc[i][10:14]\n",
    "    L = np.reshape(L.values,(2,2))\n",
    "    KD = np.diag(np.diag(K))\n",
    "    KA = K-KD\n",
    "    S = -np.dot(np.linalg.inv(KD),KA)\n",
    "    E = np.dot((np.dot(K,np.eye(2)+S)-KD), np.linalg.inv(KD))\n",
    "    print(\"Pairing\")\n",
    "    #print(E)\n",
    "    print(np.linalg.svd(E,compute_uv=False))\n",
    "    KD = np.diag(K[[0,1],np.argmax(alg.RGA(K,T,L),axis=0)])\n",
    "    KA = K-KD\n",
    "    S = -np.dot(np.linalg.inv(KD),KA)\n",
    "    print(\"Sensitivity Gain\")\n",
    "    print(np.linalg.svd(np.linalg.inv(np.eye(2)-np.dot(S,S)), compute_uv=False))\n",
    "    E = np.dot((np.dot(K,np.eye(2)+S)-KD), np.linalg.inv(KD))\n",
    "    print(\"RGA\")\n",
    "    print(np.argmax(alg.RGA(K,T,L),axis=0))\n",
    "    #print(E)\n",
    "    print(np.linalg.svd(E,compute_uv=False))\n",
    "    "
   ]
  },
  {
   "cell_type": "code",
   "execution_count": 50,
   "metadata": {},
   "outputs": [
    {
     "data": {
      "text/plain": [
       "array([-0.78593021, -5.92262714])"
      ]
     },
     "execution_count": 50,
     "metadata": {},
     "output_type": "execute_result"
    }
   ],
   "source": [
    "K[[0,1],np.argmax(alg.RGA(K,T,L),axis=0)]"
   ]
  },
  {
   "cell_type": "code",
   "execution_count": 56,
   "metadata": {},
   "outputs": [
    {
     "data": {
      "text/plain": [
       "array([[ 0.33962264+0.18867925j,  0.66037736-0.18867925j],\n",
       "       [ 0.66037736-0.18867925j,  0.33962264+0.18867925j]])"
      ]
     },
     "execution_count": 56,
     "metadata": {},
     "output_type": "execute_result"
    }
   ],
   "source": [
    "G = np.array([[2,(-5+5*1j)],[5,10]])/(1j+1)\n",
    "np.multiply(G,np.linalg.inv(np.transpose(G)))"
   ]
  },
  {
   "cell_type": "code",
   "execution_count": 57,
   "metadata": {},
   "outputs": [
    {
     "data": {
      "text/plain": [
       "array([[ 0.07547170+0.26415094j, -0.03773585-0.13207547j],\n",
       "       [ 0.16981132+0.09433962j,  0.01509434+0.05283019j]])"
      ]
     },
     "execution_count": 57,
     "metadata": {},
     "output_type": "execute_result"
    }
   ],
   "source": [
    "np.linalg.inv(np.transpose(G))"
   ]
  },
  {
   "cell_type": "code",
   "execution_count": 61,
   "metadata": {},
   "outputs": [
    {
     "data": {
      "text/plain": [
       "(array([0, 1]), array([ 1.-1.j,  5.-5.j]))"
      ]
     },
     "execution_count": 61,
     "metadata": {},
     "output_type": "execute_result"
    }
   ],
   "source": [
    "np.argmax(G, axis=1), np.max(G,axis=1)"
   ]
  },
  {
   "cell_type": "code",
   "execution_count": 67,
   "metadata": {
    "collapsed": true
   },
   "outputs": [],
   "source": [
    "A = np.array([[2,-1],[5,10]])\n",
    "Ainv=np.linalg.inv(A)"
   ]
  },
  {
   "cell_type": "code",
   "execution_count": 68,
   "metadata": {
    "collapsed": true
   },
   "outputs": [],
   "source": [
    "B = np.array([[1.05,-.05],[.05,1.05]])\n",
    "APinv=np.linalg.inv(np.dot(B,A))"
   ]
  },
  {
   "cell_type": "code",
   "execution_count": 69,
   "metadata": {},
   "outputs": [
    {
     "data": {
      "text/plain": [
       "array([[ 0.37828054,  0.0561086 ],\n",
       "       [-0.19366516,  0.06696833]])"
      ]
     },
     "execution_count": 69,
     "metadata": {},
     "output_type": "execute_result"
    }
   ],
   "source": [
    "APinv"
   ]
  },
  {
   "cell_type": "code",
   "execution_count": 70,
   "metadata": {},
   "outputs": [
    {
     "data": {
      "text/plain": [
       "array([[ 1.03710407,  0.18280543],\n",
       "       [-0.05248869,  0.86334842]])"
      ]
     },
     "execution_count": 70,
     "metadata": {},
     "output_type": "execute_result"
    }
   ],
   "source": [
    "np.dot(APinv,A)"
   ]
  },
  {
   "cell_type": "code",
   "execution_count": 71,
   "metadata": {},
   "outputs": [
    {
     "data": {
      "text/plain": [
       "array([[  1.85,  -1.55],\n",
       "       [  5.35,  10.45]])"
      ]
     },
     "execution_count": 71,
     "metadata": {},
     "output_type": "execute_result"
    }
   ],
   "source": [
    "np.dot(B,A)"
   ]
  },
  {
   "cell_type": "code",
   "execution_count": null,
   "metadata": {
    "collapsed": true
   },
   "outputs": [],
   "source": []
  }
 ],
 "metadata": {
  "kernelspec": {
   "display_name": "Python 2",
   "language": "python",
   "name": "python2"
  },
  "language_info": {
   "codemirror_mode": {
    "name": "ipython",
    "version": 2
   },
   "file_extension": ".py",
   "mimetype": "text/x-python",
   "name": "python",
   "nbconvert_exporter": "python",
   "pygments_lexer": "ipython2",
   "version": "2.7.13"
  }
 },
 "nbformat": 4,
 "nbformat_minor": 2
}
