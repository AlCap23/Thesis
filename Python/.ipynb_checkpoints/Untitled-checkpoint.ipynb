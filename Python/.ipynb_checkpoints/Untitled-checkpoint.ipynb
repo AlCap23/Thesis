{
 "cells": [
  {
   "cell_type": "code",
   "execution_count": 1,
   "metadata": {},
   "outputs": [],
   "source": [
    "import Algorithms_Graphic as alg\n",
    "import control as cn\n",
    "import numpy as np"
   ]
  },
  {
   "cell_type": "code",
   "execution_count": 5,
   "metadata": {},
   "outputs": [
    {
     "data": {
      "text/plain": [
       "array([[ 1. , -0.4],\n",
       "       [ 0. ,  0.2]])"
      ]
     },
     "execution_count": 5,
     "metadata": {},
     "output_type": "execute_result"
    }
   ],
   "source": [
    "K = np.array([[1,2],[0,5]])\n",
    "T = np.array([[52,25],[10,10]])\n",
    "L = np.array([[30,1],[2,3]])\n",
    "np.linalg.inv(K)"
   ]
  },
  {
   "cell_type": "code",
   "execution_count": 6,
   "metadata": {},
   "outputs": [
    {
     "name": "stdout",
     "output_type": "stream",
     "text": [
      "(array([[ 1.,  0.],\n",
      "       [ 0.,  1.]]), array([[ 52. , -12.4],\n",
      "       [  0. ,  10. ]]), array([[5, 0],\n",
      "       [0, 3]]))\n"
     ]
    },
    {
     "data": {
      "text/plain": [
       "(array([[[ 0.72495069,  0.01638814,  0.        ],\n",
       "         [ 0.        ,  0.        ,  0.        ]],\n",
       " \n",
       "        [[ 0.        ,  0.        ,  0.        ],\n",
       "         [ 0.        ,  0.        ,  0.        ]]]), array([[ 0.,  0.],\n",
       "        [ 0.,  1.]]), array([[ 1. , -0.4],\n",
       "        [ 0. ,  0.2]]))"
      ]
     },
     "execution_count": 6,
     "metadata": {},
     "output_type": "execute_result"
    }
   ],
   "source": [
    "alg.Control_Astrom(K,T,L, 0.1*np.eye(2),graphics = 'on')"
   ]
  },
  {
   "cell_type": "code",
   "execution_count": null,
   "metadata": {
    "collapsed": true
   },
   "outputs": [],
   "source": []
  }
 ],
 "metadata": {
  "kernelspec": {
   "display_name": "Python 2",
   "language": "python",
   "name": "python2"
  },
  "language_info": {
   "codemirror_mode": {
    "name": "ipython",
    "version": 2
   },
   "file_extension": ".py",
   "mimetype": "text/x-python",
   "name": "python",
   "nbconvert_exporter": "python",
   "pygments_lexer": "ipython2",
   "version": "2.7.13"
  }
 },
 "nbformat": 4,
 "nbformat_minor": 2
}
