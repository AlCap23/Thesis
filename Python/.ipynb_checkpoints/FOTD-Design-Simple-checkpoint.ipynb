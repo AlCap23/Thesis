{
 "cells": [
  {
   "cell_type": "markdown",
   "metadata": {
    "deletable": true,
    "editable": true
   },
   "source": [
    "# First Order Time Delay Controller\n",
    "\n",
    "In the Paper 'Design of Decoupled Controllers for MIMO Systems' by Aström, Johansson and Wang the Decoupling for small frequencies is described.\n",
    "\n",
    "The following calculation is based on the First Order Time Delay (FOTD) Identification method, which results in a Two Input Two Output (TITO) System for the System in feedforward representation. \n",
    "\n",
    "To Decouple the system a Taylor Series around the steady state s=0 is used to derive Interaction from an input to another output. Since we approximate the system always with a FOTD Model, we can derive the interaction:"
   ]
  },
  {
   "cell_type": "code",
   "execution_count": 1,
   "metadata": {
    "collapsed": true,
    "deletable": true,
    "editable": true
   },
   "outputs": [],
   "source": [
    "# Import the needed packages, SymPy\n",
    "import sympy as sp\n",
    "from sympy import init_printing\n",
    "init_printing()"
   ]
  },
  {
   "cell_type": "code",
   "execution_count": 2,
   "metadata": {
    "collapsed": false,
    "deletable": true,
    "editable": true
   },
   "outputs": [],
   "source": [
    "# Define the variables\n",
    "# Complex variable\n",
    "s = sp.symbols('s')\n",
    "# FOTD Coeffficients\n",
    "T1,T2,T3,T4 = sp.symbols('T_1 T_2 T_3 T_4')\n",
    "K1,K2,K3,K4 = sp.symbols('K_1 K_2 K_3 K_4')\n",
    "# Time Delay Coefficients\n",
    "L1,L2,L3,L4 = sp.symbols('L_1 L_2 L_3 L_4')\n",
    "\n",
    "# Vectorize\n",
    "TV = [T1,T2,T3,T4]\n",
    "KV = [K1,K2,K3,K4]\n",
    "LV = [L1,L2,L3,L4]\n",
    "\n",
    "# Define a FOTD\n",
    "def FOTD(K,T,L):\n",
    "    return K/(T*s+1) * sp.exp(-L*s)"
   ]
  },
  {
   "cell_type": "code",
   "execution_count": 3,
   "metadata": {
    "collapsed": false,
    "deletable": true,
    "editable": true
   },
   "outputs": [
    {
     "data": {
      "text/latex": [
       "$$\\left[\\begin{matrix}\\frac{\\left(K_{1} K_{4} \\left(T_{2} s + 1\\right) e^{L_{2} s} - K_{2} K_{3} \\left(T_{1} s + 1\\right) e^{L_{1} s}\\right) e^{- s \\left(L_{1} + L_{2}\\right)}}{\\left(K_{1} K_{4} - K_{2} K_{3}\\right) \\left(T_{1} s + 1\\right) \\left(T_{2} s + 1\\right)} & \\frac{K_{1} K_{2} \\left(\\left(T_{1} s + 1\\right) e^{L_{1} s} - \\left(T_{2} s + 1\\right) e^{L_{2} s}\\right) e^{- s \\left(L_{1} + L_{2}\\right)}}{\\left(K_{1} K_{4} - K_{2} K_{3}\\right) \\left(T_{1} s + 1\\right) \\left(T_{2} s + 1\\right)}\\\\\\frac{K_{3} K_{4} \\left(- \\left(T_{3} s + 1\\right) e^{L_{3} s} + \\left(T_{4} s + 1\\right) e^{L_{4} s}\\right) e^{- s \\left(L_{3} + L_{4}\\right)}}{\\left(K_{1} K_{4} - K_{2} K_{3}\\right) \\left(T_{3} s + 1\\right) \\left(T_{4} s + 1\\right)} & \\frac{\\left(K_{1} K_{4} \\left(T_{3} s + 1\\right) e^{L_{3} s} - K_{2} K_{3} \\left(T_{4} s + 1\\right) e^{L_{4} s}\\right) e^{- s \\left(L_{3} + L_{4}\\right)}}{\\left(K_{1} K_{4} - K_{2} K_{3}\\right) \\left(T_{3} s + 1\\right) \\left(T_{4} s + 1\\right)}\\end{matrix}\\right]$$"
      ],
      "text/plain": [
       "⎡⎛                  L₂⋅s                     L₁⋅s⎞  -s⋅(L₁ + L₂)           ⎛  \n",
       "⎢⎝K₁⋅K₄⋅(T₂⋅s + 1)⋅ℯ     - K₂⋅K₃⋅(T₁⋅s + 1)⋅ℯ    ⎠⋅ℯ                 K₁⋅K₂⋅⎝(T\n",
       "⎢───────────────────────────────────────────────────────────────     ─────────\n",
       "⎢             (K₁⋅K₄ - K₂⋅K₃)⋅(T₁⋅s + 1)⋅(T₂⋅s + 1)                           \n",
       "⎢                                                                             \n",
       "⎢        ⎛              L₃⋅s               L₄⋅s⎞  -s⋅(L₃ + L₄)    ⎛           \n",
       "⎢  K₃⋅K₄⋅⎝- (T₃⋅s + 1)⋅ℯ     + (T₄⋅s + 1)⋅ℯ    ⎠⋅ℯ                ⎝K₁⋅K₄⋅(T₃⋅s\n",
       "⎢  ───────────────────────────────────────────────────────────    ────────────\n",
       "⎣             (K₁⋅K₄ - K₂⋅K₃)⋅(T₃⋅s + 1)⋅(T₄⋅s + 1)                           \n",
       "\n",
       "          L₁⋅s               L₂⋅s⎞  -s⋅(L₁ + L₂)   ⎤\n",
       "₁⋅s + 1)⋅ℯ     - (T₂⋅s + 1)⋅ℯ    ⎠⋅ℯ               ⎥\n",
       "────────────────────────────────────────────────   ⎥\n",
       " (K₁⋅K₄ - K₂⋅K₃)⋅(T₁⋅s + 1)⋅(T₂⋅s + 1)             ⎥\n",
       "                                                   ⎥\n",
       "       L₃⋅s                     L₄⋅s⎞  -s⋅(L₃ + L₄)⎥\n",
       " + 1)⋅ℯ     - K₂⋅K₃⋅(T₄⋅s + 1)⋅ℯ    ⎠⋅ℯ            ⎥\n",
       "───────────────────────────────────────────────────⎥\n",
       " (K₁⋅K₄ - K₂⋅K₃)⋅(T₃⋅s + 1)⋅(T₄⋅s + 1)             ⎦"
      ]
     },
     "execution_count": 3,
     "metadata": {},
     "output_type": "execute_result"
    }
   ],
   "source": [
    "#Define a Matrix of FOTD\n",
    "G = sp.zeros(2)\n",
    "for i in range(0,4):\n",
    "    G[i]= FOTD(KV[i],TV[i],LV[i])\n",
    "\n",
    "#Get the DC Gain and invert it for Static Decoupling \n",
    "G0 = G.subs(s,0)\n",
    "D = sp.simplify(G0**-1)\n",
    "\n",
    "#Get the Q Matrix -> the static decoupled system\n",
    "Q = sp.simplify(G*D)\n",
    "Q"
   ]
  },
  {
   "cell_type": "code",
   "execution_count": 4,
   "metadata": {
    "collapsed": false,
    "deletable": true,
    "editable": true,
    "scrolled": true
   },
   "outputs": [],
   "source": [
    "# Get the Taylor series Expansion for the Interaction of Q approx I + O(s)\n",
    "k12 = sp.simplify(Q[1].series(s,0,2).removeO())/s\n",
    "k21 = sp.simplify(Q[2].series(s,0,2).removeO())/s"
   ]
  },
  {
   "cell_type": "code",
   "execution_count": 5,
   "metadata": {
    "collapsed": false,
    "deletable": true,
    "editable": true
   },
   "outputs": [
    {
     "data": {
      "image/png": "[encoded data removed]",
      "text/latex": [
       "$$\\frac{K_{1} K_{2} \\left(L_{1} - L_{2} + T_{1} - T_{2}\\right)}{K_{1} K_{4} - K_{2} K_{3}}$$"
      ],
      "text/plain": [
       "K₁⋅K₂⋅(L₁ - L₂ + T₁ - T₂)\n",
       "─────────────────────────\n",
       "      K₁⋅K₄ - K₂⋅K₃      "
      ]
     },
     "execution_count": 5,
     "metadata": {},
     "output_type": "execute_result"
    }
   ],
   "source": [
    "# Print the Interaction of Input 2 on Output 1 in small frequencies\n",
    "k12"
   ]
  },
  {
   "cell_type": "code",
   "execution_count": 6,
   "metadata": {
    "collapsed": false,
    "deletable": true,
    "editable": true
   },
   "outputs": [
    {
     "data": {
      "image/png": "[encoded data removed]",
      "text/latex": [
       "$$- \\frac{K_{3} K_{4} \\left(L_{3} - L_{4} + T_{3} - T_{4}\\right)}{K_{1} K_{4} - K_{2} K_{3}}$$"
      ],
      "text/plain": [
       "-K₃⋅K₄⋅(L₃ - L₄ + T₃ - T₄) \n",
       "───────────────────────────\n",
       "       K₁⋅K₄ - K₂⋅K₃       "
      ]
     },
     "execution_count": 6,
     "metadata": {},
     "output_type": "execute_result"
    }
   ],
   "source": [
    "# Print the Interaction of Input 1 on Output 2 in small frequencies\n",
    "k21"
   ]
  },
  {
   "cell_type": "markdown",
   "metadata": {
    "deletable": true,
    "editable": true
   },
   "source": [
    "# Interpretation\n",
    "\n",
    "We can see that the inverse of the determinant of the DCGain is a scaling factor describing the influence of the main diagonal elements in relation to the off diagonal elements. Hence, if the matrix is nearly equal in its gains the interaction is large.\n",
    "\n",
    "The scaling is completed with the influence of the gains of the row affecting the output.\n",
    "\n",
    "The results of the calculation give a direct interpretation:\n",
    "Consider a TITO system described by FOTD functions. The Influence of the static decoupled system Q from an input i on an output j is neglectable iff:\n",
    "\n",
    "- $T_i = T_j$ and $L_i = L_j$\n",
    "- $T_i = L_j$ and $T_j = L_i$\n",
    "- $K_i K_j \\leq 1$ and $det(G_0) \\geq 1$\n",
    "\n",
    "# Decomposition of the Interaction\n",
    "\n",
    "Since we want to directly apply the AMIGO procedure, we can state that:\n",
    "\n",
    "$Q C^* = G D C = G C'$\n",
    "\n",
    "Where $C'$ is the controller we would design from the regular system. Hence, we force the regular controller to behave like the ideal, decoupling controller.\n",
    "\n",
    "$ D C = C'$\n",
    "\n",
    "Or to get the decoupling controller as a function of the regular controller:\n",
    "\n",
    "$C = D^{-1} C'$"
   ]
  },
  {
   "cell_type": "code",
   "execution_count": 7,
   "metadata": {
    "collapsed": true,
    "deletable": true,
    "editable": true
   },
   "outputs": [],
   "source": [
    "# Define the symbols for interaction\n",
    "k1,k2 = sp.symbols('k_1 k_2', real = True) \n",
    "c1,c2 = sp.symbols('c_1 c_2',real = True)\n",
    "# Define symbols for the decoupling controller --> SMALL LETTER\n",
    "ki1,ki2 = sp.symbols('k_{i1} k_{i2}',real = True)\n",
    "kp1,kp2 = sp.symbols('k_{p1} k_{p2}',real = True)\n",
    "b = sp.symbols('b',real = True)\n",
    "# Define the symbols for the regular controller\n",
    "KI1,KI2,KI3,KI4 = sp.symbols('K_{I1} K_{I2} K_{I3} K_{I4}',real = True)\n",
    "KP1,KP2,KP3,KP4 = sp.symbols('K_{P1} K_{P2} K_{P3} K_{P4}',real = True)\n",
    "B = sp.symbols('B',real = True)\n",
    "# Vectorize\n",
    "kV = [k1,k2]\n",
    "cV = [c1,c2]\n",
    "kiV = [ki1,ki2]\n",
    "kpV = [kp1,kp2]\n",
    "solvar =[ki1,ki2,kp1,kp2]\n",
    "KIV = [KI1,KI2,KI3,KI4]\n",
    "KPV = [KP1,KP2,KP3,KP4]"
   ]
  },
  {
   "cell_type": "code",
   "execution_count": 8,
   "metadata": {
    "collapsed": false,
    "deletable": true,
    "editable": true
   },
   "outputs": [],
   "source": [
    "# Create a symbolic Controller\n",
    "def PI(I,P,S):\n",
    "    # Here S is setpointweight\n",
    "    return P*S+I/s\n",
    "\n",
    "# Create an decoupling controller -> Design Space Q\n",
    "C_D = sp.diag(PI(ki1,kp1,1),PI(ki2,kp2,1))\n",
    "# Create the regular controller -> Design Space G\n",
    "C_R = sp.zeros(2)\n",
    "for i in range(0,4):\n",
    "    C_R[i]= PI(KIV[i],KPV[i],1)\n",
    "\n",
    "C_RD = G.subs(s,0) * C_R\n",
    "\n",
    "# Get substituion Rules -> make a list of equations\n",
    "EQ = []\n",
    "for i in range(0,4):\n",
    "    EQ.append(C_D[i]- C_RD[i])"
   ]
  },
  {
   "cell_type": "markdown",
   "metadata": {
    "deletable": true,
    "editable": true
   },
   "source": [
    "We now have a system of 4 Equations we can set to zero. We have to solve for four variables, the parameter of the decoupling controller, to get the desired connection from the heueristic rules for FOTD Systems to the more complex system.\n",
    "\n",
    "We can divide these four equations into two Blocks:\n",
    "- Block one, containing the decoupled controller, we can use to solve for the decoupling controller; \n",
    "  These are the entries of the main diagonal of both matrices.\n",
    "- Block two, containing information about the ratio between the relation of the four controller;\n",
    "  These are the entries of the minor diagonal of both matrices."
   ]
  },
  {
   "cell_type": "code",
   "execution_count": 9,
   "metadata": {
    "collapsed": false,
    "deletable": true,
    "editable": true
   },
   "outputs": [],
   "source": [
    "# Block one\n",
    "# Solve for the decoupling controllers\n",
    "kiEQ = [EQ[0],EQ[3]]\n",
    "kisol = sp.solve(kiEQ,[C_D[0],C_D[3]],dict=True)\n",
    "\n",
    "#Block two\n",
    "# Solve for the ratio of the regular controllers\n",
    "KEQ = [EQ[1],EQ[2]]\n",
    "# Choose to substitute the minor diagonals -> solve for the other controllers\n",
    "Ksol = sp.solve(KEQ,[C_R[1],C_R[2]], dict=True)\n",
    "# Substitute the minor diagonals in the solution for ki\n",
    "# We have a system of polynomials in s; Hence, we can get the right ratio by using coefficient comparision\n",
    "\n",
    "# Regular controller\n",
    "# First minor diagonal\n",
    "a = C_R[1] # Chose controller from input 2 to output 1\n",
    "expr = sp.simplify(Ksol[0][a]).expand()\n",
    "# Get the coefficients corresponding to 1/s\n",
    "I12 = expr.coeff('1/s');\n",
    "# Get the coefficients corresponding to Proportional Gain\n",
    "P12 = sp.simplify(expr-I12/s)\n",
    "\n",
    "# Next controller\n",
    "a = C_R[2]\n",
    "expr = sp.simplify(Ksol[0][a]).expand()\n",
    "# Get the coefficients corresponding to 1/s\n",
    "I21= expr.coeff('1/s')\n",
    "# Get the coefficients corresponding to Proportional Gain\n",
    "P21 = sp.simplify(expr-I21/s)"
   ]
  },
  {
   "cell_type": "markdown",
   "metadata": {
    "deletable": true,
    "editable": true
   },
   "source": [
    "We now have a relation between the choosen (main loop) controller and the other (coupling loop) controller, given by the following relationships:"
   ]
  },
  {
   "cell_type": "code",
   "execution_count": 10,
   "metadata": {
    "collapsed": false,
    "deletable": true,
    "editable": true
   },
   "outputs": [
    {
     "data": {
      "image/png": "[encoded data removed]",
      "text/latex": [
       "$$\\left \\{ \\frac{K_{I2}}{s} + K_{P2} : - \\frac{K_{2}}{K_{1} s} \\left(K_{I4} + K_{P4} s\\right), \\quad \\frac{K_{I3}}{s} + K_{P3} : - \\frac{K_{3}}{K_{4} s} \\left(K_{I1} + K_{P1} s\\right)\\right \\}$$"
      ],
      "text/plain": [
       "⎧K_{I2}           -K₂⋅(K_{I4} + K_{P4}⋅s)   K_{I3}           -K₃⋅(K_{I1} + K_{\n",
       "⎨────── + K_{P2}: ────────────────────────, ────── + K_{P3}: ─────────────────\n",
       "⎩  s                        K₁⋅s              s                        K₄⋅s   \n",
       "\n",
       "P1}⋅s) ⎫\n",
       "───────⎬\n",
       "       ⎭"
      ]
     },
     "execution_count": 10,
     "metadata": {},
     "output_type": "execute_result"
    }
   ],
   "source": [
    "Ksol[0]"
   ]
  },
  {
   "cell_type": "markdown",
   "metadata": {
    "deletable": true,
    "editable": true
   },
   "source": [
    "We use this relationship to substitute the controller in the relationship for the decoupling controller."
   ]
  },
  {
   "cell_type": "code",
   "execution_count": 11,
   "metadata": {
    "collapsed": false,
    "deletable": true,
    "editable": true
   },
   "outputs": [],
   "source": [
    "# Decoupling Controller 1\n",
    "# Set the key of the dictionary of solutions\n",
    "a = C_D[0]\n",
    "# Substitute the regular controllers in the current solutions\n",
    "sub1 = kisol[0][a].subs(KPV[1],P12).subs(KPV[2],P21).subs(KIV[1],I12).subs(KIV[2],I21)\n",
    "# Simplify the equation\n",
    "sub1 = sp.simplify(sub1)\n",
    "\n",
    "# Decoupling Controller 2\n",
    "# Set the key of the dictionary of solutions\n",
    "a = C_D[3]\n",
    "# Substitute the regular controllers in the current solutions\n",
    "sub2 = kisol[0][a].subs(KPV[1],P12).subs(KPV[2],P21).subs(KIV[1],I12).subs(KIV[2],I21)\n",
    "# Simplify the equation\n",
    "sub2 = sp.simplify(sub2)"
   ]
  },
  {
   "cell_type": "markdown",
   "metadata": {
    "deletable": true,
    "editable": true
   },
   "source": [
    "We get the decoupled controller - original designed by using Q - as a function of the choosen (main loop) controller"
   ]
  },
  {
   "cell_type": "code",
   "execution_count": 12,
   "metadata": {
    "collapsed": false,
    "deletable": true,
    "editable": true
   },
   "outputs": [
    {
     "data": {
      "image/png": "[encoded data removed]",
      "text/latex": [
       "$$\\frac{K_{1} K_{I1}}{s} + K_{1} K_{P1} - \\frac{K_{2} K_{3} K_{I1}}{K_{4} s} - \\frac{K_{2} K_{3}}{K_{4}} K_{P1}$$"
      ],
      "text/plain": [
       "K₁⋅K_{I1}               K₂⋅K₃⋅K_{I1}   K₂⋅K₃⋅K_{P1}\n",
       "───────── + K₁⋅K_{P1} - ──────────── - ────────────\n",
       "    s                       K₄⋅s            K₄     "
      ]
     },
     "execution_count": 12,
     "metadata": {},
     "output_type": "execute_result"
    }
   ],
   "source": [
    "# First Controller\n",
    "sub1"
   ]
  },
  {
   "cell_type": "code",
   "execution_count": 13,
   "metadata": {
    "collapsed": false,
    "deletable": true,
    "editable": true
   },
   "outputs": [
    {
     "data": {
      "image/png": "[encoded data removed]",
      "text/latex": [
       "$$\\frac{K_{4} K_{I4}}{s} + K_{4} K_{P4} - \\frac{K_{2} K_{3} K_{I4}}{K_{1} s} - \\frac{K_{2} K_{3}}{K_{1}} K_{P4}$$"
      ],
      "text/plain": [
       "K₄⋅K_{I4}               K₂⋅K₃⋅K_{I4}   K₂⋅K₃⋅K_{P4}\n",
       "───────── + K₄⋅K_{P4} - ──────────── - ────────────\n",
       "    s                       K₁⋅s            K₁     "
      ]
     },
     "execution_count": 13,
     "metadata": {},
     "output_type": "execute_result"
    }
   ],
   "source": [
    "# Second Controller\n",
    "sub2"
   ]
  },
  {
   "cell_type": "markdown",
   "metadata": {
    "deletable": true,
    "editable": true
   },
   "source": [
    "Use that knowledge to derive the proportional and integral gains of the controller by comparison of the coefficients:"
   ]
  },
  {
   "cell_type": "code",
   "execution_count": 1,
   "metadata": {
    "collapsed": false,
    "deletable": true,
    "editable": true
   },
   "outputs": [
    {
     "ename": "NameError",
     "evalue": "name 'sp' is not defined",
     "output_type": "error",
     "traceback": [
      "\u001b[0;31m---------------------------------------------------------------------------\u001b[0m",
      "\u001b[0;31mNameError\u001b[0m                                 Traceback (most recent call last)",
      "\u001b[0;32m<ipython-input-1-1e0917f6eb83>\u001b[0m in \u001b[0;36m<module>\u001b[0;34m()\u001b[0m\n\u001b[1;32m      1\u001b[0m \u001b[1;31m# Decoupling controller 1 -> We can directly see the proportional and integral coeffcients\u001b[0m\u001b[1;33m\u001b[0m\u001b[1;33m\u001b[0m\u001b[0m\n\u001b[0;32m----> 2\u001b[0;31m \u001b[0msp\u001b[0m\u001b[1;33m.\u001b[0m\u001b[0msimplify\u001b[0m\u001b[1;33m(\u001b[0m\u001b[0msub1\u001b[0m\u001b[1;33m-\u001b[0m\u001b[0msub1\u001b[0m\u001b[1;33m.\u001b[0m\u001b[0mcoeff\u001b[0m\u001b[1;33m(\u001b[0m\u001b[1;34m'1/s'\u001b[0m\u001b[1;33m)\u001b[0m\u001b[1;33m/\u001b[0m\u001b[0ms\u001b[0m\u001b[1;33m)\u001b[0m\u001b[1;33m,\u001b[0m\u001b[0msp\u001b[0m\u001b[1;33m.\u001b[0m\u001b[0msimplify\u001b[0m\u001b[1;33m(\u001b[0m\u001b[0msub1\u001b[0m\u001b[1;33m.\u001b[0m\u001b[0mcoeff\u001b[0m\u001b[1;33m(\u001b[0m\u001b[1;34m'1/s'\u001b[0m\u001b[1;33m)\u001b[0m\u001b[1;33m)\u001b[0m\u001b[1;33m\u001b[0m\u001b[0m\n\u001b[0m",
      "\u001b[0;31mNameError\u001b[0m: name 'sp' is not defined"
     ]
    }
   ],
   "source": [
    "# Decoupling controller 1 -> We can directly see the proportional and integral coeffcients\n",
    "sp.simplify(sub1-sub1.coeff('1/s')/s),sp.simplify(sub1.coeff('1/s'))"
   ]
  },
  {
   "cell_type": "code",
   "execution_count": 15,
   "metadata": {
    "collapsed": false,
    "deletable": true,
    "editable": true
   },
   "outputs": [
    {
     "data": {
      "image/png": "[encoded data removed]",
      "text/latex": [
       "$$\\left ( \\frac{K_{P4}}{K_{1}} \\left(K_{1} K_{4} - K_{2} K_{3}\\right), \\quad \\frac{K_{I4}}{K_{1}} \\left(K_{1} K_{4} - K_{2} K_{3}\\right)\\right )$$"
      ],
      "text/plain": [
       "⎛K_{P4}⋅(K₁⋅K₄ - K₂⋅K₃)  K_{I4}⋅(K₁⋅K₄ - K₂⋅K₃)⎞\n",
       "⎜──────────────────────, ──────────────────────⎟\n",
       "⎝          K₁                      K₁          ⎠"
      ]
     },
     "execution_count": 15,
     "metadata": {},
     "output_type": "execute_result"
    }
   ],
   "source": [
    "# Decoupling controller 2 -> We can directly see the proportional and integral coeffcients\n",
    "sp.simplify(sub2-sub2.coeff('1/s')/s),sp.simplify(sub2.coeff('1/s'))"
   ]
  },
  {
   "cell_type": "markdown",
   "metadata": {
    "collapsed": true,
    "deletable": true,
    "editable": true
   },
   "source": [
    "# Deriving the maximal coupling\n",
    "\n",
    "In the paper a maximal permissible interaction is derived by the magnitude of the minor diagonal transfer functions:\n",
    "\n",
    "$|h_{12}| \\leq \\kappa_1$ and $|h_{21}| \\leq \\kappa_2$. \n",
    "\n",
    "In the following, we will just focus on the first equation.\n",
    "\n",
    "Substituing the closed loop transfer functions the equation becomes:\n",
    "\n",
    "$\\mid \\frac{q_{12} c_2}{(1+q_{11}c_1)(1+q_{22}c_2)} \\mid \\leq \\kappa_1$\n",
    "\n",
    "We can now use the approximation for small frequencies $q_{12} \\approx k_{12}s$, $c_2 = \\frac{k_{I2}}{s} + k_{p2}~b$ and using the definition of the sensitivity $S = \\frac{1}{1+G~C}$ we get:\n",
    "\n",
    "$\\mid k_{12}~(k_{I2}+b~k_{P2}) ~S_1 ~S_2 \\mid \\leq \\kappa_1$\n",
    "\n",
    "To get the worst case, substitute the maximum over all possible frequencies for the Sensitivity, the maximum Sensititvity $M_{Si} = \\max_\\limits{\\omega} \\mid S_i \\mid$:\n",
    "\n",
    "$\\mid k_{12}~(k_{I2}+b~k_{P2}) \\mid ~M_{S1} ~M_{S2}  \\leq \\kappa_1$\n",
    "\n",
    "So we can derive the upper interaction due to the small frequency approximation and the robustness constrains given to be:\n",
    "\n",
    "$\\mid k_{12}~(k_{I2}+b~k_{P2}) \\mid \\leq \\frac{\\kappa_1}{ ~M_{S1} ~M_{S2}} = \\gamma_1$\n",
    "\n",
    "Using the knowledge from above we get:"
   ]
  },
  {
   "cell_type": "code",
   "execution_count": 40,
   "metadata": {
    "collapsed": false,
    "deletable": true,
    "editable": true
   },
   "outputs": [],
   "source": [
    "# Get the upper limit of the interaction in terms of the original coeffients\n",
    "gamma1 = sp.Abs(k12*s*sp.simplify(sub2.coeff('1/s')/s)+s*k12*b*(sp.simplify(sub2-sub2.coeff('1/s')/s)))\n",
    "gamma1 = sp.simplify(gamma1)\n",
    "gamma2 = sp.Abs(k21*s*sp.simplify(sub1.coeff('1/s')/s)+s*k21*b*sp.simplify(sub1-sub1.coeff('1/s')/s))\n",
    "gamma2 = sp.simplify(sp.simplify(gamma2))"
   ]
  },
  {
   "cell_type": "code",
   "execution_count": 41,
   "metadata": {
    "collapsed": false,
    "deletable": true,
    "editable": true
   },
   "outputs": [
    {
     "data": {
      "image/png": "[encoded data removed]",
      "text/latex": [
       "$$\\left|{K_{2} \\left(K_{I4} + K_{P4} b s\\right) \\left(L_{1} - L_{2} + T_{1} - T_{2}\\right)}\\right|$$"
      ],
      "text/plain": [
       "│K₂⋅(K_{I4} + K_{P4}⋅b⋅s)⋅(L₁ - L₂ + T₁ - T₂)│"
      ]
     },
     "execution_count": 41,
     "metadata": {},
     "output_type": "execute_result"
    }
   ],
   "source": [
    "gamma1"
   ]
  },
  {
   "cell_type": "code",
   "execution_count": 42,
   "metadata": {
    "collapsed": false,
    "deletable": true,
    "editable": true
   },
   "outputs": [
    {
     "data": {
      "image/png": "[encoded data removed]",
      "text/latex": [
       "$$\\left|{K_{3} \\left(K_{I1} + K_{P1} b s\\right) \\left(L_{3} - L_{4} + T_{3} - T_{4}\\right)}\\right|$$"
      ],
      "text/plain": [
       "│K₃⋅(K_{I1} + K_{P1}⋅b⋅s)⋅(L₃ - L₄ + T₃ - T₄)│"
      ]
     },
     "execution_count": 42,
     "metadata": {},
     "output_type": "execute_result"
    }
   ],
   "source": [
    "gamma2"
   ]
  },
  {
   "cell_type": "markdown",
   "metadata": {
    "deletable": true,
    "editable": true
   },
   "source": [
    "Hence the formulation for the maximal interaction in terms of the original transfer functions is given by:\n",
    "\n",
    "$\\gamma_1 = \\mid K_2 \\left( (T_1+L_1) - (T_2+L_2) \\right) \\left(K_{I4}+s~b~K_{P4}\\right) \\mid$\n",
    "\n",
    "$\\gamma_2 = \\mid K_3 \\left( (T_3+L_3) - (T_4+L_4) \\right) \\left(K_{I1}+s~b~K_{P1}\\right) \\mid$"
   ]
  }
 ],
 "metadata": {
  "kernelspec": {
   "display_name": "Python 3",
   "language": "python",
   "name": "python3"
  },
  "language_info": {
   "codemirror_mode": {
    "name": "ipython",
    "version": 3
   },
   "file_extension": ".py",
   "mimetype": "text/x-python",
   "name": "python",
   "nbconvert_exporter": "python",
   "pygments_lexer": "ipython3",
   "version": "3.6.1"
  }
 },
 "nbformat": 4,
 "nbformat_minor": 2
}
