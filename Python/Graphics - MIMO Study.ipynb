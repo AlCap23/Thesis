{
 "cells": [
  {
   "cell_type": "code",
   "execution_count": 33,
   "metadata": {
    "collapsed": true
   },
   "outputs": [],
   "source": [
    "# Import the needed packages\n",
    "import numpy as np\n",
    "import pandas as pd\n",
    "import bokeh.plotting as bk\n",
    "import bokeh.io as bi\n",
    "from bokeh.io import export_svgs\n",
    "#bi.output_notebook()\n",
    "\n",
    "# TUBS Rot, Gelb, Orange, Hellgrün, Grün, Dunkelgrün, Hellblau, Blau, Dunkelblau, Violett\n",
    "TUBScolorscale=[(190,30,60,0.9),\n",
    "               (255,200,42,0.9),\n",
    "               (225,109,0,0.9),\n",
    "               (172,193,58,0.9),\n",
    "               (109,131,0,0.9),\n",
    "               (0,83,74,0.9),\n",
    "               (102,180,211,0.9),\n",
    "               (0,112,155,0.9),\n",
    "               (0,63,87,0.9),\n",
    "               (138,48,127,0.9)]"
   ]
  },
  {
   "cell_type": "code",
   "execution_count": 34,
   "metadata": {},
   "outputs": [
    {
     "data": {
      "text/plain": [
       "Index([u'Unnamed: 0', u'Degree', u'MS_RGA', u'w_MS_RGA', u'Grad_RGA', u'MS_A',\n",
       "       u'w_MS_A', u'Grad_A', u'MS_D', u'w_MS_D', u'Grad_D', u'w_0.01_RGA',\n",
       "       u'w_0.01_A', u'w_0.01_D', u'w_0.02_RGA', u'w_0.02_A', u'w_0.02_D',\n",
       "       u'w_0.1_RGA', u'w_0.1_A', u'w_0.1_D', u'w_0.00666666666667_RGA',\n",
       "       u'w_0.00666666666667_A', u'w_0.00666666666667_D', u'w_0.005_RGA',\n",
       "       u'w_0.005_A', u'w_0.005_D'],\n",
       "      dtype='object')"
      ]
     },
     "execution_count": 34,
     "metadata": {},
     "output_type": "execute_result"
    }
   ],
   "source": [
    "# Open the data file\n",
    "# Read the Data\n",
    "Data = pd.read_csv('./Data/H01_TIRAND.csv', sep=';')\n",
    "# Give the Columns\n",
    "Data.columns"
   ]
  },
  {
   "cell_type": "code",
   "execution_count": 35,
   "metadata": {},
   "outputs": [],
   "source": [
    "# Get the histogram of MS_RGA\n",
    "\n",
    "from bokeh.layouts import gridplot, layout\n",
    "\n",
    "sample_data = Data[['MS_RGA']]\n",
    "x = np.linspace(1,2,100)\n",
    "hist, edges = np.histogram(sample_data, density = True, bins = 1000, range=(1,2))\n",
    "\n",
    "p1 = bk.figure(title=\"Distribution of Maximum Singular Values\", y_axis_label = \"Samples\",height= 300, width = 800)\n",
    "p1.quad(top=hist, bottom = 0, left=edges[:-1], right=edges[1:], alpha = 1, color = TUBScolorscale[6])\n",
    "sample_data = Data[['MS_A']]\n",
    "\n",
    "hist, edges = np.histogram(sample_data, density = True, bins = 1000, range=(1,2))\n",
    "p2 = bk.figure(y_axis_label = \"Samples\",height= 300, width = 800)\n",
    "p2.quad(top=hist, bottom = 0, left=edges[:-1], right=edges[1:], alpha = 1, color = TUBScolorscale[0])\n",
    "\n",
    "hist, edges = np.histogram(sample_data, density = True, bins = 1000, range=(1,2))\n",
    "p3 = bk.figure(y_axis_label = \"Samples\", x_axis_label = \"Maximum Singular Value\",height= 300, width = 800)\n",
    "p3.quad(top=hist, bottom = 0, left=edges[:-1], right=edges[1:], alpha = 1, color = TUBScolorscale[2])\n",
    "\n",
    "p = layout([[p1],[p2],[p3]])\n",
    "\n",
    "bk.show(p)"
   ]
  },
  {
   "cell_type": "code",
   "execution_count": 36,
   "metadata": {},
   "outputs": [],
   "source": [
    "# Other Plot\n",
    "sample_data = Data[Data['MS_RGA']>0.0]['MS_RGA']\n",
    "samples = range(0,len(sample_data))\n",
    "p2 = bk.figure(title=\"Maximum Singular Values per Sample\", x_axis_label = \"Sample No.\", y_axis_label=\"Maximum Singular Value\",height= 800, width = 800, y_axis_type = \"log\")\n",
    "p2.scatter(samples,sample_data, color = TUBScolorscale[6])\n",
    "sample_data = Data[Data['MS_A']>0.0]['MS_A']\n",
    "samples = range(0,len(sample_data))\n",
    "p2.scatter(samples,sample_data, color = TUBScolorscale[0])\n",
    "sample_data = Data[Data['MS_D']>0.0]['MS_D']\n",
    "samples = range(0,len(sample_data))\n",
    "p2.scatter(samples,sample_data, color = TUBScolorscale[2])\n",
    "bk.show(p2)"
   ]
  },
  {
   "cell_type": "code",
   "execution_count": 37,
   "metadata": {},
   "outputs": [],
   "source": [
    "# Other Plot\n",
    "sample_data = Data[Data['MS_RGA']>0.0]['MS_RGA']\n",
    "samples = Data[Data['MS_RGA']>0.0]['w_MS_RGA']\n",
    "p2 = bk.figure(title=\"Maximum Singular Value over corresponding Frequency\", x_axis_type = \"log\", x_axis_label =\"Frequency of Maximum Singular Value\", y_axis_label = \"Maximum Singular Value\",height= 800, width = 800,  y_axis_type = \"log\")\n",
    "p2.scatter(samples,sample_data, color = TUBScolorscale[6])\n",
    "sample_data = Data[Data['MS_A']>0.0]['MS_A']\n",
    "samples = Data[Data['MS_RGA']>0.0]['w_MS_A']\n",
    "p2.scatter(samples,sample_data, color = TUBScolorscale[0])\n",
    "sample_data = Data[Data['MS_D']>0.0]['MS_D']\n",
    "samples = Data[Data['MS_RGA']>0.0]['w_MS_D']\n",
    "p2.scatter(samples,sample_data, color = TUBScolorscale[2])\n",
    "bk.show(p2)"
   ]
  },
  {
   "cell_type": "code",
   "execution_count": null,
   "metadata": {
    "collapsed": true
   },
   "outputs": [],
   "source": []
  }
 ],
 "metadata": {
  "kernelspec": {
   "display_name": "Python 2",
   "language": "python",
   "name": "python2"
  },
  "language_info": {
   "codemirror_mode": {
    "name": "ipython",
    "version": 2
   },
   "file_extension": ".py",
   "mimetype": "text/x-python",
   "name": "python",
   "nbconvert_exporter": "python",
   "pygments_lexer": "ipython2",
   "version": "2.7.13"
  }
 },
 "nbformat": 4,
 "nbformat_minor": 2
}
