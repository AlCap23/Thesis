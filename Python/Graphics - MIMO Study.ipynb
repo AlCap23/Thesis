{
 "cells": [
  {
   "cell_type": "code",
   "execution_count": 1,
   "metadata": {
    "collapsed": true
   },
   "outputs": [],
   "source": [
    "# Import the needed packages\n",
    "import numpy as np\n",
    "import pandas as pd\n",
    "import bokeh.plotting as bk\n",
    "import bokeh.io as bi\n",
    "from bokeh.io import export_svgs\n",
    "#bi.output_notebook()\n",
    "\n",
    "# TUBS Rot, Gelb, Orange, Hellgrün, Grün, Dunkelgrün, Hellblau, Blau, Dunkelblau, Violett\n",
    "TUBScolorscale=[(190,30,60,0.9),\n",
    "               (255,200,42,0.9),\n",
    "               (225,109,0,0.9),\n",
    "               (172,193,58,0.9),\n",
    "               (109,131,0,0.9),\n",
    "               (0,83,74,0.9),\n",
    "               (102,180,211,0.9),\n",
    "               (0,112,155,0.9),\n",
    "               (0,63,87,0.9),\n",
    "               (138,48,127,0.9)]"
   ]
  },
  {
   "cell_type": "code",
   "execution_count": 3,
   "metadata": {
    "collapsed": false
   },
   "outputs": [
    {
     "data": {
      "text/plain": [
       "Index(['Unnamed: 0', 'Degree', 'MS_RGA', 'w_MS_RGA', 'Grad_RGA', 'MS_A',\n",
       "       'w_MS_A', 'Grad_A', 'MS_D', 'w_MS_D', 'Grad_D', 'w_0.01_RGA',\n",
       "       'w_0.01_A', 'w_0.01_D', 'w_0.02_RGA', 'w_0.02_A', 'w_0.02_D',\n",
       "       'w_0.1_RGA', 'w_0.1_A', 'w_0.1_D', 'w_0.00666666666667_RGA',\n",
       "       'w_0.00666666666667_A', 'w_0.00666666666667_D', 'w_0.005_RGA',\n",
       "       'w_0.005_A', 'w_0.005_D'],\n",
       "      dtype='object')"
      ]
     },
     "execution_count": 3,
     "metadata": {},
     "output_type": "execute_result"
    }
   ],
   "source": [
    "# Open the data file\n",
    "# Read the Data\n",
    "Data = pd.read_csv('./Data/H01_TIRAND.csv', sep=';')\n",
    "# Give the Columns\n",
    "Data.columns"
   ]
  },
  {
   "cell_type": "code",
   "execution_count": 3,
   "metadata": {
    "collapsed": false
   },
   "outputs": [
    {
     "data": {
      "text/plain": [
       "['MIMO_H01_TIRAND_PDF_MS_RGA.svg']"
      ]
     },
     "execution_count": 3,
     "metadata": {},
     "output_type": "execute_result"
    }
   ],
   "source": [
    "# Get the PDF and CDF of the Maximum Sensitivity and the frequency and plot\n",
    "from scipy.stats import norm\n",
    "from scipy.signal import savgol_filter\n",
    "from bokeh.models import BoxAnnotation\n",
    "\n",
    "# Import the data\n",
    "sample_data = Data[Data['MS_RGA']>0.0]['MS_RGA']\n",
    "# Get the maximum sensitivity limits\n",
    "x = np.linspace(min(sample_data),max(sample_data), len(sample_data))\n",
    "# Calculate the PDF and CDF\n",
    "pdf = norm.pdf(x,sample_data)\n",
    "cdf = norm.cdf(x,sample_data)\n",
    "# Smooth\n",
    "pdf_s = savgol_filter(pdf, 61, 3)\n",
    "cdf_s = savgol_filter(cdf, 101, 3)\n",
    "# Make the MS=1.4 Plot\n",
    "MS = [1.4,1.4]\n",
    "YMS = [0.0, 1.0]\n",
    "# Plot\n",
    "p1 = bk.figure(x_axis_type = \"log\", x_axis_label = \"Maximum Singular Values\", \n",
    "               y_axis_label = \"Propability\", width = 800, height=300,\n",
    "               x_range = [9e-1,1e2], y_range = [0,1.1])\n",
    "# Add the robustness and performance limits\n",
    "p1.add_layout(BoxAnnotation(left=1.4, fill_alpha=0.1, fill_color='red'))\n",
    "p1.add_layout(BoxAnnotation(left = 1.0,right=1.4, fill_alpha=0.1, fill_color='green'))\n",
    "p1.add_layout(BoxAnnotation(right=1.0, fill_alpha=0.1, fill_color='yellow'))\n",
    "# Add the Data\n",
    "p1.scatter(x, pdf, color = TUBScolorscale[6], legend = \"PDF\", alpha = 0.7)\n",
    "p1.line(x, pdf_s, color = TUBScolorscale[6])\n",
    "p1.scatter(x,cdf, color = TUBScolorscale[2], legend = \"CDF\", alpha = 0.7, marker = \"cross\")\n",
    "p1.line(x, cdf_s, color = TUBScolorscale[2])\n",
    "# Add the legend\n",
    "p1.legend.location=\"top_left\"\n",
    "# Output and Save\n",
    "p1.output_backend = \"svg\"\n",
    "export_svgs(p1, filename=\"MIMO_H01_TIRAND_PDF_MS_RGA.svg\")\n",
    "#bk.show(p1)"
   ]
  },
  {
   "cell_type": "code",
   "execution_count": 4,
   "metadata": {
    "collapsed": false
   },
   "outputs": [
    {
     "data": {
      "text/plain": [
       "['MIMO_H01_TIRAND_PDF_MS_A.svg']"
      ]
     },
     "execution_count": 4,
     "metadata": {},
     "output_type": "execute_result"
    }
   ],
   "source": [
    "# Get the PDF and CDF of the Maximum Sensitivity\n",
    "\n",
    "# Import the data\n",
    "sample_data = Data[Data['MS_A']>0.0]['MS_A']\n",
    "# Get the maximum sensitivity limits\n",
    "x = np.linspace(min(sample_data),max(sample_data), len(sample_data))\n",
    "# Calculate the PDF and CDF\n",
    "pdf = norm.pdf(x,sample_data)\n",
    "cdf = norm.cdf(x,sample_data)\n",
    "# Smooth\n",
    "pdf_s = savgol_filter(pdf, 61, 3)\n",
    "cdf_s = savgol_filter(cdf, 101, 3)\n",
    "\n",
    "# Plot\n",
    "p1 = bk.figure(x_axis_type = \"log\", x_axis_label = \"Maximum Singular Values\", \n",
    "               y_axis_label = \"Propability\", width = 800, height=300,\n",
    "               x_range = [9e-1,1e2], y_range = [0,1.1])\n",
    "# Get the robustness and performance limits\n",
    "p1.add_layout(BoxAnnotation(left=1.4, fill_alpha=0.1, fill_color='red'))\n",
    "p1.add_layout(BoxAnnotation(left = 1.0,right=1.4, fill_alpha=0.1, fill_color='green'))\n",
    "p1.add_layout(BoxAnnotation(right=1.0, fill_alpha=0.1, fill_color='yellow'))\n",
    "# Add the Data\n",
    "p1.scatter(x, pdf, color = TUBScolorscale[6], legend = \"PDF\", alpha = 0.7)\n",
    "p1.line(x, pdf_s, color = TUBScolorscale[6])\n",
    "p1.scatter(x,cdf, color = TUBScolorscale[2], legend = \"CDF\", alpha = 0.7, marker = \"cross\")\n",
    "p1.line(x, cdf_s, color = TUBScolorscale[2])\n",
    "# Add the legend\n",
    "p1.legend.location=\"top_left\"\n",
    "bk.show(p1)\n",
    "# Output and Save\n",
    "p1.output_backend = \"svg\"\n",
    "export_svgs(p1, filename=\"MIMO_H01_TIRAND_PDF_MS_A.svg\")"
   ]
  },
  {
   "cell_type": "code",
   "execution_count": 5,
   "metadata": {
    "collapsed": false
   },
   "outputs": [
    {
     "data": {
      "text/plain": [
       "['MIMO_H01_TIRAND_PDF_MS_D.svg']"
      ]
     },
     "execution_count": 5,
     "metadata": {},
     "output_type": "execute_result"
    }
   ],
   "source": [
    "# Get the PDF and CDF of the Maximum Sensitivity and the frequency\n",
    "\n",
    "# Import the data\n",
    "sample_data = Data[Data['MS_D']>0.0]['MS_D']\n",
    "# Get the maximum sensitivity limits\n",
    "x = np.linspace(min(sample_data),max(sample_data), len(sample_data))\n",
    "# Calculate the PDF and CDF\n",
    "pdf = norm.pdf(x,sample_data)\n",
    "cdf = norm.cdf(x,sample_data)\n",
    "# Smooth\n",
    "pdf_s = savgol_filter(pdf, 61, 3)\n",
    "cdf_s = savgol_filter(cdf, 101, 3)\n",
    "\n",
    "# Plot\n",
    "p1 = bk.figure(x_axis_type = \"log\", x_axis_label = \"Maximum Singular Values\", \n",
    "               y_axis_label = \"Propability\", width = 800, height=300,\n",
    "               x_range = [9e-1,1e2], y_range = [0,1.1])\n",
    "# Get the robustness and performance limits\n",
    "p1.add_layout(BoxAnnotation(left=1.4, fill_alpha=0.1, fill_color='red'))\n",
    "p1.add_layout(BoxAnnotation(left = 1.0,right=1.4, fill_alpha=0.1, fill_color='green'))\n",
    "p1.add_layout(BoxAnnotation(right=1.0, fill_alpha=0.1, fill_color='yellow'))\n",
    "# Add the Data\n",
    "p1.scatter(x, pdf, color = TUBScolorscale[6], legend = \"PDF\", alpha = 0.7)\n",
    "p1.line(x, pdf_s, color = TUBScolorscale[6])\n",
    "p1.scatter(x,cdf, color = TUBScolorscale[2], legend = \"CDF\", alpha = 0.7, marker = \"cross\")\n",
    "p1.line(x, cdf_s, color = TUBScolorscale[2])\n",
    "# Add the legend\n",
    "p1.legend.location=\"top_left\"\n",
    "# Output and Save\n",
    "p1.output_backend = \"svg\"\n",
    "export_svgs(p1, filename=\"MIMO_H01_TIRAND_PDF_MS_D.svg\")\n",
    "#bk.show(p1)"
   ]
  },
  {
   "cell_type": "code",
   "execution_count": 26,
   "metadata": {
    "collapsed": false
   },
   "outputs": [],
   "source": [
    "# Get the PDF and CDF of the frequency\n",
    "# DEPENDS ON THE STUDY!!!\n",
    "# PTN -> T = 80...180\n",
    "# TSUM -> T = 180\n",
    "\n",
    "# Import the data\n",
    "sample_data = Data[Data['w_MS_RGA']>0.0]['w_MS_RGA']\n",
    "# Get the maximum sensitivity limits\n",
    "x = np.linspace(0,max(sample_data), len(sample_data))\n",
    "# Calculate the PDF and CDF\n",
    "pdf = norm.pdf(x,sample_data)\n",
    "cdf = norm.cdf(x,sample_data)\n",
    "# Smooth\n",
    "pdf_s = savgol_filter(pdf, 61, 7)\n",
    "cdf_s = savgol_filter(cdf, 101, 7)\n",
    "\n",
    "# Plot\n",
    "p1 = bk.figure(x_axis_type = \"log\", x_axis_label = \"Frequency of Maximum Singular Value [rad/s]\",\n",
    "               y_axis_label = \"Propability\", width = 800, height = 300,\n",
    "              x_range = [1e-1,1e2], y_range = [0,1.1])\n",
    "# Get the robustness and performance limits\n",
    "p1.add_layout(BoxAnnotation(left=1.0/180.0, fill_alpha=0.1, fill_color='red'))\n",
    "p1.add_layout(BoxAnnotation(right=1.0/180.0, left = 3.0 / 180.0, fill_alpha=0.1, fill_color='green'))\n",
    "p1.add_layout(BoxAnnotation(right=3.0 / 180.0, fill_alpha=0.1, fill_color='yellow'))\n",
    "# Add the Data\n",
    "p1.scatter(x, pdf, color = TUBScolorscale[6], legend = \"PDF\", alpha = 0.7)\n",
    "p1.line(x, pdf_s, color = TUBScolorscale[6])\n",
    "p1.scatter(x,cdf, color = TUBScolorscale[2], legend = \"CDF\", alpha = 0.7, marker = \"cross\")\n",
    "p1.line(x, cdf_s, color = TUBScolorscale[2])\n",
    "# Add the legend\n",
    "p1.legend.location=\"top_left\"\n",
    "# Output and Save\n",
    "#p1.output_backend = \"svg\"\n",
    "#export_svgs(p1, filename=\"MIMO_H01_TIRAND_PDF_w_MS_RGA.svg\")\n",
    "bk.show(p1)"
   ]
  },
  {
   "cell_type": "code",
   "execution_count": 27,
   "metadata": {
    "collapsed": false
   },
   "outputs": [],
   "source": [
    "# Get the PDF and CDF of the frequency\n",
    "# DEPENDS ON THE STUDY!!!\n",
    "# PTN -> T = 80...180\n",
    "# TSUM -> T = 180\n",
    "\n",
    "# Import the data\n",
    "sample_data = Data[Data['w_MS_A']>0.0]['w_MS_A']\n",
    "# Get the maximum sensitivity limits\n",
    "x = np.linspace(0,max(sample_data), len(sample_data))\n",
    "# Calculate the PDF and CDF\n",
    "pdf = norm.pdf(x,sample_data)\n",
    "cdf = norm.cdf(x,sample_data)\n",
    "# Smooth\n",
    "pdf_s = savgol_filter(pdf, 61, 7)\n",
    "cdf_s = savgol_filter(cdf, 101, 7)\n",
    "\n",
    "# Plot\n",
    "p1 = bk.figure(x_axis_type = \"log\", x_axis_label = \"Frequency of Maximum Singular Value [rad/s]\",\n",
    "               y_axis_label = \"Propability\", width = 800, height = 300,\n",
    "              x_range = [1e-1,1e2], y_range = [0,1.1])\n",
    "# Get the robustness and performance limits\n",
    "p1.add_layout(BoxAnnotation(left=1.0/180.0, fill_alpha=0.1, fill_color='red'))\n",
    "p1.add_layout(BoxAnnotation(right=1.0/180.0, left = 3.0 / 180.0, fill_alpha=0.1, fill_color='green'))\n",
    "p1.add_layout(BoxAnnotation(right=3.0 / 180.0, fill_alpha=0.1, fill_color='yellow'))\n",
    "# Add the Data\n",
    "p1.scatter(x, pdf, color = TUBScolorscale[6], legend = \"PDF\", alpha = 0.7)\n",
    "p1.line(x, pdf_s, color = TUBScolorscale[6])\n",
    "p1.scatter(x,cdf, color = TUBScolorscale[2], legend = \"CDF\", alpha = 0.7, marker = \"cross\")\n",
    "p1.line(x, cdf_s, color = TUBScolorscale[2])\n",
    "# Add the legend\n",
    "p1.legend.location=\"top_left\"\n",
    "# Output and Save\n",
    "#p1.output_backend = \"svg\"\n",
    "#export_svgs(p1, filename=\"MIMO_H01_TIRAND_PDF_w_MS_A.svg\")\n",
    "bk.show(p1)"
   ]
  },
  {
   "cell_type": "code",
   "execution_count": 4,
   "metadata": {
    "collapsed": false
   },
   "outputs": [],
   "source": [
    "# Get the PDF and CDF of the frequency\n",
    "# DEPENDS ON THE STUDY!!!\n",
    "# PTN -> T = 80...180\n",
    "# TSUM -> T = 180\n",
    "from scipy.stats import norm\n",
    "from scipy.signal import savgol_filter\n",
    "from bokeh.models import BoxAnnotation\n",
    "\n",
    "# Import the data\n",
    "sample_data = Data[Data['w_MS_D']>1e-3]['w_MS_D']\n",
    "# Get the maximum sensitivity limits\n",
    "x = np.linspace(min(sample_data),max(sample_data), len(sample_data))\n",
    "# Calculate the PDF and CDF\n",
    "pdf = norm.pdf(x,sample_data)\n",
    "cdf = norm.cdf(x,sample_data)\n",
    "\n",
    "# Smooth\n",
    "pdf_s = savgol_filter(pdf, 101, 11)\n",
    "cdf_s = savgol_filter(cdf, 101, 8)\n",
    "\n",
    "# Plot\n",
    "p1 = bk.figure(x_axis_type = \"log\", x_axis_label = \"Frequency of Maximum Singular Value [rad/s]\",\n",
    "               y_axis_label = \"Propability\", width = 800, height = 300,\n",
    "               x_range = [1e-1,1e2], y_range = [-.2,1.2])\n",
    "\n",
    "# Get the robustness and performance limits\n",
    "p1.add_layout(BoxAnnotation(left=1.0/180.0, fill_alpha=0.1, fill_color='red'))\n",
    "p1.add_layout(BoxAnnotation(right=1.0/180.0, left = 3.0 / 180.0, fill_alpha=0.1, fill_color='green'))\n",
    "p1.add_layout(BoxAnnotation(right=3.0 / 180.0, fill_alpha=0.1, fill_color='yellow'))\n",
    "# Add the Data\n",
    "p1.scatter(x, pdf, color = TUBScolorscale[6], legend = \"PDF\", alpha = 0.7)\n",
    "p1.line(x, pdf_s, color = TUBScolorscale[6])\n",
    "p1.scatter(x,cdf, color = TUBScolorscale[2], legend = \"CDF\", alpha = 0.7, marker = \"cross\")\n",
    "p1.line(x, cdf_s, color = TUBScolorscale[2])\n",
    "# Add the legend\n",
    "p1.legend.location=\"top_left\"\n",
    "# Output and Save\n",
    "#p1.output_backend = \"svg\"\n",
    "#export_svgs(p1, filename=\"MIMO_H01_TIRAND_PDF_w_MS_D.svg\")\n",
    "bk.show(p1)"
   ]
  },
  {
   "cell_type": "code",
   "execution_count": 9,
   "metadata": {
    "collapsed": false
   },
   "outputs": [
    {
     "data": {
      "text/html": [
       "<div style=\"display: table;\"><div style=\"display: table-row;\"><div style=\"display: table-cell;\"><b title=\"bokeh.models.renderers.GlyphRenderer\">GlyphRenderer</b>(</div><div style=\"display: table-cell;\">id&nbsp;=&nbsp;'ee613373-a8a6-4aa9-ae89-39b2b159dca0', <span id=\"00417e10-5cf2-4208-8c49-8f7ae4d8d29c\" style=\"cursor: pointer;\">&hellip;)</span></div></div><div class=\"38599b3b-87d8-403b-8604-4e1e7d097d14\" style=\"display: none;\"><div style=\"display: table-cell;\"></div><div style=\"display: table-cell;\">data_source&nbsp;=&nbsp;ColumnDataSource(id='b534a062-40b7-437d-9ae7-24865e76283d', ...),</div></div><div class=\"38599b3b-87d8-403b-8604-4e1e7d097d14\" style=\"display: none;\"><div style=\"display: table-cell;\"></div><div style=\"display: table-cell;\">glyph&nbsp;=&nbsp;Diamond(id='0012923f-9519-47d7-b7d9-6093ad2873bc', ...),</div></div><div class=\"38599b3b-87d8-403b-8604-4e1e7d097d14\" style=\"display: none;\"><div style=\"display: table-cell;\"></div><div style=\"display: table-cell;\">hover_glyph&nbsp;=&nbsp;None,</div></div><div class=\"38599b3b-87d8-403b-8604-4e1e7d097d14\" style=\"display: none;\"><div style=\"display: table-cell;\"></div><div style=\"display: table-cell;\">js_event_callbacks&nbsp;=&nbsp;{},</div></div><div class=\"38599b3b-87d8-403b-8604-4e1e7d097d14\" style=\"display: none;\"><div style=\"display: table-cell;\"></div><div style=\"display: table-cell;\">js_property_callbacks&nbsp;=&nbsp;{},</div></div><div class=\"38599b3b-87d8-403b-8604-4e1e7d097d14\" style=\"display: none;\"><div style=\"display: table-cell;\"></div><div style=\"display: table-cell;\">level&nbsp;=&nbsp;'glyph',</div></div><div class=\"38599b3b-87d8-403b-8604-4e1e7d097d14\" style=\"display: none;\"><div style=\"display: table-cell;\"></div><div style=\"display: table-cell;\">muted&nbsp;=&nbsp;False,</div></div><div class=\"38599b3b-87d8-403b-8604-4e1e7d097d14\" style=\"display: none;\"><div style=\"display: table-cell;\"></div><div style=\"display: table-cell;\">muted_glyph&nbsp;=&nbsp;None,</div></div><div class=\"38599b3b-87d8-403b-8604-4e1e7d097d14\" style=\"display: none;\"><div style=\"display: table-cell;\"></div><div style=\"display: table-cell;\">name&nbsp;=&nbsp;None,</div></div><div class=\"38599b3b-87d8-403b-8604-4e1e7d097d14\" style=\"display: none;\"><div style=\"display: table-cell;\"></div><div style=\"display: table-cell;\">nonselection_glyph&nbsp;=&nbsp;Diamond(id='dc053766-2992-4847-b236-c1028244516b', ...),</div></div><div class=\"38599b3b-87d8-403b-8604-4e1e7d097d14\" style=\"display: none;\"><div style=\"display: table-cell;\"></div><div style=\"display: table-cell;\">selection_glyph&nbsp;=&nbsp;None,</div></div><div class=\"38599b3b-87d8-403b-8604-4e1e7d097d14\" style=\"display: none;\"><div style=\"display: table-cell;\"></div><div style=\"display: table-cell;\">subscribed_events&nbsp;=&nbsp;[],</div></div><div class=\"38599b3b-87d8-403b-8604-4e1e7d097d14\" style=\"display: none;\"><div style=\"display: table-cell;\"></div><div style=\"display: table-cell;\">tags&nbsp;=&nbsp;[],</div></div><div class=\"38599b3b-87d8-403b-8604-4e1e7d097d14\" style=\"display: none;\"><div style=\"display: table-cell;\"></div><div style=\"display: table-cell;\">visible&nbsp;=&nbsp;True,</div></div><div class=\"38599b3b-87d8-403b-8604-4e1e7d097d14\" style=\"display: none;\"><div style=\"display: table-cell;\"></div><div style=\"display: table-cell;\">x_range_name&nbsp;=&nbsp;'default',</div></div><div class=\"38599b3b-87d8-403b-8604-4e1e7d097d14\" style=\"display: none;\"><div style=\"display: table-cell;\"></div><div style=\"display: table-cell;\">y_range_name&nbsp;=&nbsp;'default')</div></div></div>\n",
       "<script>\n",
       "(function() {\n",
       "  var expanded = false;\n",
       "  var ellipsis = document.getElementById(\"00417e10-5cf2-4208-8c49-8f7ae4d8d29c\");\n",
       "  ellipsis.addEventListener(\"click\", function() {\n",
       "    var rows = document.getElementsByClassName(\"38599b3b-87d8-403b-8604-4e1e7d097d14\");\n",
       "    for (var i = 0; i < rows.length; i++) {\n",
       "      var el = rows[i];\n",
       "      el.style.display = expanded ? \"none\" : \"table-row\";\n",
       "    }\n",
       "    ellipsis.innerHTML = expanded ? \"&hellip;)\" : \"&lsaquo;&lsaquo;&lsaquo;\";\n",
       "    expanded = !expanded;\n",
       "  });\n",
       "})();\n",
       "</script>\n"
      ],
      "text/plain": [
       "GlyphRenderer(id='ee613373-a8a6-4aa9-ae89-39b2b159dca0', ...)"
      ]
     },
     "execution_count": 9,
     "metadata": {},
     "output_type": "execute_result"
    }
   ],
   "source": [
    "# Other Plot\n",
    "sample_data = Data[Data['MS_RGA']>0.0]['MS_RGA']\n",
    "samples = range(0,len(sample_data))\n",
    "p2 = bk.figure(title=\"Maximum Singular Values per Sample\", x_axis_label = \"Sample No.\", y_axis_label=\"Maximum Singular Value\",height= 800, width = 800, y_axis_type = \"log\")\n",
    "p2.scatter(samples,sample_data, color = TUBScolorscale[6], marker = \"circle\", legend = \"RGA\")\n",
    "sample_data = Data[Data['MS_A']>0.0]['MS_A']\n",
    "samples = range(0,len(sample_data))\n",
    "p2.scatter(samples,sample_data, color = TUBScolorscale[0], marker = \"cross\", legend = \"Aström Decoupled\")\n",
    "sample_data = Data[Data['MS_D']>0.0]['MS_D']\n",
    "samples = range(0,len(sample_data))\n",
    "p2.scatter(samples,sample_data, color = TUBScolorscale[2], marker = \"diamond\", legend = \"Modified Aström\")\n",
    "\n",
    "\n",
    "# Show and Export\n",
    "#p2.output_backend = \"svg\"\n",
    "#export_svgs(p2, filename=\"MIMO_H01_TIRAND_MS_OVER_SAMPLES_ALL.svg\")\n",
    "#bk.show(p2)"
   ]
  },
  {
   "cell_type": "code",
   "execution_count": 10,
   "metadata": {
    "collapsed": false
   },
   "outputs": [
    {
     "name": "stderr",
     "output_type": "stream",
     "text": [
      "WARNING:bokeh.io:No SVG Plots were found.\n"
     ]
    }
   ],
   "source": [
    "# Initialize BIG Plot\n",
    "\n",
    "# Scatter\n",
    "p1 = bk.figure(x_axis_type = \"log\", x_axis_label =\"Frequency of Maximum Singular Value\", y_axis_label = \"Maximum Singular Value\",height= 600, width = 600,  y_axis_type = \"log\")\n",
    "\n",
    "# Collect Data\n",
    "sample_data = Data[Data['MS_RGA']>0.0]['MS_RGA']\n",
    "samples = Data[Data['MS_RGA']>0.0]['w_MS_RGA']\n",
    "# Add Scatter\n",
    "p1.scatter(samples,sample_data, color = TUBScolorscale[6], marker = \"circle\", legend = \"RGA\")\n",
    "# Collect Data\n",
    "sample_data = Data[Data['MS_A']>0.0]['MS_A']\n",
    "samples = Data[Data['MS_RGA']>0.0]['w_MS_A']\n",
    "# Add Scatter\n",
    "p1.scatter(samples,sample_data, color = TUBScolorscale[0],  marker = \"cross\", legend = \"Aström Decoupled\")\n",
    "# Collect Data\n",
    "sample_data = Data[Data['MS_D']>0.0]['MS_D']\n",
    "samples = Data[Data['MS_RGA']>0.0]['w_MS_D']\n",
    "# Add Scatter\n",
    "p1.scatter(samples,sample_data, color = TUBScolorscale[2], marker = \"diamond\", legend = \"Modified Aström\")\n",
    "\n",
    "bk.show(p1)\n",
    "\n",
    "# Show and Export\n",
    "p1.output_backend = \"svg\"\n",
    "export_svgs(p2, filename=\"MIMO_H01_TIRAND_MS_OVER_Frequency_ALL.svg\")"
   ]
  },
  {
   "cell_type": "code",
   "execution_count": 11,
   "metadata": {
    "collapsed": false
   },
   "outputs": [
    {
     "data": {
      "text/plain": [
       "['MIMO_H01_TIRAND_HIST_MS_D.svg']"
      ]
     },
     "execution_count": 11,
     "metadata": {},
     "output_type": "execute_result"
    }
   ],
   "source": [
    "# Get the histogram of MS_RGA\n",
    "\n",
    "from bokeh.layouts import gridplot, layout\n",
    "\n",
    "sample_data = Data[['MS_RGA']]\n",
    "hist, edges = np.histogram(sample_data, density = True, bins = 1000, range=(1,2))\n",
    "p1 = bk.figure(title=\"Distribution of Maximum Singular Values\", y_axis_label = \"Samples\",height= 300, width = 800)\n",
    "p1.quad(top=hist, bottom = 0, left=edges[:-1], right=edges[1:], alpha = 1, color = TUBScolorscale[6])\n",
    "\n",
    "\n",
    "sample_data = Data[['MS_A']]\n",
    "hist, edges = np.histogram(sample_data, density = True, bins = 1000, range=(1,2))\n",
    "p2 = bk.figure(y_axis_label = \"Samples\",height= 300, width = 800)\n",
    "p2.quad(top=hist, bottom = 0, left=edges[:-1], right=edges[1:], alpha = 1, color = TUBScolorscale[0])\n",
    "\n",
    "sample_data = Data[['MS_D']]\n",
    "hist, edges = np.histogram(sample_data, density = True, bins = 1000, range=(1,2))\n",
    "p3 = bk.figure(y_axis_label = \"Samples\", x_axis_label = \"Maximum Singular Value\",height= 300, width = 800)\n",
    "p3.quad(top=hist, bottom = 0, left=edges[:-1], right=edges[1:], alpha = 1, color = TUBScolorscale[2])\n",
    "\n",
    "# Show and Export\n",
    "p1.output_backend = \"svg\"\n",
    "export_svgs(p1, filename=\"MIMO_H01_TIRAND_HIST_MS_RGA.svg\")\n",
    "\n",
    "p2.output_backend = \"svg\"\n",
    "export_svgs(p2, filename=\"MIMO_H01_TIRAND_HIST_MS_A.svg\")\n",
    "\n",
    "p3.output_backend = \"svg\"\n",
    "export_svgs(p3, filename=\"MIMO_H01_TIRAND_HIST_MS_D.svg\")\n",
    "\n",
    "\n",
    "#bk.show(p)"
   ]
  }
 ],
 "metadata": {
  "anaconda-cloud": {},
  "kernelspec": {
   "display_name": "Python [conda root]",
   "language": "python",
   "name": "conda-root-py"
  },
  "language_info": {
   "codemirror_mode": {
    "name": "ipython",
    "version": 3
   },
   "file_extension": ".py",
   "mimetype": "text/x-python",
   "name": "python",
   "nbconvert_exporter": "python",
   "pygments_lexer": "ipython3",
   "version": "3.5.2"
  }
 },
 "nbformat": 4,
 "nbformat_minor": 2
}
