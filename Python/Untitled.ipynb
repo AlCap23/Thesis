{
 "cells": [
  {
   "cell_type": "code",
   "execution_count": 1,
   "metadata": {},
   "outputs": [],
   "source": [
    "import Algorithms_Graphic as alg\n",
    "import control as cn\n",
    "import numpy as np"
   ]
  },
  {
   "cell_type": "code",
   "execution_count": 19,
   "metadata": {},
   "outputs": [
    {
     "data": {
      "text/plain": [
       "(array([[-0.66666667,  3.33333333],\n",
       "        [ 0.33333333, -0.66666667]]), array([[ 1. ,  5. ],\n",
       "        [ 0.5,  1. ]]))"
      ]
     },
     "execution_count": 19,
     "metadata": {},
     "output_type": "execute_result"
    }
   ],
   "source": [
    "K = np.array([[1,5],[0.5,1]])\n",
    "T = np.array([[50,25],[10,17]])\n",
    "L = np.array([[7,5],[2,3]])\n",
    "np.linalg.inv(K),K"
   ]
  },
  {
   "cell_type": "code",
   "execution_count": 20,
   "metadata": {},
   "outputs": [
    {
     "name": "stdout",
     "output_type": "stream",
     "text": [
      "(array([[ 1.,  0.],\n",
      "       [ 0.,  1.]]), array([[  5.        ,  90.        ],\n",
      "       [  2.66666667,   3.66666667]]), array([[7, 0],\n",
      "       [0, 3]]))\n"
     ]
    },
    {
     "data": {
      "text/plain": [
       "(array([[[ 0.22638889,  0.04241831,  0.        ],\n",
       "         [ 0.        ,  0.        ,  0.        ]],\n",
       " \n",
       "        [[ 0.        ,  0.        ,  0.        ],\n",
       "         [ 0.        ,  0.        ,  0.        ]]]), array([[ 1.,  0.],\n",
       "        [ 0.,  1.]]), array([[-0.66666667,  3.33333333],\n",
       "        [ 0.33333333, -0.66666667]]))"
      ]
     },
     "execution_count": 20,
     "metadata": {},
     "output_type": "execute_result"
    }
   ],
   "source": [
    "alg.Control_Astrom(K,T,L, 0.1*np.eye(2),graphics = 'on')"
   ]
  },
  {
   "cell_type": "code",
   "execution_count": 4,
   "metadata": {},
   "outputs": [
    {
     "data": {
      "text/plain": [
       "array([[-0.33333333,  1.33333333],\n",
       "       [ 1.33333333, -0.33333333]])"
      ]
     },
     "execution_count": 4,
     "metadata": {},
     "output_type": "execute_result"
    }
   ],
   "source": [
    "np.multiply(np.linalg.inv(K),K)"
   ]
  },
  {
   "cell_type": "code",
   "execution_count": null,
   "metadata": {
    "collapsed": true
   },
   "outputs": [],
   "source": []
  }
 ],
 "metadata": {
  "kernelspec": {
   "display_name": "Python 2",
   "language": "python",
   "name": "python2"
  },
  "language_info": {
   "codemirror_mode": {
    "name": "ipython",
    "version": 2
   },
   "file_extension": ".py",
   "mimetype": "text/x-python",
   "name": "python",
   "nbconvert_exporter": "python",
   "pygments_lexer": "ipython2",
   "version": "2.7.13"
  }
 },
 "nbformat": 4,
 "nbformat_minor": 2
}
