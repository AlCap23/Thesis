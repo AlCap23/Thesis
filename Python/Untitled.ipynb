{
 "cells": [
  {
   "cell_type": "code",
   "execution_count": 1,
   "metadata": {
    "collapsed": true
   },
   "outputs": [],
   "source": [
    "import Algorithms as alg\n",
    "import numpy as np\n",
    "import pandas as pd"
   ]
  },
  {
   "cell_type": "code",
   "execution_count": 6,
   "metadata": {},
   "outputs": [],
   "source": [
    "File = open('PhysicalIdentification.csv')\n",
    "Data = pd.DataFrame.from_csv(File, sep =';')"
   ]
  },
  {
   "cell_type": "code",
   "execution_count": 62,
   "metadata": {},
   "outputs": [
    {
     "name": "stdout",
     "output_type": "stream",
     "text": [
      "Pairing\n",
      "[ 0.8583335  0.8583335]\n",
      "Sensitivity Gain\n",
      "[ 0.53811654  0.53811654]\n",
      "RGA\n",
      "[0 1]\n",
      "[ 0.8583335  0.8583335]\n",
      "Pairing\n",
      "[ 1.86539548  1.86539548]\n",
      "Sensitivity Gain\n",
      "[ 0.8001488   0.30341505]\n",
      "RGA\n",
      "[1 0]\n",
      "[ 6.49503373  1.48799628]\n",
      "Pairing\n",
      "[ 1.91241458  1.91241458]\n",
      "Sensitivity Gain\n",
      "[ 0.75022652  0.39016498]\n",
      "RGA\n",
      "[1 0]\n",
      "[ 4.00539379  2.07527036]\n",
      "Pairing\n",
      "[ 1.40433109  1.40433109]\n",
      "Sensitivity Gain\n",
      "[ 0.78608332  0.21559794]\n",
      "RGA\n",
      "[1 0]\n",
      "[ 5.99625224  2.13647878]\n",
      "Pairing\n",
      "[ 0.90134797  0.90134797]\n",
      "Sensitivity Gain\n",
      "[ 0.52594266  0.52594266]\n",
      "RGA\n",
      "[0 1]\n",
      "[ 0.90134797  0.90134797]\n"
     ]
    }
   ],
   "source": [
    "for i in range(5):\n",
    "    K = Data.loc[i][2:6]\n",
    "    K = np.reshape(K.values,(2,2))\n",
    "    T = Data.loc[i][6:10]\n",
    "    T = np.reshape(T.values,(2,2))\n",
    "    L = Data.loc[i][10:14]\n",
    "    L = np.reshape(L.values,(2,2))\n",
    "    KD = np.diag(np.diag(K))\n",
    "    KA = K-KD\n",
    "    S = -np.dot(np.linalg.inv(KD),KA)\n",
    "    E = np.dot((np.dot(K,np.eye(2)+S)-KD), np.linalg.inv(KD))\n",
    "    print(\"Pairing\")\n",
    "    #print(E)\n",
    "    print(np.linalg.svd(E,compute_uv=False))\n",
    "    KD = np.diag(K[[0,1],np.argmax(alg.RGA(K,T,L),axis=0)])\n",
    "    KA = K-KD\n",
    "    S = -np.dot(np.linalg.inv(KD),KA)\n",
    "    print(\"Sensitivity Gain\")\n",
    "    print(np.linalg.svd(np.linalg.inv(np.eye(2)-np.dot(S,S)), compute_uv=False))\n",
    "    E = np.dot((np.dot(K,np.eye(2)+S)-KD), np.linalg.inv(KD))\n",
    "    print(\"RGA\")\n",
    "    print(np.argmax(alg.RGA(K,T,L),axis=0))\n",
    "    #print(E)\n",
    "    print(np.linalg.svd(E,compute_uv=False))\n",
    "    "
   ]
  },
  {
   "cell_type": "code",
   "execution_count": 50,
   "metadata": {},
   "outputs": [
    {
     "data": {
      "text/plain": [
       "array([-0.78593021, -5.92262714])"
      ]
     },
     "execution_count": 50,
     "metadata": {},
     "output_type": "execute_result"
    }
   ],
   "source": [
    "K[[0,1],np.argmax(alg.RGA(K,T,L),axis=0)]"
   ]
  },
  {
   "cell_type": "code",
   "execution_count": 56,
   "metadata": {},
   "outputs": [
    {
     "data": {
      "text/plain": [
       "array([[ 0.33962264+0.18867925j,  0.66037736-0.18867925j],\n",
       "       [ 0.66037736-0.18867925j,  0.33962264+0.18867925j]])"
      ]
     },
     "execution_count": 56,
     "metadata": {},
     "output_type": "execute_result"
    }
   ],
   "source": [
    "G = np.array([[2,(-5+5*1j)],[5,10]])/(1j+1)\n",
    "np.multiply(G,np.linalg.inv(np.transpose(G)))"
   ]
  },
  {
   "cell_type": "code",
   "execution_count": 57,
   "metadata": {},
   "outputs": [
    {
     "data": {
      "text/plain": [
       "array([[ 0.07547170+0.26415094j, -0.03773585-0.13207547j],\n",
       "       [ 0.16981132+0.09433962j,  0.01509434+0.05283019j]])"
      ]
     },
     "execution_count": 57,
     "metadata": {},
     "output_type": "execute_result"
    }
   ],
   "source": [
    "np.linalg.inv(np.transpose(G))"
   ]
  },
  {
   "cell_type": "code",
   "execution_count": 61,
   "metadata": {},
   "outputs": [
    {
     "data": {
      "text/plain": [
       "(array([0, 1]), array([ 1.-1.j,  5.-5.j]))"
      ]
     },
     "execution_count": 61,
     "metadata": {},
     "output_type": "execute_result"
    }
   ],
   "source": [
    "np.argmax(G, axis=1), np.max(G,axis=1)"
   ]
  },
  {
   "cell_type": "code",
   "execution_count": 67,
   "metadata": {
    "collapsed": true
   },
   "outputs": [],
   "source": [
    "A = np.array([[2,-1],[5,10]])\n",
    "Ainv=np.linalg.inv(A)"
   ]
  },
  {
   "cell_type": "code",
   "execution_count": 68,
   "metadata": {
    "collapsed": true
   },
   "outputs": [],
   "source": [
    "B = np.array([[1.05,-.05],[.05,1.05]])\n",
    "APinv=np.linalg.inv(np.dot(B,A))"
   ]
  },
  {
   "cell_type": "code",
   "execution_count": 69,
   "metadata": {},
   "outputs": [
    {
     "data": {
      "text/plain": [
       "array([[ 0.37828054,  0.0561086 ],\n",
       "       [-0.19366516,  0.06696833]])"
      ]
     },
     "execution_count": 69,
     "metadata": {},
     "output_type": "execute_result"
    }
   ],
   "source": [
    "APinv"
   ]
  },
  {
   "cell_type": "code",
   "execution_count": 70,
   "metadata": {},
   "outputs": [
    {
     "data": {
      "text/plain": [
       "array([[ 1.03710407,  0.18280543],\n",
       "       [-0.05248869,  0.86334842]])"
      ]
     },
     "execution_count": 70,
     "metadata": {},
     "output_type": "execute_result"
    }
   ],
   "source": [
    "np.dot(APinv,A)"
   ]
  },
  {
   "cell_type": "code",
   "execution_count": 71,
   "metadata": {},
   "outputs": [
    {
     "data": {
      "text/plain": [
       "array([[  1.85,  -1.55],\n",
       "       [  5.35,  10.45]])"
      ]
     },
     "execution_count": 71,
     "metadata": {},
     "output_type": "execute_result"
    }
   ],
   "source": [
    "np.dot(B,A)"
   ]
  },
  {
   "cell_type": "code",
   "execution_count": null,
   "metadata": {
    "collapsed": true
   },
   "outputs": [],
   "source": []
  }
 ],
 "metadata": {
  "kernelspec": {
   "display_name": "Python 2",
   "language": "python",
   "name": "python2"
  },
  "language_info": {
   "codemirror_mode": {
    "name": "ipython",
    "version": 2
   },
   "file_extension": ".py",
   "mimetype": "text/x-python",
   "name": "python",
   "nbconvert_exporter": "python",
   "pygments_lexer": "ipython2",
   "version": "2.7.13"
  }
 },
 "nbformat": 4,
 "nbformat_minor": 2
}
