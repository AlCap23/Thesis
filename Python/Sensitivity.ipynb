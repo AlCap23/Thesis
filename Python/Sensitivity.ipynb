{
 "cells": [
  {
   "cell_type": "markdown",
   "metadata": {
    "deletable": true,
    "editable": true
   },
   "source": [
    "# Sensitivity Function of MIMO"
   ]
  },
  {
   "cell_type": "code",
   "execution_count": 1,
   "metadata": {
    "collapsed": true,
    "deletable": true,
    "editable": true
   },
   "outputs": [],
   "source": [
    "# Import the needed packages, SymPy\n",
    "import sympy as sp\n",
    "from sympy import init_printing\n",
    "init_printing()"
   ]
  },
  {
   "cell_type": "code",
   "execution_count": 3,
   "metadata": {
    "collapsed": false,
    "deletable": true,
    "editable": true
   },
   "outputs": [],
   "source": [
    "# Define the variables\n",
    "# Complex variable\n",
    "s = sp.symbols('s')\n",
    "# Transfer Function\n",
    "G11,G21,G12,G22 = sp.symbols('G_{11},G_{21},G_{12},G_{22}')\n",
    "# Controller\n",
    "C1,C2 = sp.symbols('C_1 C_2')\n",
    "# Vectorize\n",
    "GV = [G11,G21,G12,G22]"
   ]
  },
  {
   "cell_type": "code",
   "execution_count": 8,
   "metadata": {
    "collapsed": false,
    "deletable": true,
    "editable": true
   },
   "outputs": [],
   "source": [
    "G = sp.zeros(2)\n",
    "for i in range(0,4):\n",
    "    G[i] = GV[i]\n",
    "C = sp.diag(C1,C2)"
   ]
  },
  {
   "cell_type": "code",
   "execution_count": 17,
   "metadata": {
    "collapsed": false
   },
   "outputs": [],
   "source": [
    "Sinv = sp.eye(2)+G*C\n",
    "Sinv = sp.simplify(Sinv**-1)\n",
    "S = sp.zeros(2)\n",
    "for i in range(0,4):\n",
    "    S[i] = sp.simplify(Sinv[i])"
   ]
  },
  {
   "cell_type": "code",
   "execution_count": 18,
   "metadata": {
    "collapsed": false
   },
   "outputs": [
    {
     "data": {
      "image/png": "[encoded data removed]",
      "text/latex": [
       "$$\\left[\\begin{matrix}- \\frac{C_{2} G_{22} + 1}{C_{1} C_{2} G_{12} G_{21} - \\left(C_{1} G_{11} + 1\\right) \\left(C_{2} G_{22} + 1\\right)} & \\frac{C_{2} G_{21}}{C_{1} C_{2} G_{12} G_{21} - \\left(C_{1} G_{11} + 1\\right) \\left(C_{2} G_{22} + 1\\right)}\\\\\\frac{C_{1} G_{12}}{C_{1} C_{2} G_{12} G_{21} - \\left(C_{1} G_{11} + 1\\right) \\left(C_{2} G_{22} + 1\\right)} & - \\frac{C_{1} G_{11} + 1}{C_{1} C_{2} G_{12} G_{21} - \\left(C_{1} G_{11} + 1\\right) \\left(C_{2} G_{22} + 1\\right)}\\end{matrix}\\right]$$"
      ],
      "text/plain": [
       "⎡                  -(C₂⋅G_{22} + 1)                                           \n",
       "⎢─────────────────────────────────────────────────────  ──────────────────────\n",
       "⎢C₁⋅C₂⋅G_{12}⋅G_{21} - (C₁⋅G_{11} + 1)⋅(C₂⋅G_{22} + 1)  C₁⋅C₂⋅G_{12}⋅G_{21} - \n",
       "⎢                                                                             \n",
       "⎢                      C₁⋅G_{12}                                          -(C₁\n",
       "⎢─────────────────────────────────────────────────────  ──────────────────────\n",
       "⎣C₁⋅C₂⋅G_{12}⋅G_{21} - (C₁⋅G_{11} + 1)⋅(C₂⋅G_{22} + 1)  C₁⋅C₂⋅G_{12}⋅G_{21} - \n",
       "\n",
       "C₂⋅G_{21}                      ⎤\n",
       "───────────────────────────────⎥\n",
       "(C₁⋅G_{11} + 1)⋅(C₂⋅G_{22} + 1)⎥\n",
       "                               ⎥\n",
       "⋅G_{11} + 1)                   ⎥\n",
       "───────────────────────────────⎥\n",
       "(C₁⋅G_{11} + 1)⋅(C₂⋅G_{22} + 1)⎦"
      ]
     },
     "execution_count": 18,
     "metadata": {},
     "output_type": "execute_result"
    }
   ],
   "source": [
    "S"
   ]
  }
 ],
 "metadata": {
  "kernelspec": {
   "display_name": "Python 3",
   "language": "python",
   "name": "python3"
  },
  "language_info": {
   "codemirror_mode": {
    "name": "ipython",
    "version": 3
   },
   "file_extension": ".py",
   "mimetype": "text/x-python",
   "name": "python",
   "nbconvert_exporter": "python",
   "pygments_lexer": "ipython3",
   "version": "3.6.1"
  }
 },
 "nbformat": 4,
 "nbformat_minor": 2
}
