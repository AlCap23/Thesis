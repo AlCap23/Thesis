{
 "cells": [
  {
   "cell_type": "code",
   "execution_count": 1,
   "metadata": {
    "collapsed": false
   },
   "outputs": [],
   "source": [
    "import control as cn\n",
    "import slycot as sc\n",
    "import numpy as np\n",
    "import Algorithms as alg"
   ]
  },
  {
   "cell_type": "code",
   "execution_count": 4,
   "metadata": {
    "collapsed": false
   },
   "outputs": [
    {
     "data": {
      "text/plain": [
       "array([ 0.        , -1.52074056, -2.27059717, -2.64034133, -2.82265717,\n",
       "       -2.91255465, -2.95688188, -2.97873904, -2.98951651, -2.99483073,\n",
       "       -2.9974511 , -2.99874317, -2.99938028, -2.99969442, -2.99984932,\n",
       "       -2.9999257 , -2.99996337, -2.99998194, -2.99999109, -2.99999561,\n",
       "       -2.99999783, -2.99999893, -2.99999947, -2.99999974, -2.99999987,\n",
       "       -2.99999994, -2.99999997, -2.99999998, -2.99999999, -3.        ,\n",
       "       -3.        , -3.        , -3.        , -3.        , -3.        ,\n",
       "       -3.        , -3.        , -3.        , -3.        , -3.        ,\n",
       "       -3.        , -3.        , -3.        , -3.        , -3.        ,\n",
       "       -3.        , -3.        , -3.        , -3.        , -3.        ,\n",
       "       -3.        , -3.        , -3.        , -3.        , -3.        ,\n",
       "       -3.        , -3.        , -3.        , -3.        , -3.        ,\n",
       "       -3.        , -3.        , -3.        , -3.        , -3.        ,\n",
       "       -3.        , -3.        , -3.        , -3.        , -3.        ,\n",
       "       -3.        , -3.        , -3.        , -3.        , -3.        ,\n",
       "       -3.        , -3.        , -3.        , -3.        , -3.        ,\n",
       "       -3.        , -3.        , -3.        , -3.        , -3.        ,\n",
       "       -3.        , -3.        , -3.        , -3.        , -3.        ,\n",
       "       -3.        , -3.        , -3.        , -3.        , -3.        ,\n",
       "       -3.        , -3.        , -3.        , -3.        , -3.        ])"
      ]
     },
     "execution_count": 4,
     "metadata": {},
     "output_type": "execute_result"
    }
   ],
   "source": [
    "NUM = [[[10], [5]],[[0], [-3]]]\n",
    "DEN = [[[10, 1.], [100,1.]],[[1.], [10,1.]]]\n",
    "G = cn.tf(NUM,DEN)\n",
    "# Step response for 100 s ( in 100 steps), initial conditions, Input, Output\n",
    "y, t = cn.matlab.step(G,None,0.0, 1,1)\n",
    "# Get the response data\n",
    "y[:]\n",
    "# Get the gain of the Matrix at Frequency \n",
    "mag,phase,omega = cn.freqresp(G,[0])\n",
    "# Perform svd\n",
    "u,s,d = np.linalg.svd(np.mat(mag))\n",
    "y"
   ]
  },
  {
   "cell_type": "code",
   "execution_count": 99,
   "metadata": {
    "collapsed": false
   },
   "outputs": [
    {
     "data": {
      "text/plain": [
       "A = [[-0.  0.]\n",
       " [ 0. -0.]]\n",
       "\n",
       "B = [[ 10.   0.]\n",
       " [  0.  10.]]\n",
       "\n",
       "C = [[ 1.  0.]\n",
       " [ 0.  1.]]\n",
       "\n",
       "D = [[ 5.  0.]\n",
       " [ 0.  5.]]"
      ]
     },
     "execution_count": 99,
     "metadata": {},
     "output_type": "execute_result"
    }
   ],
   "source": [
    "# PI Controller\n",
    "pi = cn.tf([5],[1])+cn.tf([10],[1,0])\n",
    "# Convert\n",
    "pi = cn.tf2ss(pi)\n",
    "# Append -> MIMO Controller\n",
    "pi_mimo = cn.bdalg.append(pi,pi)\n",
    "pi_mimo"
   ]
  },
  {
   "cell_type": "code",
   "execution_count": 100,
   "metadata": {
    "collapsed": false
   },
   "outputs": [
    {
     "data": {
      "text/plain": [
       "\n",
       "Input 1 to output 1:\n",
       "      5 s^3 + 3 s^2 - 29 s - 30\n",
       "--------------------------------------\n",
       "s^4 + 3.7 s^3 - 0.14 s^2 - 29.3 s - 30\n",
       "\n",
       "Input 1 to output 2:\n",
       "1.776e-15 s^3 - 2.665e-16 s^2\n",
       "-----------------------------\n",
       "    s^4 - 1.4 s^3 - 3 s^2\n",
       "\n",
       "Input 2 to output 1:\n",
       "25 s^4 + 55 s^3 + 10.25 s^2 + 0.5 s - 1.137e-13\n",
       "-----------------------------------------------\n",
       "    s^4 + 3.7 s^3 - 0.14 s^2 - 29.3 s - 30\n",
       "\n",
       "Input 2 to output 2:\n",
       "  -1.5 s^3 - 3 s^2\n",
       "---------------------\n",
       "s^4 - 1.4 s^3 - 3 s^2"
      ]
     },
     "execution_count": 100,
     "metadata": {},
     "output_type": "execute_result"
    }
   ],
   "source": [
    "# Make a feedback sys\n",
    "A = np.zeros((2,2))\n",
    "B = A\n",
    "C = A\n",
    "D = np.eye(2)\n",
    "fb = cn.ss(A,B,C,D)\n",
    "# Connect for 2DOF controller\n",
    "cn.feedback(cn.tf2ss(G),pi_mimo)*pi_mimo\n",
    "# Connect for 1 DOF controller\n",
    "cn.ss2tf(cn.feedback(cn.tf2ss(G)*pi_mimo,fb))"
   ]
  },
  {
   "cell_type": "code",
   "execution_count": null,
   "metadata": {
    "collapsed": true
   },
   "outputs": [],
   "source": [
    "# Ablauf \n",
    "# System erstellen\n",
    "# Sprungantwort messen\n",
    "# K,T,L\n",
    "# Controller Design\n",
    "# Controller Erstellen\n",
    "# SS Transformation\n",
    "# Feedback\n",
    "# Performance\n",
    "# SVD\n",
    "# min max"
   ]
  }
 ],
 "metadata": {
  "anaconda-cloud": {},
  "kernelspec": {
   "display_name": "Python [conda root]",
   "language": "python",
   "name": "conda-root-py"
  },
  "language_info": {
   "codemirror_mode": {
    "name": "ipython",
    "version": 3
   },
   "file_extension": ".py",
   "mimetype": "text/x-python",
   "name": "python",
   "nbconvert_exporter": "python",
   "pygments_lexer": "ipython3",
   "version": "3.5.2"
  }
 },
 "nbformat": 4,
 "nbformat_minor": 2
}
