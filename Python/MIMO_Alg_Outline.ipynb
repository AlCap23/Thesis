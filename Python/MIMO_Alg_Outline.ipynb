{
 "cells": [
  {
   "cell_type": "code",
   "execution_count": 2,
   "metadata": {
    "collapsed": false
   },
   "outputs": [],
   "source": [
    "import control as cn\n",
    "import slycot as sc\n",
    "import numpy as np\n",
    "import Algorithms as alg"
   ]
  },
  {
   "cell_type": "code",
   "execution_count": 3,
   "metadata": {
    "collapsed": false
   },
   "outputs": [
    {
     "data": {
      "text/plain": [
       "array([ 0.        ,  0.06826522,  0.13187029,  0.19113335,  0.24635081,\n",
       "        0.29779883,  0.34573475,  0.39039831,  0.4320129 ,  0.47078666,\n",
       "        0.50691352,  0.54057418,  0.57193698,  0.60115879,  0.62838577,\n",
       "        0.6537541 ,  0.67739065,  0.69941365,  0.71993324,  0.73905206,\n",
       "        0.75686572,  0.77346334,  0.78892791,  0.80333679,  0.81676205,\n",
       "        0.82927083,  0.84092569,  0.85178493,  0.86190287,  0.8713301 ,\n",
       "        0.88011378,  0.88829784,  0.89592321,  0.90302803,  0.90964784,\n",
       "        0.91581575,  0.92156261,  0.92691715,  0.93190617,  0.93655461,\n",
       "        0.94088572,  0.94492117,  0.94868114,  0.95218443,  0.95544857,\n",
       "        0.95848989,  0.96132358,  0.96396384,  0.96642385,  0.96871594,\n",
       "        0.97085155,  0.97284138,  0.97469536,  0.97642279,  0.97803229,\n",
       "        0.97953192,  0.98092918,  0.98223106,  0.98344406,  0.98457425,\n",
       "        0.98562729,  0.98660845,  0.98752263,  0.9883744 ,  0.98916802,\n",
       "        0.98990747,  0.99059644,  0.99123837,  0.99183649,  0.99239377,\n",
       "        0.99291301,  0.99339681,  0.99384758,  0.99426757,  0.9946589 ,\n",
       "        0.99502351,  0.99536323,  0.99567976,  0.99597468,  0.99624947,\n",
       "        0.9965055 ,  0.99674406,  0.99696632,  0.99717342,  0.99736637,\n",
       "        0.99754616,  0.99771367,  0.99786975,  0.99801517,  0.99815067,\n",
       "        0.99827691,  0.99839454,  0.99850413,  0.99860625,  0.99870139,\n",
       "        0.99879004,  0.99887264,  0.9989496 ,  0.99902131,  0.99908812])"
      ]
     },
     "execution_count": 3,
     "metadata": {},
     "output_type": "execute_result"
    }
   ],
   "source": [
    "NUM = [[[1], [0]],[[0], [1]]]\n",
    "DEN = [[[10, 1.], [100,1.]],[[1.], [10,1.]]]\n",
    "G = cn.tf(NUM,DEN)\n",
    "# Step response for 100 s ( in 100 steps), initial conditions, Input, Output\n",
    "y, t = cn.matlab.step(G,None,0.0, 1,1)\n",
    "# Get the response data\n",
    "y[:]\n",
    "# Get the gain of the Matrix at Frequency \n",
    "mag,phase,omega = cn.freqresp(G,[0])\n",
    "# Perform svd\n",
    "u,s,d = np.linalg.svd(np.mat(mag))\n",
    "y"
   ]
  },
  {
   "cell_type": "code",
   "execution_count": 4,
   "metadata": {
    "collapsed": false
   },
   "outputs": [
    {
     "data": {
      "text/plain": [
       "A = [[-0.  0.]\n",
       " [ 0. -0.]]\n",
       "\n",
       "B = [[ 1.  0.]\n",
       " [ 0.  1.]]\n",
       "\n",
       "C = [[ 1.  0.]\n",
       " [ 0.  1.]]\n",
       "\n",
       "D = [[ 1.  0.]\n",
       " [ 0.  1.]]"
      ]
     },
     "execution_count": 4,
     "metadata": {},
     "output_type": "execute_result"
    }
   ],
   "source": [
    "# PI Controller\n",
    "pi = cn.tf([0.1],[0.1])+cn.tf([1],[1,0])\n",
    "# Convert\n",
    "pi = cn.tf2ss(pi)\n",
    "# Append -> MIMO Controller\n",
    "pi_mimo = cn.bdalg.append(pi,pi)\n",
    "pi_mimo"
   ]
  },
  {
   "cell_type": "code",
   "execution_count": 5,
   "metadata": {
    "collapsed": false
   },
   "outputs": [],
   "source": [
    "# Make a feedback sys\n",
    "A = np.zeros((2,2))\n",
    "B = A\n",
    "C = A\n",
    "D = np.eye(2)\n",
    "fb = cn.ss(A,B,C,D)\n",
    "# Connect for 2DOF controller\n",
    "cn.feedback(cn.tf2ss(G),pi_mimo)*pi_mimo\n",
    "# Connect for 1 DOF controller\n",
    "CL = cn.feedback(cn.tf2ss(G)*pi_mimo,fb)\n",
    "CL2 = cn.ss2tf(cn.feedback(cn.tf2ss(G)*pi_mimo,fb))\n",
    "CL3 = cn.matlab.balred(CL,2)"
   ]
  },
  {
   "cell_type": "code",
   "execution_count": 6,
   "metadata": {
    "collapsed": false
   },
   "outputs": [
    {
     "data": {
      "text/plain": [
       "A = [[ 0.   0.   0.  -1. ]\n",
       " [ 0.   0.  -1.   0. ]\n",
       " [ 0.   0.1 -0.2  0. ]\n",
       " [ 0.1  0.   0.  -0.2]]\n",
       "\n",
       "B = [[ 1.   0. ]\n",
       " [ 0.   1. ]\n",
       " [ 0.   0.1]\n",
       " [ 0.1  0. ]]\n",
       "\n",
       "C = [[ 0.  0.  0.  1.]\n",
       " [ 0.  0.  1.  0.]]\n",
       "\n",
       "D = [[ 0.  0.]\n",
       " [ 0.  0.]]"
      ]
     },
     "execution_count": 6,
     "metadata": {},
     "output_type": "execute_result"
    }
   ],
   "source": [
    "CL"
   ]
  },
  {
   "cell_type": "code",
   "execution_count": 7,
   "metadata": {
    "collapsed": false
   },
   "outputs": [
    {
     "data": {
      "text/plain": [
       "A = [[ -1.00000000e-01   7.49695295e-19]\n",
       " [ -8.97847097e-19  -1.00000000e-01]]\n",
       "\n",
       "B = [[  4.56195005e-01   2.53357490e-19]\n",
       " [  1.19122669e-20  -4.56195005e-01]]\n",
       "\n",
       "C = [[  4.56195005e-01  -5.88425892e-19]\n",
       " [ -9.72148372e-19  -4.56195005e-01]]\n",
       "\n",
       "D = [[ 0.  0.]\n",
       " [ 0.  0.]]"
      ]
     },
     "execution_count": 7,
     "metadata": {},
     "output_type": "execute_result"
    }
   ],
   "source": [
    "CL3"
   ]
  },
  {
   "cell_type": "code",
   "execution_count": null,
   "metadata": {
    "collapsed": true
   },
   "outputs": [],
   "source": [
    "y, t = cn.matlab.step(C,None,0.0, 1,1)\n"
   ]
  }
 ],
 "metadata": {
  "anaconda-cloud": {},
  "kernelspec": {
   "display_name": "Python [conda root]",
   "language": "python",
   "name": "conda-root-py"
  },
  "language_info": {
   "codemirror_mode": {
    "name": "ipython",
    "version": 3
   },
   "file_extension": ".py",
   "mimetype": "text/x-python",
   "name": "python",
   "nbconvert_exporter": "python",
   "pygments_lexer": "ipython3",
   "version": "3.5.2"
  }
 },
 "nbformat": 4,
 "nbformat_minor": 2
}
