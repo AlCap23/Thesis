{
 "cells": [
  {
   "cell_type": "code",
   "execution_count": 1,
   "metadata": {},
   "outputs": [],
   "source": [
    "# Import the needed Packages\n",
    "# FMU Simulation\n",
    "import MoBASimulator as mb\n",
    "# Numpy\n",
    "import numpy as np\n",
    "# Pandas for storage\n",
    "import pandas as pd\n",
    "# Algorithms\n",
    "import Algorithms as alg\n",
    "from Algorithms import TUBScolorscale"
   ]
  },
  {
   "cell_type": "code",
   "execution_count": null,
   "metadata": {
    "collapsed": true
   },
   "outputs": [],
   "source": [
    "result = pd.DataFrame(columns=('T_A', 'Q_C', 'K11', 'K12', 'K21', 'K22', 'T11', 'T12', 'T21', 'T22', 'L11', 'L12', 'L21', 'L22'))\n",
    "\n",
    "# Load a Model\n",
    "sim = mb.Simulator()\n",
    "sim.clear()\n",
    "sim.loadModel(\"C:/Users/juliu/Documents/Thesis/Modelica/FMU/2_2_Physical/System_External.fmu\")\n",
    "# Show log window\n",
    "sim.showLogWindow()\n",
    "\n",
    "# Set the simulation Parameter\n",
    "sim_time = 6e4\n",
    "T_amb = np.linspace(273.15,303,5) # Ambient Temperatures in K\n",
    "Q_C = -70e3*np.ones_like(T_amb) # Heats in kJ/s\n",
    "stepTime = 5e4 # Time for the step\n",
    "step_N = -.3 # height of the step for fan\n",
    "step_A = 0.3 # Height of the step for valve"
   ]
  },
  {
   "cell_type": "code",
   "execution_count": null,
   "metadata": {},
   "outputs": [
    {
     "name": "stdout",
     "output_type": "stream",
     "text": [
      "      T_A    Q_C     K11      K12      K21     K22      T11      T12      T21  \\\n",
      "0  273.15 -70000 -2.4785  4.47579 -1.30873 -3.1878  50.0487  45.7833  15.1501   \n",
      "\n",
      "      T22      L11      L12     L21      L22  \n",
      "0  37.103  22.5795  19.1258  9.3006  16.3005  \n",
      "       T_A    Q_C      K11      K12       K21      K22      T11      T12  \\\n",
      "0   273.15 -70000  -2.4785  4.47579  -1.30873  -3.1878  50.0487  45.7833   \n",
      "1  280.612 -70000 -1.00984  6.11555 -0.645238 -2.11424    48.52  44.6993   \n",
      "\n",
      "       T21      T22      L11      L12      L21      L22  \n",
      "0  15.1501   37.103  22.5795  19.1258   9.3006  16.3005  \n",
      "1  18.5886  36.5468  13.9193  16.6197  7.65198  16.0777  "
     ]
    }
   ],
   "source": [
    "for number in range(len(T_amb)):\n",
    "    # First experiment Fan -> Temp / Pressure\n",
    "    sim.reloadModel()\n",
    "    # Set the Parameter\n",
    "    sim.set({\"fmu.T_A\":T_amb[number], \"fmu.Q_C\":Q_C[number],\n",
    "         \"fmu.booleanStep.startTime\":stepTime-1.0,\n",
    "        \"fmu.step_T.startTime\": stepTime, \"fmu.step_T.height\": step_N,\n",
    "        \"fmu.step_P.startTime\": sim_time, \"fmu.step_P.height\": 0.})\n",
    "    #sim.showParameterDialog()\n",
    "    # Simulate\n",
    "    res_Fan = sim.simulate(1,sim_time)\n",
    "\n",
    "    # Repeat for Valve -> Temp/Pressure\n",
    "    # Physical : Valve -> Pressure is negat\n",
    "    sim.reloadModel()\n",
    "    # Set the Parameter\n",
    "    sim.set({\"fmu.T_A\":T_amb[number], \"fmu.Q_C\":Q_C[number],\n",
    "         \"fmu.booleanStep.startTime\":stepTime-1.0,\n",
    "        \"fmu.step_T.startTime\": sim_time, \"fmu.step_T.height\": 0.,\n",
    "        \"fmu.step_P.startTime\": stepTime, \"fmu.step_P.height\": step_A})\n",
    "    # Simulate\n",
    "    res_Valve = sim.simulate(1,sim_time)\n",
    "\n",
    "    # Get the signals\n",
    "    y_P = res_Fan[\"fmu.p_H\"]\n",
    "    u_P =  step_A*np.ones_like(y_P)\n",
    "    y_T = res_Fan[\"fmu.T_H\"]\n",
    "    u_T =  step_N*np.ones_like(y_T)\n",
    "    time = res_Fan[\"time\"]\n",
    "\n",
    "    # Rescale the signals for identification\n",
    "    # Get Data after Step -> For the Fan \\delta T approx 400 s.\n",
    "    # Get Temperature data\n",
    "    y_T_I = y_T[np.where((time>=stepTime) & (time < (stepTime+400.)))]\n",
    "    y_T_I = y_T_I-y_T_I[0]\n",
    "    u_T_I = u_T[np.where((time>=stepTime) & (time <(stepTime+400.)))]\n",
    "    t_T_I = time[np.where((time>=stepTime) & (time < (stepTime+400.)))]-stepTime\n",
    "\n",
    "    # Same for pressure\n",
    "    y_P_I = y_P[np.where((time>=stepTime) & (time < stepTime+400.))]\n",
    "    y_P_I = y_P_I-y_P_I[0] \n",
    "    u_P_I = u_P[np.where((time>=stepTime) & (time < stepTime+400.))]\n",
    "    t_P_I = time[np.where((time>=stepTime) & (time < stepTime+400.))]-stepTime\n",
    "\n",
    "    # The needed Parameter\n",
    "    K = np.zeros((2,2))\n",
    "    T = np.zeros((2,2))\n",
    "    L = np.zeros((2,2))\n",
    "\n",
    "    # Identify from Fan to Temp [0][0] and from Fan to Pressure[1][0]\n",
    "    K[0][0],T[0][0],L[0][0]=alg.Integral_Identification(y_T_I,u_T_I,t_T_I)\n",
    "    K[1][0],T[1][0],L[1][0]=alg.Integral_Identification(y_P_I,u_T_I,t_P_I)\n",
    "\n",
    "    # Get the signals\n",
    "    steptime = sim.get(\"fmu.booleanStep.startTime\")\n",
    "    y_P = res_Valve[\"fmu.p_H\"]\n",
    "    u_P =  step_A*np.ones_like(y_P)\n",
    "    y_T = res_Valve[\"fmu.T_H\"]\n",
    "    u_T =  step_N*np.ones_like(y_T)\n",
    "    time = res_Valve[\"time\"]\n",
    "\n",
    "    # Rescale the signals for identification\n",
    "    # Get Data after Step\n",
    "    y_T_I = y_T[np.where((time>=steptime) & (time < (steptime+600.)))]\n",
    "    y_T_I = y_T_I-y_T_I[0]\n",
    "    u_T_I = u_T[np.where((time>=steptime) & (time <(steptime+600.)))]\n",
    "    t_T_I = time[np.where((time>=steptime) & (time < (steptime+600.)))]-steptime\n",
    "\n",
    "    # Same for P\n",
    "    y_P_I = y_P[np.where((time>=steptime) & (time < steptime+600.))]\n",
    "    y_P_I = y_P_I-y_P_I[0]\n",
    "    u_P_I = u_P[np.where((time>=steptime) & (time < steptime+600.))]\n",
    "    t_P_I = time[np.where((time>=steptime) & (time < steptime+600.))]-steptime\n",
    "\n",
    "    #Identify from Valve to Temp [0][1] and from Valve to Pressure[1][1]\n",
    "    K[0][1],T[0][1],L[0][1]=alg.Integral_Identification(y_T_I,u_P_I,t_T_I)\n",
    "    K[1][1],T[1][1],L[1][1]=alg.Integral_Identification(y_P_I,u_P_I,t_P_I)\n",
    "\n",
    "    result.loc[number,:2] = [T_amb[number], Q_C[number]]\n",
    "    result.loc[number,2:] = np.hstack((K.flatten(),np.hstack((T.flatten(),L.flatten())))).tolist()\n",
    "    result.to_csv('PhysicalIdentification_90.csv', sep=';')\n",
    "    print(result)"
   ]
  },
  {
   "cell_type": "code",
   "execution_count": null,
   "metadata": {},
   "outputs": [],
   "source": [
    "result"
   ]
  },
  {
   "cell_type": "code",
   "execution_count": 7,
   "metadata": {},
   "outputs": [],
   "source": [
    "# Make a controller\n",
    "#KY, B, D = alg.Control_Decoupled(K,T,L,0.5*np.ones_like(K))\n",
    "KY, B, D = alg.Control_Decentral(K,T,L)\n",
    "#Reload Model\n",
    "sim.reloadModel()\n",
    "# Set the parameter for a controller simulation\n",
    "params = {\"fmu.step_P.startTime\":2e3,\"fmu.step_P.height\":.0, # Input disturbance from Valve\n",
    "          \"fmu.step_T.startTime\":5e3, \"fmu.step_T.height\":.0, # Input disturbance from Fan\n",
    "          \"fmu.booleanStep.startTime\":10e5} # Never turn off the controller\n",
    "for outputs in range(1,3):\n",
    "    for inputs in range(1,3):\n",
    "        params.update({\"fmu.multivariable_Controller.KP[\"+str(outputs)+\",\"+str(inputs)+\"]\": KY[outputs-1][inputs-1][0]})\n",
    "        params.update({\"fmu.multivariable_Controller.KI[\"+str(outputs)+\",\"+str(inputs)+\"]\": KY[outputs-1][inputs-1][1]})\n",
    "        params.update({\"fmu.multivariable_Controller.D[\"+str(outputs)+\",\"+str(inputs)+\"]\": D[outputs-1][inputs-1]})\n",
    "        params.update({\"fmu.multivariable_Controller.B[\"+str(outputs)+\",\"+str(inputs)+\"]\": B[outputs-1][inputs-1]})\n",
    "sim.set(params)\n",
    "sim.showParameterDialog()\n",
    "# Get a change in Dynamics\n",
    "time_table = [0.0,5e3,7e3,9e3]\n",
    "tamb_table = [T_amb, T_amb+5, T_amb+5,T_amb+10]\n",
    "qc_table = [Q_C,Q_C,Q_C-3e3,Q_C-3e3]\n",
    "sim.setInputTable({\"time\":time_table, \"fmu.T_A\":tamb_table, \"fmu.Q_C\":qc_table})\n",
    "\n",
    "# Simulate the closed loop\n",
    "res_Control = sim.simulate(1,10e3)"
   ]
  },
  {
   "cell_type": "code",
   "execution_count": 42,
   "metadata": {},
   "outputs": [
    {
     "data": {
      "text/plain": [
       "['fmu.Physical_System.heatBoundaryWithInputs_MTCabinet_Einzeln.heatPort.Q_flow',\n",
       " 'fmu.Physical_System.boundary.summary.T_outflow',\n",
       " 'fmu.multivariable_Controller.u_m[1]',\n",
       " 'fmu.Physical_System.yTGC',\n",
       " 'fmu.Physical_System.Qdotkaelte',\n",
       " 'fmu.Physical_System.boundary2.T_in',\n",
       " 'fmu.multivariable_Controller.u_m[2]',\n",
       " 'fmu.Physical_System.boundary.T_in',\n",
       " 'fmu.Physical_System.vle_gas_aus.T',\n",
       " 'fmu.Physical_System.realExpression.y',\n",
       " 'fmu.Physical_System.heatBoundaryWithInputs_MTCabinet_Einzeln.Q_flow_in',\n",
       " 'fmu.T_A',\n",
       " 'fmu.Physical_System.gc_aus_T',\n",
       " 'fmu.Q_C',\n",
       " 'time',\n",
       " 'fmu.T_H',\n",
       " 'fmu.p_H',\n",
       " 'fmu.Physical_System.yHP',\n",
       " 'fmu.Physical_System.boundary2.summary.T_outflow',\n",
       " 'fmu.Physical_System.TUmgebung',\n",
       " 'fmu.Physical_System.realExpression3.y']"
      ]
     },
     "execution_count": 42,
     "metadata": {},
     "output_type": "execute_result"
    }
   ],
   "source": [
    "# Simulate the closed loop\n",
    "\n",
    "res.keys()"
   ]
  },
  {
   "cell_type": "code",
   "execution_count": 8,
   "metadata": {},
   "outputs": [],
   "source": [
    "# Get the signals\n",
    "y_T_D = res_Control[\"fmu.T_H\"]\n",
    "y_P_D = res_Control[\"fmu.p_H\"]\n",
    "n_T_D = res_Control[\"fmu.Physical_System.realExpression.y\"]\n",
    "A_P_D = res_Control[\"fmu.Physical_System.realExpression3.y\"]\n",
    "t_D = res_Control[\"time\"]\n",
    "\n",
    "p = bk.figure()\n",
    "p.line(t_D,y_T_D)\n",
    "bk.show(p)"
   ]
  },
  {
   "cell_type": "code",
   "execution_count": 66,
   "metadata": {
    "collapsed": true
   },
   "outputs": [],
   "source": [
    "#Simulate Further\n",
    "sim2 = mb.Simulator()\n",
    "sim2.clear()\n",
    "sim2.loadModel(\"C:/Users/juliu/Documents/Thesis/Modelica/FMU/2_2_Physical/System_External.fmu\")\n",
    "sim2.showLogWindow()"
   ]
  },
  {
   "cell_type": "code",
   "execution_count": 67,
   "metadata": {},
   "outputs": [
    {
     "data": {
      "text/plain": [
       "0"
      ]
     },
     "execution_count": 67,
     "metadata": {},
     "output_type": "execute_result"
    }
   ],
   "source": [
    "sim2.set(params)\n",
    "#Make a disturbance plot\n",
    "sim2.set({\"fmu.T_A\":293.15, \"fmu.Q_C\":-60e3})\n",
    "sim2.set({\"fmu.step_T.height\": -1, \"fmu.step_T.startTime\": 1000,\"fmu.step_P.height\": .5, \"fmu.step_P.startTime\": 1500})\n",
    "sim2.set({\"fmu.booleanStep.startTime\":1e5})\n",
    "sim2.showParameterDialog()"
   ]
  },
  {
   "cell_type": "code",
   "execution_count": 68,
   "metadata": {
    "collapsed": true
   },
   "outputs": [],
   "source": [
    "res2 = sim2.simulate(1,4e3)"
   ]
  },
  {
   "cell_type": "code",
   "execution_count": 69,
   "metadata": {
    "collapsed": true
   },
   "outputs": [],
   "source": [
    "y_T_D = res2[\"fmu.T_H\"]\n",
    "y_P_D = res2[\"fmu.p_H\"]\n",
    "t_D = res2[\"time\"]\n",
    "\n",
    "p = bk.figure()\n",
    "p.line(t_D,y_T_D, color=\"red\")\n",
    "p.line(t_D,y_P_D)\n",
    "bk.show(p)"
   ]
  },
  {
   "cell_type": "code",
   "execution_count": 71,
   "metadata": {},
   "outputs": [
    {
     "name": "stdout",
     "output_type": "stream",
     "text": [
      "Modified Detuning Iterationts 0\n",
      "Modified Detuning Iterationts 0\n",
      "(array([[[-0.62224787, -0.01546867, -0.        ],\n",
      "        [ 0.        ,  0.        ,  0.        ]],\n",
      "\n",
      "       [[ 0.        ,  0.        ,  0.        ],\n",
      "        [-0.14967252, -0.00308461, -0.        ]]]), array([[ 0.34385894,  0.        ],\n",
      "       [ 0.        ,  0.        ]]), array([[ 1.        ,  4.5341174 ],\n",
      "       [-0.35912127,  1.        ]]))\n"
     ]
    },
    {
     "data": {
      "text/plain": [
       "0"
      ]
     },
     "execution_count": 71,
     "metadata": {},
     "output_type": "execute_result"
    }
   ],
   "source": [
    "\n",
    "# Make a controller\n",
    "KY, B, D = alg.Control_Decoupled(K,T,L,10*np.eye(2), pairing=[0,1])\n",
    "\n",
    "#Reload Model\n",
    "sim2.reloadModel()\n",
    "# Set the parameter\n",
    "params = {}\n",
    "for outputs in range(1,3):\n",
    "    for inputs in range(1,3):\n",
    "        params.update({\"fmu.multivariable_Controller.KP[\"+str(outputs)+\",\"+str(inputs)+\"]\": KY[outputs-1][inputs-1][0]})\n",
    "        params.update({\"fmu.multivariable_Controller.KI[\"+str(outputs)+\",\"+str(inputs)+\"]\": KY[outputs-1][inputs-1][1]})\n",
    "        params.update({\"fmu.multivariable_Controller.D[\"+str(outputs)+\",\"+str(inputs)+\"]\": D[outputs-1][inputs-1]})\n",
    "        params.update({\"fmu.multivariable_Controller.B[\"+str(outputs)+\",\"+str(inputs)+\"]\": B[outputs-1][inputs-1]})\n",
    "sim2.set(params)\n",
    "print(KY,B,D)\n",
    "#Make a disturbance plot\n",
    "sim2.set({\"fmu.T_A\":293.15, \"fmu.Q_C\":-60e3})\n",
    "sim2.set({\"fmu.step_T.height\": -1, \"fmu.step_T.startTime\": 1000,\"fmu.step_P.height\": .5, \"fmu.step_P.startTime\": 1500})\n",
    "sim2.set({\"fmu.booleanStep.startTime\":1e5})\n",
    "sim2.showParameterDialog()"
   ]
  },
  {
   "cell_type": "code",
   "execution_count": 72,
   "metadata": {
    "collapsed": true
   },
   "outputs": [],
   "source": [
    "res3 = sim2.simulate(1,4e3)"
   ]
  },
  {
   "cell_type": "code",
   "execution_count": 73,
   "metadata": {
    "collapsed": true
   },
   "outputs": [],
   "source": [
    "y_T_D2 = res3[\"fmu.T_H\"]\n",
    "y_P_D2 = res3[\"fmu.p_H\"]\n",
    "t_D2 = res3[\"time\"]\n",
    "\n",
    "p = bk.figure()\n",
    "p.line(t_D,y_T_D, color=\"red\")\n",
    "p.line(t_D,y_P_D, color = \"red\")\n",
    "p.line(t_D2,y_T_D2, color=\"blue\")\n",
    "p.line(t_D2,y_P_D2, color = \"blue\")\n",
    "bk.show(p)"
   ]
  },
  {
   "cell_type": "code",
   "execution_count": 22,
   "metadata": {},
   "outputs": [
    {
     "name": "stdout",
     "output_type": "stream",
     "text": [
      "Modified Detuning Iterationts 0\n",
      "Modified Detuning Iterationts 6\n"
     ]
    },
    {
     "ename": "NameError",
     "evalue": "name 'sim2' is not defined",
     "output_type": "error",
     "traceback": [
      "\u001b[1;31m---------------------------------------------------------------------------\u001b[0m",
      "\u001b[1;31mNameError\u001b[0m                                 Traceback (most recent call last)",
      "\u001b[1;32m<ipython-input-22-94156ab8ab67>\u001b[0m in \u001b[0;36m<module>\u001b[1;34m()\u001b[0m\n\u001b[0;32m      3\u001b[0m \u001b[0mD\u001b[0m\u001b[1;33m[\u001b[0m\u001b[1;36m0\u001b[0m\u001b[1;33m]\u001b[0m\u001b[1;33m[\u001b[0m\u001b[1;36m0\u001b[0m\u001b[1;33m]\u001b[0m \u001b[1;33m=\u001b[0m \u001b[1;36m0.5\u001b[0m\u001b[1;33m*\u001b[0m\u001b[0mD\u001b[0m\u001b[1;33m[\u001b[0m\u001b[1;36m0\u001b[0m\u001b[1;33m]\u001b[0m\u001b[1;33m[\u001b[0m\u001b[1;36m0\u001b[0m\u001b[1;33m]\u001b[0m\u001b[1;33m\u001b[0m\u001b[0m\n\u001b[0;32m      4\u001b[0m \u001b[1;31m#Reload Model\u001b[0m\u001b[1;33m\u001b[0m\u001b[1;33m\u001b[0m\u001b[0m\n\u001b[1;32m----> 5\u001b[1;33m \u001b[0msim2\u001b[0m\u001b[1;33m.\u001b[0m\u001b[0mreloadModel\u001b[0m\u001b[1;33m(\u001b[0m\u001b[1;33m)\u001b[0m\u001b[1;33m\u001b[0m\u001b[0m\n\u001b[0m\u001b[0;32m      6\u001b[0m \u001b[1;31m# Set the parameter\u001b[0m\u001b[1;33m\u001b[0m\u001b[1;33m\u001b[0m\u001b[0m\n\u001b[0;32m      7\u001b[0m \u001b[0mparams\u001b[0m \u001b[1;33m=\u001b[0m \u001b[1;33m{\u001b[0m\u001b[1;33m}\u001b[0m\u001b[1;33m\u001b[0m\u001b[0m\n",
      "\u001b[1;31mNameError\u001b[0m: name 'sim2' is not defined"
     ]
    }
   ],
   "source": [
    "# Make a controller\n",
    "KY, B, D = alg.Control_Decoupled(K,T,L,1*np.eye(2), pairing=[0,1])\n",
    "D[0][0] = 0.5*D[0][0]\n",
    "#Reload Model\n",
    "sim2.reloadModel()\n",
    "# Set the parameter\n",
    "params = {}\n",
    "for outputs in range(1,3):\n",
    "    for inputs in range(1,3):\n",
    "        params.update({\"fmu.multivariable_Controller.KP[\"+str(outputs)+\",\"+str(inputs)+\"]\": KY[outputs-1][inputs-1][0]})\n",
    "        params.update({\"fmu.multivariable_Controller.KI[\"+str(outputs)+\",\"+str(inputs)+\"]\": KY[outputs-1][inputs-1][1]})\n",
    "        params.update({\"fmu.multivariable_Controller.D[\"+str(outputs)+\",\"+str(inputs)+\"]\": D[outputs-1][inputs-1]})\n",
    "        params.update({\"fmu.multivariable_Controller.B[\"+str(outputs)+\",\"+str(inputs)+\"]\": B[outputs-1][inputs-1]})\n",
    "sim2.set(params)\n",
    "print(KY,B,D)\n",
    "#Make a disturbance plot\n",
    "sim2.set({\"fmu.T_A\":293.15, \"fmu.Q_C\":-60e3})\n",
    "sim2.set({\"fmu.step_T.height\": -1, \"fmu.step_T.startTime\": 1000,\"fmu.step_P.height\": .5, \"fmu.step_P.startTime\": 1500})\n",
    "sim2.set({\"fmu.booleanStep.startTime\":1e5})\n",
    "sim2.showParameterDialog()\n",
    "sim2.showLogWindow()\n",
    "res4 = sim2.simulate(1,4e3)"
   ]
  },
  {
   "cell_type": "code",
   "execution_count": 21,
   "metadata": {},
   "outputs": [
    {
     "ename": "NameError",
     "evalue": "name 'res4' is not defined",
     "output_type": "error",
     "traceback": [
      "\u001b[1;31m---------------------------------------------------------------------------\u001b[0m",
      "\u001b[1;31mNameError\u001b[0m                                 Traceback (most recent call last)",
      "\u001b[1;32m<ipython-input-21-d8b70b74d7b1>\u001b[0m in \u001b[0;36m<module>\u001b[1;34m()\u001b[0m\n\u001b[0;32m      1\u001b[0m \u001b[0msim\u001b[0m\u001b[1;33m.\u001b[0m\u001b[0mshowParameterDialog\u001b[0m\u001b[1;33m(\u001b[0m\u001b[1;33m)\u001b[0m\u001b[1;33m\u001b[0m\u001b[0m\n\u001b[1;32m----> 2\u001b[1;33m \u001b[0my_T_D3\u001b[0m \u001b[1;33m=\u001b[0m \u001b[0mres4\u001b[0m\u001b[1;33m[\u001b[0m\u001b[1;34m\"fmu.T_H\"\u001b[0m\u001b[1;33m]\u001b[0m\u001b[1;33m\u001b[0m\u001b[0m\n\u001b[0m\u001b[0;32m      3\u001b[0m \u001b[0my_P_D3\u001b[0m \u001b[1;33m=\u001b[0m \u001b[0mres4\u001b[0m\u001b[1;33m[\u001b[0m\u001b[1;34m\"fmu.p_H\"\u001b[0m\u001b[1;33m]\u001b[0m\u001b[1;33m\u001b[0m\u001b[0m\n\u001b[0;32m      4\u001b[0m \u001b[0mt_D3\u001b[0m \u001b[1;33m=\u001b[0m \u001b[0mres4\u001b[0m\u001b[1;33m[\u001b[0m\u001b[1;34m\"time\"\u001b[0m\u001b[1;33m]\u001b[0m\u001b[1;33m\u001b[0m\u001b[0m\n\u001b[0;32m      5\u001b[0m \u001b[1;33m\u001b[0m\u001b[0m\n",
      "\u001b[1;31mNameError\u001b[0m: name 'res4' is not defined"
     ]
    }
   ],
   "source": [
    "\n",
    "y_T_D3 = res4[\"fmu.T_H\"]\n",
    "y_P_D3 = res4[\"fmu.p_H\"]\n",
    "t_D3 = res4[\"time\"]\n",
    "\n",
    "p = bk.figure()\n",
    "p.line(t_D,y_T_D, color=\"red\")\n",
    "p.line(t_D,y_P_D, color = \"red\")\n",
    "p.line(t_D2,y_T_D2, color=\"blue\")\n",
    "p.line(t_D2,y_P_D2, color = \"blue\")\n",
    "p.line(t_D3,y_T_D3, color=\"green\")\n",
    "p.line(t_D3,y_P_D3, color = \"green\")\n",
    "bk.show(p)"
   ]
  },
  {
   "cell_type": "code",
   "execution_count": 87,
   "metadata": {
    "collapsed": true
   },
   "outputs": [],
   "source": [
    "sim2.reloadModel()\n",
    "#Make a disturbance plot\n",
    "sim2.set({\"fmu.T_A\":300.00, \"fmu.Q_C\":-60e3})\n",
    "sim2.set({\"fmu.step_T.height\": -1, \"fmu.step_T.startTime\": 5000,\"fmu.step_P.height\": .5, \"fmu.step_P.startTime\": 15000})\n",
    "sim2.set({\"fmu.booleanStep.startTime\":5e5})\n",
    "sim2.showLogWindow()\n",
    "res4 = sim2.simulate(1,10e3)"
   ]
  },
  {
   "cell_type": "code",
   "execution_count": 88,
   "metadata": {
    "collapsed": true
   },
   "outputs": [],
   "source": [
    "y_T_D3 = res4[\"fmu.T_H\"]\n",
    "y_P_D3 = res4[\"fmu.p_H\"]\n",
    "t_D3 = res4[\"time\"]\n",
    "\n",
    "p = bk.figure()\n",
    "p.line(t_D3,y_T_D3, color=\"green\")\n",
    "p.line(t_D3,y_P_D3, color = \"green\")\n",
    "bk.show(p)"
   ]
  },
  {
   "cell_type": "code",
   "execution_count": null,
   "metadata": {
    "collapsed": true
   },
   "outputs": [],
   "source": []
  }
 ],
 "metadata": {
  "anaconda-cloud": {},
  "kernelspec": {
   "display_name": "Python 2",
   "language": "python",
   "name": "python2"
  },
  "language_info": {
   "codemirror_mode": {
    "name": "ipython",
    "version": 2
   },
   "file_extension": ".py",
   "mimetype": "text/x-python",
   "name": "python",
   "nbconvert_exporter": "python",
   "pygments_lexer": "ipython2",
   "version": "2.7.13"
  }
 },
 "nbformat": 4,
 "nbformat_minor": 2
}
