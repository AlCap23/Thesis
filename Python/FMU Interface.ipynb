{
 "cells": [
  {
   "cell_type": "code",
   "execution_count": 1,
   "metadata": {},
   "outputs": [
    {
     "data": {
      "text/html": [
       "\n",
       "    <div class=\"bk-root\">\n",
       "        <a href=\"http://bokeh.pydata.org\" target=\"_blank\" class=\"bk-logo bk-logo-small bk-logo-notebook\"></a>\n",
       "        <span id=\"8eea5844-47a8-445e-b5c5-34bd17888cb4\">Loading BokehJS ...</span>\n",
       "    </div>"
      ]
     },
     "metadata": {},
     "output_type": "display_data"
    },
    {
     "data": {
      "application/javascript": [
       "\n",
       "(function(global) {\n",
       "  function now() {\n",
       "    return new Date();\n",
       "  }\n",
       "\n",
       "  var force = true;\n",
       "\n",
       "  if (typeof (window._bokeh_onload_callbacks) === \"undefined\" || force === true) {\n",
       "    window._bokeh_onload_callbacks = [];\n",
       "    window._bokeh_is_loading = undefined;\n",
       "  }\n",
       "\n",
       "\n",
       "  \n",
       "  if (typeof (window._bokeh_timeout) === \"undefined\" || force === true) {\n",
       "    window._bokeh_timeout = Date.now() + 5000;\n",
       "    window._bokeh_failed_load = false;\n",
       "  }\n",
       "\n",
       "  var NB_LOAD_WARNING = {'data': {'text/html':\n",
       "     \"<div style='background-color: #fdd'>\\n\"+\n",
       "     \"<p>\\n\"+\n",
       "     \"BokehJS does not appear to have successfully loaded. If loading BokehJS from CDN, this \\n\"+\n",
       "     \"may be due to a slow or bad network connection. Possible fixes:\\n\"+\n",
       "     \"</p>\\n\"+\n",
       "     \"<ul>\\n\"+\n",
       "     \"<li>re-rerun `output_notebook()` to attempt to load from CDN again, or</li>\\n\"+\n",
       "     \"<li>use INLINE resources instead, as so:</li>\\n\"+\n",
       "     \"</ul>\\n\"+\n",
       "     \"<code>\\n\"+\n",
       "     \"from bokeh.resources import INLINE\\n\"+\n",
       "     \"output_notebook(resources=INLINE)\\n\"+\n",
       "     \"</code>\\n\"+\n",
       "     \"</div>\"}};\n",
       "\n",
       "  function display_loaded() {\n",
       "    if (window.Bokeh !== undefined) {\n",
       "      var el = document.getElementById(\"8eea5844-47a8-445e-b5c5-34bd17888cb4\");\n",
       "      el.textContent = \"BokehJS \" + Bokeh.version + \" successfully loaded.\";\n",
       "    } else if (Date.now() < window._bokeh_timeout) {\n",
       "      setTimeout(display_loaded, 100)\n",
       "    }\n",
       "  }\n",
       "\n",
       "  function run_callbacks() {\n",
       "    window._bokeh_onload_callbacks.forEach(function(callback) { callback() });\n",
       "    delete window._bokeh_onload_callbacks\n",
       "    console.info(\"Bokeh: all callbacks have finished\");\n",
       "  }\n",
       "\n",
       "  function load_libs(js_urls, callback) {\n",
       "    window._bokeh_onload_callbacks.push(callback);\n",
       "    if (window._bokeh_is_loading > 0) {\n",
       "      console.log(\"Bokeh: BokehJS is being loaded, scheduling callback at\", now());\n",
       "      return null;\n",
       "    }\n",
       "    if (js_urls == null || js_urls.length === 0) {\n",
       "      run_callbacks();\n",
       "      return null;\n",
       "    }\n",
       "    console.log(\"Bokeh: BokehJS not loaded, scheduling load and callback at\", now());\n",
       "    window._bokeh_is_loading = js_urls.length;\n",
       "    for (var i = 0; i < js_urls.length; i++) {\n",
       "      var url = js_urls[i];\n",
       "      var s = document.createElement('script');\n",
       "      s.src = url;\n",
       "      s.async = false;\n",
       "      s.onreadystatechange = s.onload = function() {\n",
       "        window._bokeh_is_loading--;\n",
       "        if (window._bokeh_is_loading === 0) {\n",
       "          console.log(\"Bokeh: all BokehJS libraries loaded\");\n",
       "          run_callbacks()\n",
       "        }\n",
       "      };\n",
       "      s.onerror = function() {\n",
       "        console.warn(\"failed to load library \" + url);\n",
       "      };\n",
       "      console.log(\"Bokeh: injecting script tag for BokehJS library: \", url);\n",
       "      document.getElementsByTagName(\"head\")[0].appendChild(s);\n",
       "    }\n",
       "  };var element = document.getElementById(\"8eea5844-47a8-445e-b5c5-34bd17888cb4\");\n",
       "  if (element == null) {\n",
       "    console.log(\"Bokeh: ERROR: autoload.js configured with elementid '8eea5844-47a8-445e-b5c5-34bd17888cb4' but no matching script tag was found. \")\n",
       "    return false;\n",
       "  }\n",
       "\n",
       "  var js_urls = [\"https://cdn.pydata.org/bokeh/release/bokeh-0.12.5.min.js\", \"https://cdn.pydata.org/bokeh/release/bokeh-widgets-0.12.5.min.js\"];\n",
       "\n",
       "  var inline_js = [\n",
       "    function(Bokeh) {\n",
       "      Bokeh.set_log_level(\"info\");\n",
       "    },\n",
       "    \n",
       "    function(Bokeh) {\n",
       "      \n",
       "    },\n",
       "    \n",
       "    function(Bokeh) {\n",
       "      \n",
       "      document.getElementById(\"8eea5844-47a8-445e-b5c5-34bd17888cb4\").textContent = \"BokehJS is loading...\";\n",
       "    },\n",
       "    function(Bokeh) {\n",
       "      console.log(\"Bokeh: injecting CSS: https://cdn.pydata.org/bokeh/release/bokeh-0.12.5.min.css\");\n",
       "      Bokeh.embed.inject_css(\"https://cdn.pydata.org/bokeh/release/bokeh-0.12.5.min.css\");\n",
       "      console.log(\"Bokeh: injecting CSS: https://cdn.pydata.org/bokeh/release/bokeh-widgets-0.12.5.min.css\");\n",
       "      Bokeh.embed.inject_css(\"https://cdn.pydata.org/bokeh/release/bokeh-widgets-0.12.5.min.css\");\n",
       "    }\n",
       "  ];\n",
       "\n",
       "  function run_inline_js() {\n",
       "    \n",
       "    if ((window.Bokeh !== undefined) || (force === true)) {\n",
       "      for (var i = 0; i < inline_js.length; i++) {\n",
       "        inline_js[i](window.Bokeh);\n",
       "      }if (force === true) {\n",
       "        display_loaded();\n",
       "      }} else if (Date.now() < window._bokeh_timeout) {\n",
       "      setTimeout(run_inline_js, 100);\n",
       "    } else if (!window._bokeh_failed_load) {\n",
       "      console.log(\"Bokeh: BokehJS failed to load within specified timeout.\");\n",
       "      window._bokeh_failed_load = true;\n",
       "    } else if (force !== true) {\n",
       "      var cell = $(document.getElementById(\"8eea5844-47a8-445e-b5c5-34bd17888cb4\")).parents('.cell').data().cell;\n",
       "      cell.output_area.append_execute_result(NB_LOAD_WARNING)\n",
       "    }\n",
       "\n",
       "  }\n",
       "\n",
       "  if (window._bokeh_is_loading === 0) {\n",
       "    console.log(\"Bokeh: BokehJS loaded, going straight to plotting\");\n",
       "    run_inline_js();\n",
       "  } else {\n",
       "    load_libs(js_urls, function() {\n",
       "      console.log(\"Bokeh: BokehJS plotting callback run at\", now());\n",
       "      run_inline_js();\n",
       "    });\n",
       "  }\n",
       "}(this));"
      ]
     },
     "metadata": {},
     "output_type": "display_data"
    },
    {
     "data": {
      "text/plain": [
       "(array([[ 10.00002789,   1.00004676],\n",
       "        [  0.        ,   4.9999655 ]]), array([[  9.99986163,   5.00030322],\n",
       "        [  0.        ,  11.98298173]]), array([[ 0.0019066 ,  0.00165399],\n",
       "        [ 0.        ,  0.01467551]]))"
      ]
     },
     "execution_count": 1,
     "metadata": {},
     "output_type": "execute_result"
    }
   ],
   "source": [
    "# Import the needed Packages\n",
    "# FMU Simulation\n",
    "import MoBASimulator as mb\n",
    "# Numpy\n",
    "import numpy as np\n",
    "# Bokeh for Plotting\n",
    "import bokeh.plotting as bk\n",
    "import bokeh.io as bi\n",
    "#from bokeh.io import export_svgs\n",
    "bi.output_notebook()\n",
    "import Algorithms as alg\n",
    "\n",
    "# Model Parameter\n",
    "k = [[10,0],[1,5]]\n",
    "t = [[10,1],[5,12]]\n",
    "l = [[0,0],[0,0]]\n",
    "\n",
    "# The needed Parameter\n",
    "K = np.zeros((2,2))\n",
    "T = np.zeros((2,2))\n",
    "L = np.zeros((2,2))\n",
    "\n",
    "\n",
    "# Get the parameter names\n",
    "params = {}\n",
    "for outputs in range(1,3):\n",
    "    for inputs in range(1,3):\n",
    "        params.update({\"fmu.K[\"+str(outputs)+\",\"+str(inputs)+\"]\": k[outputs-1][inputs-1]})\n",
    "        params.update({\"fmu.T[\"+str(outputs)+\",\"+str(inputs)+\"]\": t[outputs-1][inputs-1]})\n",
    "        params.update({\"fmu.L[\"+str(outputs)+\",\"+str(inputs)+\"]\": l[outputs-1][inputs-1]})\n",
    "\n",
    "# Load a Model\n",
    "sim = mb.Simulator()\n",
    "sim.loadModel(\"./Experiments/TITO/MIMO_0Study_TITO_0FOTD.fmu\")\n",
    "# Set Parameter\n",
    "sim.set(params)\n",
    "#sim.showParameterDialog()\n",
    "#sim.getParameterNames(), params.keys()\n",
    "\n",
    "# First run, Input 1 -> Output 1 & 2\n",
    "sim.set({\"fmu.u_1\":1,\"fmu.u_2\":0})\n",
    "# Set timestep = 1e-2, endtime = 100\n",
    "res=sim.simulate(0.01, 200)\n",
    "\n",
    "# Get the signals\n",
    "y = res[\"fmu.y_1\"]\n",
    "y2 = res[\"fmu.y_2\"]\n",
    "u = res[\"fmu.u_1\"]\n",
    "t = res[\"time\"]\n",
    "\n",
    "\n",
    "# Get TF from 1-> 1\n",
    "K[0][0],T[0][0],L[0][0] = alg.Integral_Identification(y,u,t)\n",
    "# Get TF from 1-> 2\n",
    "K[1][0],T[1][0],L[1][0] = alg.Integral_Identification(y2,u,t)\n",
    "\n",
    "# Second run, Input 2 -> Output 1 & 2\n",
    "# Reload the Model to set everything to zero\n",
    "sim.resetModelState()\n",
    "sim.set({\"fmu.u_1\":0, \"fmu.u_2\":1})\n",
    "# Set timestep = 1e-2, endtime = 100\n",
    "res=sim.simulate(0.01, 200)\n",
    "\n",
    "# Get the signals\n",
    "y = res[\"fmu.y_1\"]\n",
    "y2 = res[\"fmu.y_2\"]\n",
    "u = res[\"fmu.u_2\"]\n",
    "t = res[\"time\"]\n",
    "\n",
    "# Get TF from 2-> 1\n",
    "K[0][1],T[0][1],L[0][1] = alg.Integral_Identification(y,u,t)\n",
    "# Get TF from 2-> 2\n",
    "K[1][1],T[1][1],L[1][1] = alg.Integral_Identification(y2,u,t)\n",
    "\n",
    "K,T,L"
   ]
  },
  {
   "cell_type": "code",
   "execution_count": 10,
   "metadata": {},
   "outputs": [
    {
     "data": {
      "text/plain": [
       "(array([[[ 3.41691246,  2.85937075,  0.        ],\n",
       "         [ 0.        ,  0.        ,  0.        ]],\n",
       " \n",
       "        [[ 0.        ,  0.        ,  0.        ],\n",
       "         [ 8.22144069,  6.76026247,  0.        ]]]),\n",
       " array([[[ 0.        ,  2.85937075,  0.        ],\n",
       "         [ 0.        ,  0.        ,  0.        ]],\n",
       " \n",
       "        [[ 0.        ,  0.        ,  0.        ],\n",
       "         [ 0.        ,  6.76026247,  0.        ]]]))"
      ]
     },
     "execution_count": 10,
     "metadata": {},
     "output_type": "execute_result"
    }
   ],
   "source": [
    "# Make a decentralized Controller\n",
    "KY,KR = alg.Control_Decentral(K,T,L)\n",
    "#KY,KR = alg.Control_Astrom(K,T,L,0.1*np.eye(2,2))\n",
    "#KY,KR = alg.Control_Decoupled(K,T,L,0.1*np.eye(2,2))\n",
    "KY, KR"
   ]
  },
  {
   "cell_type": "code",
   "execution_count": 14,
   "metadata": {},
   "outputs": [
    {
     "data": {
      "text/plain": [
       "array([-0.82218022, -0.67605597,  0.        ])"
      ]
     },
     "execution_count": 14,
     "metadata": {},
     "output_type": "execute_result"
    }
   ],
   "source": [
    "KY,KR = alg.Control_Decoupled(K,T,L,0.1*np.eye(2,2))\n",
    "KY[0][1]"
   ]
  },
  {
   "cell_type": "code",
   "execution_count": 13,
   "metadata": {},
   "outputs": [
    {
     "data": {
      "text/plain": [
       "(array([[[ 3.52307768,  2.95860305,  0.        ],\n",
       "         [ 0.        , -0.13521213,  0.        ]],\n",
       " \n",
       "        [[-0.82218022, -0.67605597,  0.        ],\n",
       "         [ 8.22144069,  6.76026247,  0.        ]]]),\n",
       " array([[[ 0.        ,  2.94508124,  0.        ],\n",
       "         [ 0.        ,  0.        ,  0.        ]],\n",
       " \n",
       "        [[ 0.        , -0.67605597,  0.        ],\n",
       "         [ 0.        ,  6.76026247,  0.        ]]]))"
      ]
     },
     "execution_count": 13,
     "metadata": {},
     "output_type": "execute_result"
    }
   ],
   "source": [
    "KY,KR = alg.Control_Astrom(K,T,L,0.1*np.eye(2,2))\n",
    "KY,KR"
   ]
  },
  {
   "cell_type": "code",
   "execution_count": null,
   "metadata": {
    "collapsed": true
   },
   "outputs": [],
   "source": []
  }
 ],
 "metadata": {
  "anaconda-cloud": {},
  "kernelspec": {
   "display_name": "Python 3",
   "language": "python",
   "name": "python3"
  },
  "language_info": {
   "codemirror_mode": {
    "name": "ipython",
    "version": 3
   },
   "file_extension": ".py",
   "mimetype": "text/x-python",
   "name": "python",
   "nbconvert_exporter": "python",
   "pygments_lexer": "ipython3",
   "version": "3.6.0"
  }
 },
 "nbformat": 4,
 "nbformat_minor": 2
}
