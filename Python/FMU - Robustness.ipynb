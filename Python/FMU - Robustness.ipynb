{
 "cells": [
  {
   "cell_type": "code",
   "execution_count": 1,
   "metadata": {
    "collapsed": true
   },
   "outputs": [],
   "source": [
    "# Import the needed Packages\n",
    "# FMU Simulation\n",
    "import MoBASimulator as mb\n",
    "# Numpy\n",
    "import numpy as np\n",
    "# Bokeh for Plotting\n",
    "import bokeh.plotting as bk\n",
    "import bokeh.io as bi\n",
    "#from bokeh.io import export_svgs\n",
    "#bi.output_notebook()\n",
    "# Algorithms\n",
    "import Algorithms as alg\n",
    "\n",
    "\n",
    "# Model Parameter\n",
    "k = [[10.,.5],[5.,8.]]\n",
    "l = [[1e-10,1e-10],[1e-10,1e-10]]\n",
    "# Generate stable polynomial with roots between -1....-1/20 rad/s for denominator\n",
    "r = np.random.uniform(-1.0,-8.,(2,2,8))\n",
    "p = np.zeros((2,2,9))\n",
    "# Generate zeros between -1 and 1 for numerator\n",
    "m = np.random.uniform(-1., 1., (2,2,8))\n",
    "z = np.zeros((2,2,9))\n",
    "\n",
    "for outputs in range(0,2):\n",
    "    for inputs in range(0,2):\n",
    "        p[outputs,inputs,:] = np.polynomial.polynomial.polyfromroots(r[outputs,inputs,:])\n",
    "        z[outputs,inputs,:] = np.polynomial.polynomial.polyfromroots(m[outputs,inputs,:])\n",
    "       \n",
    "# The needed Parameter\n",
    "K = np.zeros((2,2))\n",
    "T = np.zeros((2,2))\n",
    "L = np.zeros((2,2))"
   ]
  },
  {
   "cell_type": "code",
   "execution_count": 2,
   "metadata": {},
   "outputs": [
    {
     "data": {
      "text/plain": [
       "(array([[ 10.00020981,   0.5000084 ],\n",
       "        [  5.00007084,   8.00000092]]), array([[ 17.50473164,  27.59193057],\n",
       "        [ 17.70618213,  13.21903119]]), array([[ 17.17413341,  12.4378887 ],\n",
       "        [ 27.72014279,  18.70239621]]))"
      ]
     },
     "execution_count": 2,
     "metadata": {},
     "output_type": "execute_result"
    }
   ],
   "source": [
    "# Load a Model\n",
    "sim = mb.Simulator()\n",
    "sim.clear()\n",
    "sim.loadModel(\"C:/Users/juliu/Documents/Thesis/Modelica/FMU/2_2_n9/Masterthesis_Models_mimo_0processmodel.fmu\")\n",
    "sim.setOperationMode('FMU for ModelExchange')\n",
    "\n",
    "# Show log window\n",
    "sim.showLogWindow()\n",
    "\n",
    "\n",
    "# Parameter Values\n",
    "params = {}\n",
    "# Loop over system size\n",
    "for outputs in range(1,3):\n",
    "    for inputs in range(1,3):\n",
    "        # Process Parameter \n",
    "        # System Lag\n",
    "        for order in range(0,9):\n",
    "            params.update({\"fmu.den[\"+str(outputs)+\",\"+str(inputs)+\",\"+str(order+1)+\"]\": p[outputs-1][inputs-1][order]})\n",
    "            # System Gain\n",
    "        params.update({\"fmu.num[\"+str(outputs)+\",\"+str(inputs)+\",1]\": k[outputs-1][inputs-1]})\n",
    "        #params.update({\"fmu.num[\"+str(outputs)+\",\"+str(inputs)+\",\"+str(order+1)+\"]\": k[outputs-1][inputs-1]*z[outputs-1][inputs-1][order]})\n",
    "        # System Delay\n",
    "        params.update({\"fmu.delay[\"+str(outputs)+\",\"+str(inputs)+\"]\": l[outputs-1][inputs-1]})\n",
    "\n",
    "# Set Parameter and show for checking\n",
    "sim.set(params)\n",
    "sim.showParameterDialog()\n",
    "# Get the state space representation\n",
    "ss = sim.analyser_getStateSpaceForm()\n",
    "\n",
    "# Identify\n",
    "\n",
    "# First run, Input 1 -> Output 1 & 2\n",
    "sim.set({\"fmu.u[1]\": 1,\"fmu.u[2]\": 0})\n",
    "# Set timestep = 1e-2, endtime = 100\n",
    "res=sim.simulate(0.01, 500)\n",
    "\n",
    "# Get the signals\n",
    "y = res[\"fmu.y[1]\"]\n",
    "y2 = res[\"fmu.y[2]\"]\n",
    "u = res[\"fmu.u[1]\"]\n",
    "time = res[\"time\"]\n",
    "\n",
    "# Get TF from Input 1 to Output 1\n",
    "K[0][0],T[0][0],L[0][0]=alg.Integral_Identification(y,u,time)\n",
    "# Get TF from Input 1 to Output 2\n",
    "K[1][0],T[1][0],L[1][0]=alg.Integral_Identification(y2,u,time)\n",
    "\n",
    "\n",
    "# Second run, Input 2 -> Output 1 & 2\n",
    "# Reload the Model to set everything to zero\n",
    "sim.resetModelState()\n",
    "sim.set({\"fmu.u[1]\":0, \"fmu.u[2]\":1})\n",
    "# Set timestep = 1e-2, endtime = 100\n",
    "res=sim.simulate(0.01, 500)\n",
    "\n",
    "# Get the signals\n",
    "y = res[\"fmu.y[1]\"]\n",
    "y2 = res[\"fmu.y[2]\"]\n",
    "u = res[\"fmu.u[2]\"]\n",
    "time = res[\"time\"]\n",
    "\n",
    "# Get TF from Input 2 to Output 1\n",
    "K[0][1],T[0][1],L[0][1] = alg.Integral_Identification(y,u,time)\n",
    "# Get TF from Input 2 to Output 2\n",
    "K[1][1],T[1][1],L[1][1] = alg.Integral_Identification(y2,u,time)\n",
    "K,T,L"
   ]
  },
  {
   "cell_type": "code",
   "execution_count": 3,
   "metadata": {
    "collapsed": true
   },
   "outputs": [],
   "source": [
    "# Make a controller\n",
    "#KY,B,D = alg.Control_Decentral(K,T,L)\n",
    "#KY,B,D = alg.Control_Astrom(K,T,L,0.01*np.eye(2,2))\n",
    "KY,B,D = alg.Control_Decoupled(K,T,L,0.01*np.eye(2,2))"
   ]
  },
  {
   "cell_type": "code",
   "execution_count": 4,
   "metadata": {
    "collapsed": true,
    "scrolled": true
   },
   "outputs": [],
   "source": [
    "# Make KPR,KPY, KIR and KIY\n",
    "KPR = np.zeros((2,2))\n",
    "KPY = np.zeros((2,2))\n",
    "KIR = np.zeros((2,2))\n",
    "KIY = np.zeros((2,2))\n",
    "# Fill with values\n",
    "for outputs in range(0,2):\n",
    "    for inputs in range(0,2):\n",
    "        # Proportional Controller\n",
    "        KPY[outputs,inputs] = KY[outputs,inputs,0]\n",
    "        # Intergral Controller\n",
    "        KIY[outputs,inputs] = KY[outputs,inputs,1]\n",
    "\n",
    "# Implement Set-point Weight\n",
    "KPR = np.dot(B,KPY)\n",
    "KIR = KIY"
   ]
  },
  {
   "cell_type": "code",
   "execution_count": 5,
   "metadata": {
    "collapsed": true
   },
   "outputs": [],
   "source": [
    "# Store the Matrices\n",
    "A = ss['A']\n",
    "B = ss['B']\n",
    "C = ss['C']\n",
    "DSys = ss['D'] # Name different since decoupler D\n",
    "I = np.eye(A.shape[0])\n",
    "# Array for singular values\n",
    "sv = np.zeros((2,1000))\n",
    "counter = 0\n",
    "\n",
    "# Frequency Spectrum\n",
    "omega = np.logspace(-3,2,1e4)\n",
    "# Singular Value Storage for sensitivity\n",
    "sv_s = np.zeros((2,omega.shape[0]))\n",
    "# Singular Value Storage for complementary sensitivity\n",
    "sv_t = np.zeros((2,omega.shape[0]))\n",
    "\n",
    "# Counter for storage\n",
    "counter = 0\n",
    "for freq in omega:\n",
    "    G = np.dot(np.dot(C,np.linalg.inv(freq*1j*I-A)),B)+DSys\n",
    "    S = np.linalg.inv(np.eye(2,2)-np.dot(G,np.add(KPY,1/(freq*1j)*KIY)))\n",
    "    u,sv_s[:,counter],w = np.linalg.svd(np.abs(S))\n",
    "    T = np.dot(S,np.dot(G, np.add(KPR,1/(freq*1j)*KIR) ))\n",
    "    u,sv_t[:,counter],w = np.linalg.svd(np.abs(T))\n",
    "    counter = counter +1\n",
    "\n",
    "\n",
    "# Make Transfer function Matrix for frequency\n",
    "p = bk.figure(title = \"Singular values - Sensitivity Transfer Function\", y_axis_type = \"log\",  x_axis_type = \"log\")\n",
    "p.line(omega,sv_s[0,:], color = \"blue\")\n",
    "p.line(omega,sv_s[1,:], color = \"red\")\n",
    "bk.show(p)\n",
    "\n",
    "p = bk.figure(title = \"Singular values - Complementary Sensitivity Transfer Function\", y_axis_type = \"log\",  x_axis_type = \"log\")\n",
    "p.line(omega,sv_t[0,:], color = \"blue\")\n",
    "p.line(omega,sv_t[1,:], color = \"red\")\n",
    "bk.show(p)"
   ]
  },
  {
   "cell_type": "code",
   "execution_count": 1,
   "metadata": {
    "collapsed": true
   },
   "outputs": [],
   "source": [
    "## Get the polynomial for varying degree\n",
    "import numpy as np"
   ]
  },
  {
   "cell_type": "code",
   "execution_count": 2,
   "metadata": {},
   "outputs": [
    {
     "data": {
      "text/plain": [
       "(array([[[[ 0.69786948,  0.09680628,  0.92157762],\n",
       "          [ 0.10980211,  0.33135293,  0.30813189]],\n",
       " \n",
       "         [[ 0.30246551,  0.80381918,  0.08090925],\n",
       "          [ 0.45723474,  0.29674984,  0.93361897]]]]),\n",
       " array([ 0.69786948,  0.09680628,  0.92157762]))"
      ]
     },
     "execution_count": 2,
     "metadata": {},
     "output_type": "execute_result"
    }
   ],
   "source": [
    "# Make Sample, Output, Input, Order-1\n",
    "den = np.random.uniform(0,1,(1,2,2,3))\n",
    "# First Sample, First Output, First Input, all\n",
    "den, den[0,0,0,:]"
   ]
  },
  {
   "cell_type": "code",
   "execution_count": 7,
   "metadata": {},
   "outputs": [
    {
     "data": {
      "text/plain": [
       "array([ 0.06755815, -0.79467577,  1.        ])"
      ]
     },
     "execution_count": 7,
     "metadata": {},
     "output_type": "execute_result"
    }
   ],
   "source": [
    "# Make a Polynomial of degree 2\n",
    "p = np.polynomial.polynomial.polyfromroots(den[0,0,0,:2])\n",
    "p"
   ]
  },
  {
   "cell_type": "code",
   "execution_count": 22,
   "metadata": {},
   "outputs": [
    {
     "data": {
      "text/plain": [
       "array([[[[ 0.        ,  0.06755815, -0.79467577,  1.        ],\n",
       "         [ 0.        ,  0.        ,  0.        ,  0.        ]],\n",
       "\n",
       "        [[ 0.        ,  0.        ,  0.        ,  0.        ],\n",
       "         [ 0.        ,  0.        ,  0.        ,  0.        ]]]])"
      ]
     },
     "execution_count": 22,
     "metadata": {},
     "output_type": "execute_result"
    }
   ],
   "source": [
    "# Store the polynomial in numpy array\n",
    "den = np.zeros((1,2,2,4))\n",
    "#den[0,0,0,:] = np.array([1,2,3,4])\n",
    "den[0,0,0,-3:] = p\n",
    "den"
   ]
  },
  {
   "cell_type": "code",
   "execution_count": 23,
   "metadata": {
    "collapsed": true
   },
   "outputs": [],
   "source": [
    "# Compute with a loop\n",
    "sample_size = 1\n",
    "inputs_n = 2\n",
    "outputs_n = 2\n",
    "max_order = 4\n",
    "# Compute the roots\n",
    "p =  np.random.uniform(0.1,1,(sample_size,inputs_n,outputs_n,max_order-1))\n",
    "den = np.zeros((sample_size,inputs_n,outputs_n,max_order))\n",
    "for samples in range(0,sample_size):\n",
    "    for inputs in range(0,inputs_n):\n",
    "        for outputs in range(0,outputs_n):\n",
    "            den[samples, inputs, outputs,-max_order:] = np.polynomial.polynomial.polyfromroots(p[samples, inputs, outputs, :])\n",
    "            "
   ]
  },
  {
   "cell_type": "code",
   "execution_count": 24,
   "metadata": {},
   "outputs": [
    {
     "data": {
      "text/plain": [
       "array([[[[-0.01757646,  0.27118773, -1.12214357,  1.        ],\n",
       "         [-0.05473747,  0.47977377, -1.27132907,  1.        ]],\n",
       "\n",
       "        [[-0.68698912,  2.35045042, -2.6630108 ,  1.        ],\n",
       "         [-0.30967122,  1.42917662, -2.10947376,  1.        ]]]])"
      ]
     },
     "execution_count": 24,
     "metadata": {},
     "output_type": "execute_result"
    }
   ],
   "source": [
    "den"
   ]
  },
  {
   "cell_type": "code",
   "execution_count": 34,
   "metadata": {},
   "outputs": [
    {
     "name": "stdout",
     "output_type": "stream",
     "text": [
      "1\n",
      "1\n",
      "1\n",
      "2\n",
      "2\n",
      "2\n",
      "3\n",
      "3\n",
      "3\n",
      "4\n",
      "4\n",
      "4\n"
     ]
    }
   ],
   "source": [
    "# Implement variable order\n",
    "sample_size = 12\n",
    "inputs_n = 2\n",
    "outputs_n = 2\n",
    "max_order = 4\n",
    "# Compute the roots\n",
    "p =  np.random.uniform(0.1,1,(sample_size,inputs_n,outputs_n,max_order))\n",
    "den = np.zeros((sample_size,inputs_n,outputs_n,max_order+1))\n",
    "for samples in range(0,sample_size):\n",
    "    order = int(1.0*samples/sample_size * max_order)+1\n",
    "    print(order)\n",
    "    for inputs in range(0,inputs_n):\n",
    "        for outputs in range(0,outputs_n):\n",
    "            den[samples, inputs, outputs,-(order+1):] = np.polynomial.polynomial.polyfromroots(p[samples, inputs, outputs, :order])"
   ]
  },
  {
   "cell_type": "code",
   "execution_count": 35,
   "metadata": {},
   "outputs": [
    {
     "data": {
      "text/plain": [
       "array([[[[ 0.        ,  0.        ,  0.        , -0.87960294,  1.        ],\n",
       "         [ 0.        ,  0.        ,  0.        , -0.71362679,  1.        ]],\n",
       "\n",
       "        [[ 0.        ,  0.        ,  0.        , -0.24675297,  1.        ],\n",
       "         [ 0.        ,  0.        ,  0.        , -0.96429017,  1.        ]]],\n",
       "\n",
       "\n",
       "       [[[ 0.        ,  0.        ,  0.        , -0.60008705,  1.        ],\n",
       "         [ 0.        ,  0.        ,  0.        , -0.81408126,  1.        ]],\n",
       "\n",
       "        [[ 0.        ,  0.        ,  0.        , -0.52536625,  1.        ],\n",
       "         [ 0.        ,  0.        ,  0.        , -0.49137219,  1.        ]]],\n",
       "\n",
       "\n",
       "       [[[ 0.        ,  0.        ,  0.        , -0.8141254 ,  1.        ],\n",
       "         [ 0.        ,  0.        ,  0.        , -0.68340358,  1.        ]],\n",
       "\n",
       "        [[ 0.        ,  0.        ,  0.        , -0.64486844,  1.        ],\n",
       "         [ 0.        ,  0.        ,  0.        , -0.71859739,  1.        ]]],\n",
       "\n",
       "\n",
       "       [[[ 0.        ,  0.        ,  0.44825607, -1.36179968,  1.        ],\n",
       "         [ 0.        ,  0.        ,  0.13892852, -0.88677985,  1.        ]],\n",
       "\n",
       "        [[ 0.        ,  0.        ,  0.29490757, -1.08761723,  1.        ],\n",
       "         [ 0.        ,  0.        ,  0.03422854, -0.37048381,  1.        ]]],\n",
       "\n",
       "\n",
       "       [[[ 0.        ,  0.        ,  0.20034152, -0.9055747 ,  1.        ],\n",
       "         [ 0.        ,  0.        ,  0.23046813, -1.08127466,  1.        ]],\n",
       "\n",
       "        [[ 0.        ,  0.        ,  0.32894228, -1.14799752,  1.        ],\n",
       "         [ 0.        ,  0.        ,  0.10786599, -0.71385445,  1.        ]]],\n",
       "\n",
       "\n",
       "       [[[ 0.        ,  0.        ,  0.30437009, -1.11335157,  1.        ],\n",
       "         [ 0.        ,  0.        ,  0.90184277, -1.90148363,  1.        ]],\n",
       "\n",
       "        [[ 0.        ,  0.        ,  0.20067299, -1.13823707,  1.        ],\n",
       "         [ 0.        ,  0.        ,  0.08589991, -0.70139025,  1.        ]]],\n",
       "\n",
       "\n",
       "       [[[ 0.        , -0.08427146,  0.66244377, -1.4723223 ,  1.        ],\n",
       "         [ 0.        , -0.11948523,  0.72824993, -1.47857016,  1.        ]],\n",
       "\n",
       "        [[ 0.        , -0.53438622,  1.98596545, -2.44672973,  1.        ],\n",
       "         [ 0.        , -0.066211  ,  0.51570047, -1.2754143 ,  1.        ]]],\n",
       "\n",
       "\n",
       "       [[[ 0.        , -0.45562653,  1.79565656, -2.33286979,  1.        ],\n",
       "         [ 0.        , -0.48436929,  1.91740078, -2.43162653,  1.        ]],\n",
       "\n",
       "        [[ 0.        , -0.3714149 ,  1.69964048, -2.3278365 ,  1.        ],\n",
       "         [ 0.        , -0.23192236,  1.25084039, -2.00167299,  1.        ]]],\n",
       "\n",
       "\n",
       "       [[[ 0.        , -0.053603  ,  0.44234736, -1.16858866,  1.        ],\n",
       "         [ 0.        , -0.35624344,  1.58240902, -2.22461272,  1.        ]],\n",
       "\n",
       "        [[ 0.        , -0.15025324,  0.90422883, -1.6972666 ,  1.        ],\n",
       "         [ 0.        , -0.11317622,  0.74474979, -1.54860223,  1.        ]]],\n",
       "\n",
       "\n",
       "       [[[ 0.093818  , -0.70869176,  1.96077565, -2.33731589,  1.        ],\n",
       "         [ 0.0992302 , -0.75486148,  2.06984488, -2.4138752 ,  1.        ]],\n",
       "\n",
       "        [[ 0.20659764, -1.30752765,  2.94876266, -2.84671453,  1.        ],\n",
       "         [ 0.13208605, -0.90797058,  2.28330386, -2.49491723,  1.        ]]],\n",
       "\n",
       "\n",
       "       [[[ 0.08569782, -0.71656234,  2.04157723, -2.40569744,  1.        ],\n",
       "         [ 0.0416355 , -0.43498734,  1.49622775, -2.07767035,  1.        ]],\n",
       "\n",
       "        [[ 0.08621111, -0.6598104 ,  1.84108065, -2.23476358,  1.        ],\n",
       "         [ 0.05689396, -0.49592639,  1.54522167, -2.06073513,  1.        ]]],\n",
       "\n",
       "\n",
       "       [[[ 0.05614889, -0.50210157,  1.60826633, -2.15608576,  1.        ],\n",
       "         [ 0.32020182, -1.708949  ,  3.41177107, -3.01989106,  1.        ]],\n",
       "\n",
       "        [[ 0.01024431, -0.17957354,  0.94460718, -1.76980941,  1.        ],\n",
       "         [ 0.07855138, -0.74489199,  2.20581053, -2.53901804,  1.        ]]]])"
      ]
     },
     "execution_count": 35,
     "metadata": {},
     "output_type": "execute_result"
    }
   ],
   "source": [
    "den"
   ]
  },
  {
   "cell_type": "code",
   "execution_count": null,
   "metadata": {
    "collapsed": true
   },
   "outputs": [],
   "source": []
  }
 ],
 "metadata": {
  "anaconda-cloud": {},
  "kernelspec": {
   "display_name": "Python 2",
   "language": "python",
   "name": "python2"
  },
  "language_info": {
   "codemirror_mode": {
    "name": "ipython",
    "version": 2
   },
   "file_extension": ".py",
   "mimetype": "text/x-python",
   "name": "python",
   "nbconvert_exporter": "python",
   "pygments_lexer": "ipython2",
   "version": "2.7.13"
  }
 },
 "nbformat": 4,
 "nbformat_minor": 2
}
