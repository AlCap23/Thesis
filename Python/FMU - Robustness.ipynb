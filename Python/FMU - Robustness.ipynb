{
 "cells": [
  {
   "cell_type": "code",
   "execution_count": null,
   "metadata": {
    "collapsed": true
   },
   "outputs": [],
   "source": [
    "# Import the needed Packages\n",
    "# FMU Simulation\n",
    "import MoBASimulator as mb\n",
    "# Numpy\n",
    "import numpy as np\n",
    "# Bokeh for Plotting\n",
    "import bokeh.plotting as bk\n",
    "import bokeh.io as bi\n",
    "#from bokeh.io import export_svgs\n",
    "#bi.output_notebook()\n",
    "# Algorithms\n",
    "import Algorithms as alg\n",
    "\n",
    "\n",
    "# Model Parameter\n",
    "k = [[10.,.5],[5.,8.]]\n",
    "l = [[1e-10,1e-10],[1e-10,1e-10]]\n",
    "# Generate stable polynomial with roots between -1....-1/20 rad/s for denominator\n",
    "r = np.random.uniform(-1.0,-8.,(2,2,8))\n",
    "p = np.zeros((2,2,9))\n",
    "# Generate zeros between -1 and 1 for numerator\n",
    "m = np.random.uniform(-1., 1., (2,2,8))\n",
    "z = np.zeros((2,2,9))\n",
    "\n",
    "for outputs in range(0,2):\n",
    "    for inputs in range(0,2):\n",
    "        p[outputs,inputs,:] = np.polynomial.polynomial.polyfromroots(r[outputs,inputs,:])\n",
    "        z[outputs,inputs,:] = np.polynomial.polynomial.polyfromroots(m[outputs,inputs,:])\n",
    "       \n",
    "# The needed Parameter\n",
    "K = np.zeros((2,2))\n",
    "T = np.zeros((2,2))\n",
    "L = np.zeros((2,2))"
   ]
  },
  {
   "cell_type": "code",
   "execution_count": null,
   "metadata": {},
   "outputs": [],
   "source": [
    "# Load a Model\n",
    "sim = mb.Simulator()\n",
    "sim.clear()\n",
    "sim.loadModel(\"C:/Users/juliu/Documents/Thesis/Modelica/FMU/2_2_n9/Masterthesis_Models_mimo_0processmodel.fmu\")\n",
    "sim.setOperationMode('FMU for ModelExchange')\n",
    "\n",
    "# Show log window\n",
    "sim.showLogWindow()\n",
    "\n",
    "\n",
    "# Parameter Values\n",
    "params = {}\n",
    "# Loop over system size\n",
    "for outputs in range(1,3):\n",
    "    for inputs in range(1,3):\n",
    "        # Process Parameter \n",
    "        # System Lag\n",
    "        for order in range(0,9):\n",
    "            params.update({\"fmu.den[\"+str(outputs)+\",\"+str(inputs)+\",\"+str(order+1)+\"]\": p[outputs-1][inputs-1][order]})\n",
    "            # System Gain\n",
    "        params.update({\"fmu.num[\"+str(outputs)+\",\"+str(inputs)+\",1]\": k[outputs-1][inputs-1]})\n",
    "        #params.update({\"fmu.num[\"+str(outputs)+\",\"+str(inputs)+\",\"+str(order+1)+\"]\": k[outputs-1][inputs-1]*z[outputs-1][inputs-1][order]})\n",
    "        # System Delay\n",
    "        params.update({\"fmu.delay[\"+str(outputs)+\",\"+str(inputs)+\"]\": l[outputs-1][inputs-1]})\n",
    "\n",
    "# Set Parameter and show for checking\n",
    "sim.set(params)\n",
    "sim.showParameterDialog()\n",
    "# Get the state space representation\n",
    "ss = sim.analyser_getStateSpaceForm()\n",
    "\n",
    "# Identify\n",
    "\n",
    "# First run, Input 1 -> Output 1 & 2\n",
    "sim.set({\"fmu.u[1]\": 1,\"fmu.u[2]\": 0})\n",
    "# Set timestep = 1e-2, endtime = 100\n",
    "res=sim.simulate(0.01, 500)\n",
    "\n",
    "# Get the signals\n",
    "y = res[\"fmu.y[1]\"]\n",
    "y2 = res[\"fmu.y[2]\"]\n",
    "u = res[\"fmu.u[1]\"]\n",
    "time = res[\"time\"]\n",
    "\n",
    "# Get TF from Input 1 to Output 1\n",
    "K[0][0],T[0][0],L[0][0]=alg.Integral_Identification(y,u,time)\n",
    "# Get TF from Input 1 to Output 2\n",
    "K[1][0],T[1][0],L[1][0]=alg.Integral_Identification(y2,u,time)\n",
    "\n",
    "\n",
    "# Second run, Input 2 -> Output 1 & 2\n",
    "# Reload the Model to set everything to zero\n",
    "sim.resetModelState()\n",
    "sim.set({\"fmu.u[1]\":0, \"fmu.u[2]\":1})\n",
    "# Set timestep = 1e-2, endtime = 100\n",
    "res=sim.simulate(0.01, 500)\n",
    "\n",
    "# Get the signals\n",
    "y = res[\"fmu.y[1]\"]\n",
    "y2 = res[\"fmu.y[2]\"]\n",
    "u = res[\"fmu.u[2]\"]\n",
    "time = res[\"time\"]\n",
    "\n",
    "# Get TF from Input 2 to Output 1\n",
    "K[0][1],T[0][1],L[0][1] = alg.Integral_Identification(y,u,time)\n",
    "# Get TF from Input 2 to Output 2\n",
    "K[1][1],T[1][1],L[1][1] = alg.Integral_Identification(y2,u,time)\n",
    "K,T,L"
   ]
  },
  {
   "cell_type": "code",
   "execution_count": null,
   "metadata": {
    "collapsed": true
   },
   "outputs": [],
   "source": [
    "# Make a controller\n",
    "#KY,B,D = alg.Control_Decentral(K,T,L)\n",
    "#KY,B,D = alg.Control_Astrom(K,T,L,0.01*np.eye(2,2))\n",
    "KY,B,D = alg.Control_Decoupled(K,T,L,0.01*np.eye(2,2))"
   ]
  },
  {
   "cell_type": "code",
   "execution_count": null,
   "metadata": {
    "collapsed": true,
    "scrolled": true
   },
   "outputs": [],
   "source": [
    "# Make KPR,KPY, KIR and KIY\n",
    "KPR = np.zeros((2,2))\n",
    "KPY = np.zeros((2,2))\n",
    "KIR = np.zeros((2,2))\n",
    "KIY = np.zeros((2,2))\n",
    "# Fill with values\n",
    "for outputs in range(0,2):\n",
    "    for inputs in range(0,2):\n",
    "        # Proportional Controller\n",
    "        KPY[outputs,inputs] = KY[outputs,inputs,0]\n",
    "        # Intergral Controller\n",
    "        KIY[outputs,inputs] = KY[outputs,inputs,1]\n",
    "\n",
    "# Implement Set-point Weight\n",
    "KPR = np.dot(B,KPY)\n",
    "KIR = KIY"
   ]
  },
  {
   "cell_type": "code",
   "execution_count": null,
   "metadata": {
    "collapsed": true
   },
   "outputs": [],
   "source": [
    "# Store the Matrices\n",
    "A = ss['A']\n",
    "B = ss['B']\n",
    "C = ss['C']\n",
    "DSys = ss['D'] # Name different since decoupler D\n",
    "I = np.eye(A.shape[0])\n",
    "# Array for singular values\n",
    "sv = np.zeros((2,1000))\n",
    "counter = 0\n",
    "\n",
    "# Frequency Spectrum\n",
    "omega = np.logspace(-3,2,1e4)\n",
    "# Singular Value Storage for sensitivity\n",
    "sv_s = np.zeros((2,omega.shape[0]))\n",
    "# Singular Value Storage for complementary sensitivity\n",
    "sv_t = np.zeros((2,omega.shape[0]))\n",
    "\n",
    "# Counter for storage\n",
    "counter = 0\n",
    "for freq in omega:\n",
    "    G = np.dot(np.dot(C,np.linalg.inv(freq*1j*I-A)),B)+DSys\n",
    "    S = np.linalg.inv(np.eye(2,2)-np.dot(G,np.add(KPY,1/(freq*1j)*KIY)))\n",
    "    u,sv_s[:,counter],w = np.linalg.svd(np.abs(S))\n",
    "    T = np.dot(S,np.dot(G, np.add(KPR,1/(freq*1j)*KIR) ))\n",
    "    u,sv_t[:,counter],w = np.linalg.svd(np.abs(T))\n",
    "    counter = counter +1\n",
    "\n",
    "\n",
    "# Make Transfer function Matrix for frequency\n",
    "p = bk.figure(title = \"Singular values - Sensitivity Transfer Function\", y_axis_type = \"log\",  x_axis_type = \"log\")\n",
    "p.line(omega,sv_s[0,:], color = \"blue\")\n",
    "p.line(omega,sv_s[1,:], color = \"red\")\n",
    "bk.show(p)\n",
    "\n",
    "p = bk.figure(title = \"Singular values - Complementary Sensitivity Transfer Function\", y_axis_type = \"log\",  x_axis_type = \"log\")\n",
    "p.line(omega,sv_t[0,:], color = \"blue\")\n",
    "p.line(omega,sv_t[1,:], color = \"red\")\n",
    "bk.show(p)"
   ]
  },
  {
   "cell_type": "code",
   "execution_count": 87,
   "metadata": {},
   "outputs": [
    {
     "name": "stdout",
     "output_type": "stream",
     "text": [
      "[ 0.78090377  0.73939956  0.83696655  0.31338009  0.77566865]\n",
      "[ 0.31338009  0.73939956  0.77566865  0.78090377  0.83696655]\n",
      "[  9.09318389  21.45476504  22.50716604  22.65907052  24.28581452]\n",
      "[  1.00000000e+00   2.86321206e-01   3.10481059e-02   1.62378836e-03\n",
      "   4.13851643e-05   4.13851643e-07]\n",
      "[-0.10997248 -0.04660969 -0.04443029 -0.04413244 -0.0411763 ]\n"
     ]
    },
    {
     "data": {
      "text/plain": [
       "[<matplotlib.lines.Line2D at 0x1e4b3443c50>]"
      ]
     },
     "execution_count": 87,
     "metadata": {},
     "output_type": "execute_result"
    },
    {
     "data": {
      "image/png": "[encoded data removed]",
      "text/plain": [
       "<matplotlib.figure.Figure at 0x1e4b32b9e48>"
      ]
     },
     "metadata": {},
     "output_type": "display_data"
    }
   ],
   "source": [
    "## Get the polynomial for varying degree\n",
    "import numpy as np\n",
    "\n",
    "# Make Sample, Output, Input, Order-1\n",
    "den = np.random.uniform(0.1,1,(5))\n",
    "print(den)\n",
    "# Get the distance\n",
    "dist = np.sort(den)\n",
    "print(dist)\n",
    "dist =100.*dist/np.sum(dist)\n",
    "print(dist)\n",
    "den = np.polynomial.polynomial.polyfromroots(-1. /dist)\n",
    "den = den[::-1]\n",
    "print(den)\n",
    "print(np.roots(den))\n",
    "import control as cn\n",
    "tf = cn.tf(den[:-1]/100.,den)\n",
    "y, t = cn.matlab.step(tf, T=np.linspace(0,800,1500))\n",
    "\n",
    "import pylab as p\n",
    "% matplotlib inline\n",
    "\n",
    "p.plot(t,y)"
   ]
  },
  {
   "cell_type": "code",
   "execution_count": 52,
   "metadata": {},
   "outputs": [
    {
     "ename": "IndexError",
     "evalue": "too many indices for array",
     "output_type": "error",
     "traceback": [
      "\u001b[0;31m---------------------------------------------------------------------------\u001b[0m",
      "\u001b[0;31mIndexError\u001b[0m                                Traceback (most recent call last)",
      "\u001b[0;32m<ipython-input-52-03ba27547a9c>\u001b[0m in \u001b[0;36m<module>\u001b[0;34m()\u001b[0m\n\u001b[1;32m      1\u001b[0m \u001b[1;31m# Make a Polynomial of degree 2\u001b[0m\u001b[1;33m\u001b[0m\u001b[1;33m\u001b[0m\u001b[0m\n\u001b[0;32m----> 2\u001b[0;31m \u001b[0mp\u001b[0m \u001b[1;33m=\u001b[0m \u001b[0mnp\u001b[0m\u001b[1;33m.\u001b[0m\u001b[0mpolynomial\u001b[0m\u001b[1;33m.\u001b[0m\u001b[0mpolynomial\u001b[0m\u001b[1;33m.\u001b[0m\u001b[0mpolyfromroots\u001b[0m\u001b[1;33m(\u001b[0m\u001b[0mden\u001b[0m\u001b[1;33m[\u001b[0m\u001b[1;36m0\u001b[0m\u001b[1;33m,\u001b[0m\u001b[1;36m0\u001b[0m\u001b[1;33m,\u001b[0m\u001b[1;36m0\u001b[0m\u001b[1;33m,\u001b[0m\u001b[1;33m:\u001b[0m\u001b[1;36m2\u001b[0m\u001b[1;33m]\u001b[0m\u001b[1;33m)\u001b[0m\u001b[1;33m\u001b[0m\u001b[0m\n\u001b[0m\u001b[1;32m      3\u001b[0m \u001b[0mp\u001b[0m\u001b[1;33m\u001b[0m\u001b[0m\n",
      "\u001b[0;31mIndexError\u001b[0m: too many indices for array"
     ]
    }
   ],
   "source": [
    "# Make a Polynomial of degree 2\n",
    "p = np.polynomial.polynomial.polyfromroots(den[0,0,0,:2])\n",
    "p"
   ]
  },
  {
   "cell_type": "code",
   "execution_count": null,
   "metadata": {},
   "outputs": [],
   "source": [
    "# Store the polynomial in numpy array\n",
    "den = np.zeros((1,2,2,4))\n",
    "#den[0,0,0,:] = np.array([1,2,3,4])\n",
    "den[0,0,0,-3:] = p\n",
    "den"
   ]
  },
  {
   "cell_type": "code",
   "execution_count": null,
   "metadata": {
    "collapsed": true
   },
   "outputs": [],
   "source": [
    "# Compute with a loop\n",
    "sample_size = 1\n",
    "inputs_n = 2\n",
    "outputs_n = 2\n",
    "max_order = 4\n",
    "# Compute the roots\n",
    "p =  np.random.uniform(0.1,1,(sample_size,inputs_n,outputs_n,max_order-1))\n",
    "den = np.zeros((sample_size,inputs_n,outputs_n,max_order))\n",
    "for samples in range(0,sample_size):\n",
    "    for inputs in range(0,inputs_n):\n",
    "        for outputs in range(0,outputs_n):\n",
    "            den[samples, inputs, outputs,-max_order:] = np.polynomial.polynomial.polyfromroots(p[samples, inputs, outputs, :])\n",
    "            "
   ]
  },
  {
   "cell_type": "code",
   "execution_count": null,
   "metadata": {},
   "outputs": [],
   "source": [
    "den"
   ]
  },
  {
   "cell_type": "code",
   "execution_count": null,
   "metadata": {},
   "outputs": [],
   "source": [
    "# Implement variable order\n",
    "sample_size = 12\n",
    "inputs_n = 2\n",
    "outputs_n = 2\n",
    "max_order = 4\n",
    "# Compute the roots\n",
    "p =  np.random.uniform(0.1,1,(sample_size,inputs_n,outputs_n,max_order))\n",
    "den = np.zeros((sample_size,inputs_n,outputs_n,max_order+1))\n",
    "for samples in range(0,sample_size):\n",
    "    order = int(1.0*samples/sample_size * max_order)+1\n",
    "    print(order)\n",
    "    for inputs in range(0,inputs_n):\n",
    "        for outputs in range(0,outputs_n):\n",
    "            den[samples, inputs, outputs,-(order+1):] = np.polynomial.polynomial.polyfromroots(p[samples, inputs, outputs, :order])"
   ]
  },
  {
   "cell_type": "code",
   "execution_count": null,
   "metadata": {},
   "outputs": [],
   "source": [
    "den"
   ]
  },
  {
   "cell_type": "code",
   "execution_count": null,
   "metadata": {
    "collapsed": true
   },
   "outputs": [],
   "source": []
  }
 ],
 "metadata": {
  "anaconda-cloud": {},
  "kernelspec": {
   "display_name": "Python 3",
   "language": "python",
   "name": "python3"
  },
  "language_info": {
   "codemirror_mode": {
    "name": "ipython",
    "version": 3
   },
   "file_extension": ".py",
   "mimetype": "text/x-python",
   "name": "python",
   "nbconvert_exporter": "python",
   "pygments_lexer": "ipython3",
   "version": "3.6.0"
  }
 },
 "nbformat": 4,
 "nbformat_minor": 2
}
