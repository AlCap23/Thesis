{
 "cells": [
  {
   "cell_type": "code",
   "execution_count": 1,
   "metadata": {
    "collapsed": true
   },
   "outputs": [],
   "source": [
    "# Import needed modules\n",
    "import sympy as sp\n",
    "import numpy as numpy\n",
    "from sympy import init_printing\n",
    "init_printing()"
   ]
  },
  {
   "cell_type": "code",
   "execution_count": 2,
   "metadata": {},
   "outputs": [],
   "source": [
    "# Define the symbols\n",
    "# Needed variables for LaPlace Transformation and the Frequency\n",
    "s = sp.symbols('s', positive = True)\n",
    "omega = sp.symbols('omega', positive = True, real = True)\n",
    "# Needed for the plant\n",
    "K, T, L = sp.symbols('K T L', positive = True, real = True)\n",
    "# Needed for PI Controller\n",
    "kp, ki, ti, b = sp.symbols('K_p K_i T_i b', real= True)\n",
    "# Define a FOTD\n",
    "def FOTD(x,y,z):\n",
    "    return x/(y*s+1)*sp.exp(-z*s)\n",
    "# Define a PI\n",
    "def PI(x,y):\n",
    "    return b*x + y/s"
   ]
  },
  {
   "cell_type": "code",
   "execution_count": 3,
   "metadata": {},
   "outputs": [],
   "source": [
    "# Define the plant and the controller\n",
    "G = FOTD(K,T,L).subs(L,0)\n",
    "C = PI(kp,ki)\n",
    "# Define the sensitivity function\n",
    "S = 1/(1+G*C)\n",
    "# Define the complementary sensitivity function\n",
    "CS = sp.simplify(G*C/(1+G*C))\n",
    "# Define the open Loop\n",
    "O = sp.simplify(G*C)"
   ]
  },
  {
   "cell_type": "code",
   "execution_count": 4,
   "metadata": {},
   "outputs": [
    {
     "name": "stdout",
     "output_type": "stream",
     "text": [
      "Open Loop Transfer Function\n"
     ]
    },
    {
     "data": {
      "image/png": "[encoded data removed]",
      "text/latex": [
       "$$\\frac{K \\left(K_{i} + K_{p} b s\\right)}{s \\left(T s + 1\\right)}$$"
      ],
      "text/plain": [
       "K⋅(Kᵢ + Kₚ⋅b⋅s)\n",
       "───────────────\n",
       "  s⋅(T⋅s + 1)  "
      ]
     },
     "execution_count": 4,
     "metadata": {},
     "output_type": "execute_result"
    }
   ],
   "source": [
    "# Change to complex frequency\n",
    "from sympy import I\n",
    "CP_s = (O)\n",
    "CP_s = sp.simplify(CP_s)\n",
    "print('Open Loop Transfer Function') \n",
    "CP_s"
   ]
  },
  {
   "cell_type": "code",
   "execution_count": 5,
   "metadata": {},
   "outputs": [
    {
     "name": "stdout",
     "output_type": "stream",
     "text": [
      "Roots of the characteristic Polynomial\n"
     ]
    },
    {
     "data": {
      "image/png": "[encoded data removed]",
      "text/latex": [
       "$$\\left [ - \\frac{1}{2 T} \\sqrt{2 K^{2} K_{p}^{2} b^{2} - 2 \\sqrt{K^{4} K_{p}^{4} b^{4} + 4 K^{2} K_{i}^{2} T^{2} - 2 K^{2} K_{p}^{2} b^{2} + 1} - 2}, \\quad \\frac{1}{2 T} \\sqrt{2 K^{2} K_{p}^{2} b^{2} - 2 \\sqrt{K^{4} K_{p}^{4} b^{4} + 4 K^{2} K_{i}^{2} T^{2} - 2 K^{2} K_{p}^{2} b^{2} + 1} - 2}, \\quad - \\frac{1}{2 T} \\sqrt{2 K^{2} K_{p}^{2} b^{2} + 2 \\sqrt{K^{4} K_{p}^{4} b^{4} + 4 K^{2} K_{i}^{2} T^{2} - 2 K^{2} K_{p}^{2} b^{2} + 1} - 2}, \\quad \\frac{\\sqrt{2}}{2 T} \\sqrt{K^{2} K_{p}^{2} b^{2} + \\sqrt{K^{4} K_{p}^{4} b^{4} + 4 K^{2} K_{i}^{2} T^{2} - 2 K^{2} K_{p}^{2} b^{2} + 1} - 1}\\right ]$$"
      ],
      "text/plain": [
       "⎡     ____________________________________________________________________    \n",
       "⎢    ╱                    ___________________________________________         \n",
       "⎢   ╱     2   2  2       ╱  4   4  4      2   2  2      2   2  2              \n",
       "⎢-╲╱   2⋅K ⋅Kₚ ⋅b  - 2⋅╲╱  K ⋅Kₚ ⋅b  + 4⋅K ⋅Kᵢ ⋅T  - 2⋅K ⋅Kₚ ⋅b  + 1  - 2    ╲\n",
       "⎢──────────────────────────────────────────────────────────────────────────, ─\n",
       "⎣                                   2⋅T                                       \n",
       "\n",
       "   ____________________________________________________________________       \n",
       "  ╱                    ___________________________________________           ╱\n",
       " ╱     2   2  2       ╱  4   4  4      2   2  2      2   2  2               ╱ \n",
       "╱   2⋅K ⋅Kₚ ⋅b  - 2⋅╲╱  K ⋅Kₚ ⋅b  + 4⋅K ⋅Kᵢ ⋅T  - 2⋅K ⋅Kₚ ⋅b  + 1  - 2   -╲╱  \n",
       "───────────────────────────────────────────────────────────────────────, ─────\n",
       "                                 2⋅T                                          \n",
       "\n",
       "____________________________________________________________________          \n",
       "                    ___________________________________________              ╱\n",
       "    2   2  2       ╱  4   4  4      2   2  2      2   2  2                  ╱ \n",
       " 2⋅K ⋅Kₚ ⋅b  + 2⋅╲╱  K ⋅Kₚ ⋅b  + 4⋅K ⋅Kᵢ ⋅T  - 2⋅K ⋅Kₚ ⋅b  + 1  - 2    √2⋅╲╱  \n",
       "─────────────────────────────────────────────────────────────────────, ───────\n",
       "                              2⋅T                                             \n",
       "\n",
       "________________________________________________________________⎤\n",
       "                ___________________________________________     ⎥\n",
       "  2   2  2     ╱  4   4  4      2   2  2      2   2  2          ⎥\n",
       " K ⋅Kₚ ⋅b  + ╲╱  K ⋅Kₚ ⋅b  + 4⋅K ⋅Kᵢ ⋅T  - 2⋅K ⋅Kₚ ⋅b  + 1  - 1 ⎥\n",
       "────────────────────────────────────────────────────────────────⎥\n",
       "                           2⋅T                                  ⎦"
      ]
     },
     "execution_count": 5,
     "metadata": {},
     "output_type": "execute_result"
    }
   ],
   "source": [
    "# The Absolute value of the \n",
    "CP_o = sp.Abs(CP_s.subs(s,I*omega))\n",
    "# Get the roots \n",
    "Roots = sp.solve(sp.Eq(CP_o-1,0),omega)\n",
    "for i in range(0,len(Roots)-1):\n",
    "    Roots[i] = sp.simplify(Roots[i])\n",
    "print('Roots of the characteristic Polynomial')\n",
    "Roots"
   ]
  },
  {
   "cell_type": "code",
   "execution_count": 35,
   "metadata": {},
   "outputs": [
    {
     "name": "stdout",
     "output_type": "stream",
     "text": [
      "Assume the following relationship\n"
     ]
    }
   ],
   "source": [
    "# Assume a Relationship between kP and kI\n",
    "alpha = sp.symbols('alpha')\n",
    "RL = sp.Eq(ki , alpha*omega)\n",
    "CP_R = CP_o.subs(omega,ki/alpha)\n",
    "ki_sol = sp.solve(sp.Eq(CP_R-1,0),ki)\n",
    "# Get kp \n",
    "KP_EQ = sp.Eq(alpha**2*ki**2,K*kp*ki/T)\n",
    "kp_sol = sp.solve(KP_EQ,kp)\n",
    "print('Assume the following relationship')\n"
   ]
  },
  {
   "cell_type": "code",
   "execution_count": 36,
   "metadata": {},
   "outputs": [
    {
     "data": {
      "image/png": "[encoded data removed]",
      "text/latex": [
       "$$K_{i} = \\alpha \\omega$$"
      ],
      "text/plain": [
       "Kᵢ = α⋅ω"
      ]
     },
     "execution_count": 36,
     "metadata": {},
     "output_type": "execute_result"
    }
   ],
   "source": [
    "RL"
   ]
  },
  {
   "cell_type": "code",
   "execution_count": 37,
   "metadata": {},
   "outputs": [
    {
     "data": {
      "image/png": "[encoded data removed]",
      "text/latex": [
       "$$K_{i}^{2} \\alpha^{2} = \\frac{K_{i} K_{p}}{T} K$$"
      ],
      "text/plain": [
       "  2  2   K⋅Kᵢ⋅Kₚ\n",
       "Kᵢ ⋅α  = ───────\n",
       "            T   "
      ]
     },
     "execution_count": 37,
     "metadata": {},
     "output_type": "execute_result"
    }
   ],
   "source": [
    "KP_EQ"
   ]
  },
  {
   "cell_type": "code",
   "execution_count": 41,
   "metadata": {},
   "outputs": [
    {
     "data": {
      "image/png": "[encoded data removed]",
      "text/latex": [
       "$$\\left ( \\left [ - \\frac{\\alpha}{T} \\sqrt{K^{2} K_{p}^{2} b^{2} + K^{2} \\alpha^{2} - 1}, \\quad \\frac{\\alpha}{T} \\sqrt{K^{2} K_{p}^{2} b^{2} + K^{2} \\alpha^{2} - 1}\\right ], \\quad \\left [ \\frac{K_{i} T}{K} \\alpha^{2}\\right ]\\right )$$"
      ],
      "text/plain": [
       "⎛⎡      _______________________        _______________________⎤           ⎞\n",
       "⎜⎢     ╱  2   2  2    2  2            ╱  2   2  2    2  2     ⎥  ⎡      2⎤⎟\n",
       "⎜⎢-α⋅╲╱  K ⋅Kₚ ⋅b  + K ⋅α  - 1    α⋅╲╱  K ⋅Kₚ ⋅b  + K ⋅α  - 1 ⎥  ⎢Kᵢ⋅T⋅α ⎥⎟\n",
       "⎜⎢──────────────────────────────, ────────────────────────────⎥, ⎢───────⎥⎟\n",
       "⎝⎣              T                              T              ⎦  ⎣   K   ⎦⎠"
      ]
     },
     "execution_count": 41,
     "metadata": {},
     "output_type": "execute_result"
    }
   ],
   "source": [
    "ki_sol, kp_sol"
   ]
  },
  {
   "cell_type": "code",
   "execution_count": 39,
   "metadata": {},
   "outputs": [],
   "source": [
    "EQ1 = sp.Eq(ki_sol[0].subs(kp,kp_sol[0]),ki)\n",
    "EQ2 = sp.Eq(ki_sol[1].subs(kp,kp_sol[0]),ki)"
   ]
  },
  {
   "cell_type": "code",
   "execution_count": 40,
   "metadata": {},
   "outputs": [
    {
     "data": {
      "image/png": "[encoded data removed]",
      "text/latex": [
       "$$\\left ( - \\frac{\\alpha}{T} \\sqrt{K^{2} \\alpha^{2} + K_{i}^{2} T^{2} \\alpha^{4} b^{2} - 1} = K_{i}, \\quad \\frac{\\alpha}{T} \\sqrt{K^{2} \\alpha^{2} + K_{i}^{2} T^{2} \\alpha^{4} b^{2} - 1} = K_{i}\\right )$$"
      ],
      "text/plain": [
       "⎛      __________________________             __________________________     ⎞\n",
       "⎜     ╱  2  2     2  2  4  2                 ╱  2  2     2  2  4  2          ⎟\n",
       "⎜-α⋅╲╱  K ⋅α  + Kᵢ ⋅T ⋅α ⋅b  - 1         α⋅╲╱  K ⋅α  + Kᵢ ⋅T ⋅α ⋅b  - 1      ⎟\n",
       "⎜───────────────────────────────── = Kᵢ, ─────────────────────────────── = Kᵢ⎟\n",
       "⎝                T                                      T                    ⎠"
      ]
     },
     "execution_count": 40,
     "metadata": {},
     "output_type": "execute_result"
    }
   ],
   "source": [
    "EQ1,EQ2"
   ]
  },
  {
   "cell_type": "code",
   "execution_count": 42,
   "metadata": {},
   "outputs": [],
   "source": [
    "SOL1 = sp.solve(EQ1,ki)[0]\n",
    "SOL2 = sp.solve(EQ2,ki)[0]"
   ]
  },
  {
   "cell_type": "code",
   "execution_count": 43,
   "metadata": {},
   "outputs": [
    {
     "data": {
      "image/png": "[encoded data removed]",
      "text/latex": [
       "$$\\frac{\\alpha}{T} \\sqrt{\\frac{- K^{2} \\alpha^{2} + 1}{\\alpha^{6} b^{2} - 1}}$$"
      ],
      "text/plain": [
       "        _____________\n",
       "       ╱    2  2     \n",
       "      ╱  - K ⋅α  + 1 \n",
       "α⋅   ╱   ─────────── \n",
       "    ╱      6  2      \n",
       "  ╲╱      α ⋅b  - 1  \n",
       "─────────────────────\n",
       "          T          "
      ]
     },
     "execution_count": 43,
     "metadata": {},
     "output_type": "execute_result"
    }
   ],
   "source": [
    "SOL1"
   ]
  },
  {
   "cell_type": "code",
   "execution_count": 44,
   "metadata": {},
   "outputs": [
    {
     "data": {
      "image/png": "[encoded data removed]",
      "text/latex": [
       "$$- \\frac{\\alpha}{T} \\sqrt{- \\frac{K^{2} \\alpha^{2} - 1}{\\alpha^{6} b^{2} - 1}}$$"
      ],
      "text/plain": [
       "         _______________ \n",
       "        ╱  ⎛ 2  2    ⎞   \n",
       "       ╱  -⎝K ⋅α  - 1⎠   \n",
       "-α⋅   ╱   ─────────────  \n",
       "     ╱       6  2        \n",
       "   ╲╱       α ⋅b  - 1    \n",
       "─────────────────────────\n",
       "            T            "
      ]
     },
     "execution_count": 44,
     "metadata": {},
     "output_type": "execute_result"
    }
   ],
   "source": [
    "SOL2"
   ]
  },
  {
   "cell_type": "code",
   "execution_count": null,
   "metadata": {
    "collapsed": true
   },
   "outputs": [],
   "source": []
  }
 ],
 "metadata": {
  "kernelspec": {
   "display_name": "Python 2",
   "language": "python",
   "name": "python2"
  },
  "language_info": {
   "codemirror_mode": {
    "name": "ipython",
    "version": 2
   },
   "file_extension": ".py",
   "mimetype": "text/x-python",
   "name": "python",
   "nbconvert_exporter": "python",
   "pygments_lexer": "ipython2",
   "version": "2.7.13"
  }
 },
 "nbformat": 4,
 "nbformat_minor": 2
}
